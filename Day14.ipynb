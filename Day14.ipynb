{
  "nbformat": 4,
  "nbformat_minor": 0,
  "metadata": {
    "colab": {
      "provenance": [],
      "collapsed_sections": []
    },
    "kernelspec": {
      "name": "python3",
      "display_name": "Python 3"
    },
    "language_info": {
      "name": "python"
    }
  },
  "cells": [
    {
      "cell_type": "code",
      "execution_count": null,
      "metadata": {
        "id": "6PE6OGyUCoi2"
      },
      "outputs": [],
      "source": [
        "# Course feedback - halfway check point!"
      ]
    },
    {
      "cell_type": "code",
      "source": [
        "# Revision - Nesting Data Types\n",
        "\n",
        "# List of dictionaries\n",
        "\n",
        "fruits = [{\"name\":\"apple\", \"color\":\"red\"}, {\"name\":\"grape\", \"color\":\"green\"}]\n",
        "\n",
        "print(fruits[1][\"color\"])\n",
        "print(fruits[0][\"name\"])\n",
        "\n",
        "for i in fruits:\n",
        "  #print(i) # i is a dictionary\n",
        "  for k,v in i.items():\n",
        "    print(k, v)\n",
        "\n",
        "\n",
        "print(\"*********\")\n",
        "\n",
        "# Ditcionary containing list\n",
        "\n",
        "office = { \"people\":3  , \"name\":[\"sal\", \"bella\", \"tia\"]   }\n",
        "\n",
        "print(office[\"name\"][1])\n",
        "print(office[\"name\"][2])\n",
        "\n",
        "for v in office.values():\n",
        "  #print(v)\n",
        "  if v!=3:\n",
        "    for i in v:\n",
        "      print(i)\n",
        "\n"
      ],
      "metadata": {
        "colab": {
          "base_uri": "https://localhost:8080/"
        },
        "id": "wI8-bkuOcnPQ",
        "outputId": "88e2fecd-7978-4799-9edc-828d780d4f92"
      },
      "execution_count": 8,
      "outputs": [
        {
          "output_type": "stream",
          "name": "stdout",
          "text": [
            "green\n",
            "apple\n",
            "name apple\n",
            "color red\n",
            "name grape\n",
            "color green\n",
            "*********\n",
            "bella\n",
            "tia\n",
            "sal\n",
            "bella\n",
            "tia\n"
          ]
        }
      ]
    },
    {
      "cell_type": "code",
      "source": [
        "# Functions (aka Methods) - block of code that does a particular task/job.\n",
        "\n",
        "# First, you DEFINE a function. \n",
        "\n",
        "# Then, you CALL the function in your main code, multiple times.\n",
        "\n",
        "\n"
      ],
      "metadata": {
        "id": "BoapMsgGC_QR"
      },
      "execution_count": null,
      "outputs": []
    },
    {
      "cell_type": "code",
      "source": [
        "# Function definition\n",
        "\n",
        "# ----------------------------- function greeting ----------\n",
        "def greeting():\n",
        "  \n",
        "  print(\"Hello, Happy Halloween\")\n",
        "\n",
        "#------------------------------------- end function ---------\n",
        "\n",
        "print(\"Good morning\")\n",
        "greeting()\n",
        "greeting()\n",
        "greeting()\n",
        "print(\"The end\")\n"
      ],
      "metadata": {
        "id": "7abmFRV_E99m",
        "colab": {
          "base_uri": "https://localhost:8080/"
        },
        "outputId": "13377f79-9727-4d02-9f6c-99a6596da093"
      },
      "execution_count": 11,
      "outputs": [
        {
          "output_type": "stream",
          "name": "stdout",
          "text": [
            "Good morning\n",
            "Hello, Happy Halloween\n",
            "Hello, Happy Halloween\n",
            "Hello, Happy Halloween\n",
            "The end\n"
          ]
        }
      ]
    },
    {
      "cell_type": "code",
      "source": [
        "# Passing information to a function\n",
        "\n",
        "# ----------------------------- function greeting ----------\n",
        "def greeting(name):  # name is a parameter\n",
        "  \n",
        "  print(\"Hello, Happy Halloween \", name)\n",
        "\n",
        "#------------------------------------- end function ---------\n",
        "\n",
        "\n",
        "\n",
        "# main code starts here \n",
        "\n",
        "\n",
        "print(\"Good morning\")\n",
        "x =  input(\"Whats your name kid?\")\n",
        "greeting(x) # x is an argument\n",
        "greeting(\"Princess\") # \"princess\" is also an argument\n",
        "greeting(3)\n",
        "print(\"The end\")\n",
        "\n"
      ],
      "metadata": {
        "id": "eceEJxP-FOhM",
        "colab": {
          "base_uri": "https://localhost:8080/"
        },
        "outputId": "44a540f4-9554-42b6-cddf-ab4bf9c53778"
      },
      "execution_count": 14,
      "outputs": [
        {
          "output_type": "stream",
          "name": "stdout",
          "text": [
            "Good morning\n",
            "Whats your name kid?lola\n",
            "Hello, Happy Halloween  lola\n",
            "Hello, Happy Halloween  Princess\n",
            "Hello, Happy Halloween  3\n",
            "The end\n"
          ]
        }
      ]
    },
    {
      "cell_type": "code",
      "source": [
        "def grades():\n",
        "  marks = input(\"Enter your marks\")\n",
        "  print(\"You got \", marks, \"score\")\n",
        "\n",
        "\n",
        "for i in range(3):\n",
        "  grades()\n"
      ],
      "metadata": {
        "colab": {
          "base_uri": "https://localhost:8080/"
        },
        "id": "zmVnPni8i5F-",
        "outputId": "faa76cd9-04a2-420a-a927-2a8f71ee4ee6"
      },
      "execution_count": 16,
      "outputs": [
        {
          "output_type": "stream",
          "name": "stdout",
          "text": [
            "Enter your marks45\n",
            "You got  45 score\n",
            "Enter your marks60\n",
            "You got  60 score\n",
            "Enter your marks90\n",
            "You got  90 score\n"
          ]
        }
      ]
    },
    {
      "cell_type": "code",
      "source": [
        "def grades(name, mark):  \n",
        "  x = mark/10\n",
        "  print(name, \"you got \", x, \"score\")\n",
        "\n",
        "\n",
        "# main code starts here\n",
        "\n",
        "print(\"Final results/grades\")\n",
        "grades(\"Zoe\", 98)\n",
        "grades(\"Ola\", 75)\n",
        "\n",
        "\n"
      ],
      "metadata": {
        "colab": {
          "base_uri": "https://localhost:8080/"
        },
        "id": "mGvZinJwkeKa",
        "outputId": "97686890-73f3-4941-bf56-bd80d6064c7a"
      },
      "execution_count": 18,
      "outputs": [
        {
          "output_type": "stream",
          "name": "stdout",
          "text": [
            "Final results/grades\n",
            "Zoe you got  9.8 score\n",
            "Ola you got  7.5 score\n"
          ]
        }
      ]
    },
    {
      "cell_type": "code",
      "source": [
        "# Argument - belongs to the main code - contains the value.\n",
        "# Parameter - belongs to function definition - is the variable.\n",
        "\n",
        "# Argument and parameter are often used interchangably.\n",
        "\n"
      ],
      "metadata": {
        "id": "OnDQT5oeFSFv"
      },
      "execution_count": null,
      "outputs": []
    },
    {
      "cell_type": "code",
      "source": [
        "#Task 1\n",
        "\n",
        "\"\"\"\n",
        "Create a function that counts the number of characters in a word/sentence.\n",
        "Hint : (use len() function belonging to Strings)\n",
        "\n",
        "In your main code... prompt the user to input a sentence/word and then display \n",
        "how many characters are a part of it.\n",
        "Continue asking the user until they write \"quit\"\n",
        "\n",
        "\"\"\""
      ],
      "metadata": {
        "id": "MLMJvCznoW6a"
      },
      "execution_count": null,
      "outputs": []
    },
    {
      "cell_type": "code",
      "source": [],
      "metadata": {
        "id": "U2H33kOYxXzG"
      },
      "execution_count": 19,
      "outputs": []
    },
    {
      "cell_type": "code",
      "source": [
        "## Variables inside the functions DONOT exist in the main code - \n",
        "## ^ SCOPE\n",
        "\n",
        "#function here\n",
        "def myCloset(y):\n",
        "   jeans = 7\n",
        "   sweaters = 2\n",
        "   print(y) \n",
        "   print(x) # this is not allowed. \n",
        "\n",
        "#main here\n",
        "#print(jeans) #--error: jeans is not exisiting in the main code\n",
        "x =  95\n",
        "myCloset(x)\n"
      ],
      "metadata": {
        "colab": {
          "base_uri": "https://localhost:8080/"
        },
        "id": "nnB8sPV_s_ei",
        "outputId": "f7055145-b488-4e38-afcc-50b820f0aaaf"
      },
      "execution_count": 1,
      "outputs": [
        {
          "output_type": "stream",
          "name": "stdout",
          "text": [
            "95\n"
          ]
        }
      ]
    },
    {
      "cell_type": "code",
      "source": [
        "# Passing Arguments \n",
        "\n",
        "# Case 1 - Positional arguments\n",
        "# order of the arguments matter!!\n",
        "\n",
        "# Pet description\n",
        "\n",
        "def myPet(typePet, namePet):\n",
        "  print(\"Your\", typePet, namePet, \"is adorable!\")\n",
        "\n",
        "\n",
        "#main\n",
        "myPet(\"dog\", \"Coco\")\n",
        "myPet(\"Melowrd\", \"Cat\") ## oopsies!\n",
        "\n",
        "\n"
      ],
      "metadata": {
        "id": "CJYt6u0jGKuM",
        "colab": {
          "base_uri": "https://localhost:8080/"
        },
        "outputId": "384442e2-4eb5-49b6-87d9-cd65613d1949"
      },
      "execution_count": 3,
      "outputs": [
        {
          "output_type": "stream",
          "name": "stdout",
          "text": [
            "Your dog Coco is adorable!\n",
            "Your Melowrd Cat is adorable!\n"
          ]
        }
      ]
    },
    {
      "cell_type": "code",
      "source": [
        "# Function can be called multiple times \n",
        "\n",
        "\n"
      ],
      "metadata": {
        "id": "d2TfFAqeGvD7"
      },
      "execution_count": null,
      "outputs": []
    },
    {
      "cell_type": "code",
      "source": [
        "# Case 2 - Keyword arguments\n",
        "# order of the arguments does NOT matter anymore. \n",
        "# when you use the [ parameter_Name =  value ] in your main code. \n",
        "\n",
        "\n",
        "def myPet(typePet, namePet):\n",
        "  print(\"Your\", typePet, namePet, \"is adorable!\")\n",
        "\n",
        "\n",
        "#main\n",
        "myPet(typePet = \"dog\", namePet = \"Coco\")\n",
        "myPet(namePet = \"Honey\", typePet = \"cat\") ## oopsies!\n",
        "\n",
        "myPet(\"kitty\", namePet=\"Melowrd\")\n",
        "\n",
        "x = input(\"Enter the name of your rabbit\")\n",
        "myPet(\"rabbit\", namePet = x)"
      ],
      "metadata": {
        "id": "cZXMlLZwGx8b",
        "colab": {
          "base_uri": "https://localhost:8080/"
        },
        "outputId": "3781266c-28c9-4949-8561-320da3b9319c"
      },
      "execution_count": 9,
      "outputs": [
        {
          "output_type": "stream",
          "name": "stdout",
          "text": [
            "Your dog Coco is adorable!\n",
            "Your cat Honey is adorable!\n",
            "Your kitty Melowrd is adorable!\n",
            "Enter the name of your rabbitBooboo\n",
            "Your rabbit Booboo is adorable!\n"
          ]
        }
      ]
    },
    {
      "cell_type": "code",
      "source": [
        "# Case 1 or case 2 - which one to use? "
      ],
      "metadata": {
        "id": "5Yaih8i7Hv8a"
      },
      "execution_count": null,
      "outputs": []
    },
    {
      "cell_type": "code",
      "source": [
        "# Adding DEFAULT values\n",
        "\n",
        "def myPet(namePet, typePet = 'dog'):\n",
        "  print(\"Your\", typePet, namePet, \"is adorable!\")\n",
        "\n",
        "myPet(\"Silly\", \"cat\")\n",
        "myPet(\"Wooly\")"
      ],
      "metadata": {
        "id": "qWGfTavBHz0b",
        "colab": {
          "base_uri": "https://localhost:8080/"
        },
        "outputId": "dbc031d6-ac22-4d08-d3c0-9bb7b3a45178"
      },
      "execution_count": 11,
      "outputs": [
        {
          "output_type": "stream",
          "name": "stdout",
          "text": [
            "Your dog Silly is adorable!\n",
            "Your dog Wooly is adorable!\n"
          ]
        }
      ]
    },
    {
      "cell_type": "code",
      "source": [
        "#Task 2\n",
        "\n",
        "\"\"\"\n",
        "Toddler tantrum function\n",
        "function - 2 arguments: mood, want\n",
        " - Happy: \"Sure you can have candy\"\n",
        " - Crying: \"You can have candy if you stop crying\"\n",
        " - default want =candy\n",
        "\n",
        "main.\n",
        "call the function three times\n",
        "(\"Happy\", Cartoons)\n",
        "(\"bear\", \"Crying\")\n",
        "(\"Crying\")\n",
        "\"\"\""
      ],
      "metadata": {
        "id": "6DwYs3Wm5b92"
      },
      "execution_count": null,
      "outputs": []
    },
    {
      "cell_type": "code",
      "source": [
        "\n",
        "# in the next class\n",
        "# Returning a value\n",
        "\n",
        "\n"
      ],
      "metadata": {
        "id": "bo63Br6xIN2D"
      },
      "execution_count": null,
      "outputs": []
    }
  ]
}