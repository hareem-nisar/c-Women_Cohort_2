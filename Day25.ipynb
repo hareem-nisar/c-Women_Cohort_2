{
  "nbformat": 4,
  "nbformat_minor": 0,
  "metadata": {
    "colab": {
      "provenance": []
    },
    "kernelspec": {
      "name": "python3",
      "display_name": "Python 3"
    },
    "language_info": {
      "name": "python"
    }
  },
  "cells": [
    {
      "cell_type": "code",
      "source": [
        "# *******Agenda today*********:\n",
        "\n",
        "# talk about panel discussion on Friday.\n",
        "\"\"\"\n",
        "Panel Members\n",
        "Saudia Rahamat (Facilitator) - https://www.linkedin.com/in/saudiacrahamat/\n",
        "Ilia Francis - https://www.linkedin.com/in/iliafrancis/\n",
        "Mehreen Malik - https://www.linkedin.com/in/mehreen-malik-5281b576/\n",
        "Nazanin Azari - https://www.linkedin.com/in/nazaninazari/\n",
        "\"\"\"\n",
        "\n",
        "# Linkedin test prep link:\n",
        "\n",
        "\"\"\"\n",
        "https://github.com/Ebazhanov/linkedin-skill-assessments-quizzes/blob/main/python/python-quiz.md\n",
        "\n",
        "\"\"\"\n",
        "\n",
        "# Next class - formal project hand-over with assessment details. LinkedIn test Q/A session.\n",
        "\n",
        "# Errors and exceptions\n",
        "\n",
        "# make assignment 7 interactive\n"
      ],
      "metadata": {
        "id": "XMxtY20MsMda"
      },
      "execution_count": null,
      "outputs": []
    },
    {
      "cell_type": "code",
      "source": [
        "\"\"\"\n",
        "STEPS to install a desktop IDE (Spyder)\n",
        "\n",
        "1) Download Anaconda from here: https://www.anaconda.com/\n",
        "2) Install on your computer as  a desktop app\n",
        "3) Open Anaconda Navigator\n",
        "4) Install Spyder (which is an easy to use IDE)\n",
        "\n",
        "\"\"\"\n"
      ],
      "metadata": {
        "id": "meyYOAP3sJRX"
      },
      "execution_count": null,
      "outputs": []
    },
    {
      "cell_type": "code",
      "source": [
        "#example 1 - dividion by Zero\n",
        "\n",
        "print(3/0)\n",
        "\n",
        "print(\"the end\")"
      ],
      "metadata": {
        "colab": {
          "base_uri": "https://localhost:8080/",
          "height": 235
        },
        "id": "w9eEoXVvuxqK",
        "outputId": "6c48c8c9-3baf-4128-a21b-fbe515408e3f"
      },
      "execution_count": 6,
      "outputs": [
        {
          "output_type": "error",
          "ename": "ZeroDivisionError",
          "evalue": "ignored",
          "traceback": [
            "\u001b[0;31m---------------------------------------------------------------------------\u001b[0m",
            "\u001b[0;31mZeroDivisionError\u001b[0m                         Traceback (most recent call last)",
            "\u001b[0;32m<ipython-input-6-cebe9ba3500a>\u001b[0m in \u001b[0;36m<module>\u001b[0;34m\u001b[0m\n\u001b[1;32m      1\u001b[0m \u001b[0;31m#example 1 - dividion by Zero\u001b[0m\u001b[0;34m\u001b[0m\u001b[0;34m\u001b[0m\u001b[0;34m\u001b[0m\u001b[0m\n\u001b[1;32m      2\u001b[0m \u001b[0;34m\u001b[0m\u001b[0m\n\u001b[0;32m----> 3\u001b[0;31m \u001b[0mprint\u001b[0m\u001b[0;34m(\u001b[0m\u001b[0;36m3\u001b[0m\u001b[0;34m/\u001b[0m\u001b[0;36m0\u001b[0m\u001b[0;34m)\u001b[0m\u001b[0;34m\u001b[0m\u001b[0;34m\u001b[0m\u001b[0m\n\u001b[0m\u001b[1;32m      4\u001b[0m \u001b[0;34m\u001b[0m\u001b[0m\n\u001b[1;32m      5\u001b[0m \u001b[0mprint\u001b[0m\u001b[0;34m(\u001b[0m\u001b[0;34m\"the end\"\u001b[0m\u001b[0;34m)\u001b[0m\u001b[0;34m\u001b[0m\u001b[0;34m\u001b[0m\u001b[0m\n",
            "\u001b[0;31mZeroDivisionError\u001b[0m: division by zero"
          ]
        }
      ]
    },
    {
      "cell_type": "code",
      "source": [
        "# using try-except block\n",
        "\n",
        "a = int(input(\"enter a\"))\n",
        "b = int(input(\"enter b\"))\n",
        "\n",
        "try:\n",
        "  c= a/b\n",
        "except ZeroDivisionError: ## or put nothing after except to handle all types of errors. \n",
        "  print(\"you cannot divide a number by 0\")\n",
        "  print(\"try different numbers\")\n",
        "else: \n",
        "  print(\"a/b = \", c)\n",
        "\n",
        "print(\"The end\")"
      ],
      "metadata": {
        "colab": {
          "base_uri": "https://localhost:8080/"
        },
        "id": "Km58xHjzu5oJ",
        "outputId": "f4e2e4fb-894e-497e-e938-78bca5871413"
      },
      "execution_count": 7,
      "outputs": [
        {
          "output_type": "stream",
          "name": "stdout",
          "text": [
            "enter a2\n",
            "enter b0\n",
            "you cannot divide a number by 0\n",
            "try different numbers\n",
            "The end\n"
          ]
        }
      ]
    },
    {
      "cell_type": "code",
      "source": [],
      "metadata": {
        "id": "BfmD8ujW_hnN"
      },
      "execution_count": null,
      "outputs": []
    },
    {
      "cell_type": "code",
      "source": [],
      "metadata": {
        "id": "826NxWLnwQwN"
      },
      "execution_count": null,
      "outputs": []
    },
    {
      "cell_type": "code",
      "execution_count": null,
      "metadata": {
        "id": "A-wsXPvpLrch"
      },
      "outputs": [],
      "source": [
        "# make A7 interactive. \n"
      ]
    }
  ]
}