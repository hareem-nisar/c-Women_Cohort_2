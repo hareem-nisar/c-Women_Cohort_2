{
  "nbformat": 4,
  "nbformat_minor": 0,
  "metadata": {
    "colab": {
      "provenance": [],
      "collapsed_sections": []
    },
    "kernelspec": {
      "name": "python3",
      "display_name": "Python 3"
    },
    "language_info": {
      "name": "python"
    }
  },
  "cells": [
    {
      "cell_type": "code",
      "execution_count": 1,
      "metadata": {
        "id": "Xu0UcO4nSD8u"
      },
      "outputs": [],
      "source": [
        "# revision - For loop\n"
      ]
    },
    {
      "cell_type": "code",
      "source": [
        "# Revision - loop over a string\n",
        "\n",
        "hero = \"SPIDERMAN\"\n",
        "\n",
        "for h in hero:\n",
        "  print(h)"
      ],
      "metadata": {
        "id": "daObAZ8BTEIN",
        "colab": {
          "base_uri": "https://localhost:8080/",
          "height": 0
        },
        "outputId": "43fc32be-51e8-4b88-b34e-f10bd43d610a"
      },
      "execution_count": 2,
      "outputs": [
        {
          "output_type": "stream",
          "name": "stdout",
          "text": [
            "S\n",
            "P\n",
            "I\n",
            "D\n",
            "E\n",
            "R\n",
            "M\n",
            "A\n",
            "N\n"
          ]
        }
      ]
    },
    {
      "cell_type": "code",
      "source": [
        "# Revision - loop over a list\n",
        "\n",
        "super_people = [\"herculeus\", \"wonder woman\", \"thor\"]\n",
        "\n",
        "for sp in super_people:\n",
        "  print(sp)"
      ],
      "metadata": {
        "colab": {
          "base_uri": "https://localhost:8080/",
          "height": 0
        },
        "id": "2NMAwmOeNHNO",
        "outputId": "9ac8f9a7-6741-42af-8765-b822ab0fdb4a"
      },
      "execution_count": 3,
      "outputs": [
        {
          "output_type": "stream",
          "name": "stdout",
          "text": [
            "herculeus\n",
            "wonder woman\n",
            "thor\n"
          ]
        }
      ]
    },
    {
      "cell_type": "code",
      "source": [
        "# Revision - loop through a range of numbers\n",
        "\n",
        "for x in range(1, 3):\n",
        "  print(x)\n",
        "\n",
        "for y in range(1, 300, 100):\n",
        "  print(y)\n",
        "\n",
        "## even numbers between 8 and 16.\n",
        "print(\"even numbers are\")\n",
        "for z in range(8,17,2):\n",
        "  print(z)"
      ],
      "metadata": {
        "colab": {
          "base_uri": "https://localhost:8080/",
          "height": 0
        },
        "id": "x3pmZnZENHUe",
        "outputId": "b3f26103-42a6-413c-aee9-e9e4e03f3749"
      },
      "execution_count": 7,
      "outputs": [
        {
          "output_type": "stream",
          "name": "stdout",
          "text": [
            "1\n",
            "2\n",
            "1\n",
            "101\n",
            "201\n",
            "even numbers are\n",
            "8\n",
            "10\n",
            "12\n",
            "14\n",
            "16\n"
          ]
        }
      ]
    },
    {
      "cell_type": "code",
      "source": [
        "# Revision - Nested for loop\n",
        "\n",
        "for k in [0, 1, 2]:\n",
        "  for j in [\"hello\", \"hazel\"]:\n",
        "    print(k,j)\n",
        "\n",
        "\n"
      ],
      "metadata": {
        "colab": {
          "base_uri": "https://localhost:8080/",
          "height": 0
        },
        "id": "bEBKLPuVNHX6",
        "outputId": "8d03df46-870b-4134-bdf8-383c8fade2ea"
      },
      "execution_count": 8,
      "outputs": [
        {
          "output_type": "stream",
          "name": "stdout",
          "text": [
            "0 hello\n",
            "0 hazel\n",
            "1 hello\n",
            "1 hazel\n",
            "2 hello\n",
            "2 hazel\n"
          ]
        }
      ]
    },
    {
      "cell_type": "code",
      "source": [
        "for k in [0, 1, 2]:\n",
        "  print(k)\n",
        "  for j in [\"hello\", \"hazel\"]:\n",
        "    print(j)"
      ],
      "metadata": {
        "colab": {
          "base_uri": "https://localhost:8080/",
          "height": 0
        },
        "id": "nMtcUQV8ak6F",
        "outputId": "7c917809-889f-4ef5-afa9-62292c1743a8"
      },
      "execution_count": 11,
      "outputs": [
        {
          "output_type": "stream",
          "name": "stdout",
          "text": [
            "0\n",
            "hello\n",
            "hazel\n",
            "1\n",
            "hello\n",
            "hazel\n",
            "2\n",
            "hello\n",
            "hazel\n"
          ]
        }
      ]
    },
    {
      "cell_type": "code",
      "source": [
        "row = 5\n",
        "for i in range(1,row+1):\n",
        "  for j in range(1, i+1):\n",
        "   print(\"*\", end = '')\n",
        "  print()\n"
      ],
      "metadata": {
        "colab": {
          "base_uri": "https://localhost:8080/",
          "height": 0
        },
        "id": "rYYcC5Djayx3",
        "outputId": "cb87e6ba-9676-4b65-f98b-8026a17ce77c"
      },
      "execution_count": 14,
      "outputs": [
        {
          "output_type": "stream",
          "name": "stdout",
          "text": [
            "*\n",
            "**\n",
            "***\n",
            "****\n",
            "*****\n"
          ]
        }
      ]
    },
    {
      "cell_type": "code",
      "source": [
        "\n",
        "\n",
        "for i in range(10):\n",
        "  print(\"ok-\", end='')\n"
      ],
      "metadata": {
        "colab": {
          "base_uri": "https://localhost:8080/",
          "height": 0
        },
        "id": "xTX-72_rb9um",
        "outputId": "3b4dccb2-937b-421a-e1a5-229413714620"
      },
      "execution_count": 16,
      "outputs": [
        {
          "output_type": "stream",
          "name": "stdout",
          "text": [
            "ok-ok-ok-ok-ok-ok-ok-ok-ok-ok-"
          ]
        }
      ]
    },
    {
      "cell_type": "code",
      "source": [
        "# example exercise\n",
        "\"\"\"\n",
        "recreate this output using nested for loops \n",
        "\n",
        "1234567891011121314151617181920\n",
        "*$$$*$$$*$$$*$$$*$$$*$$$*$$$\n",
        "--------------------------------\n",
        "\"\"\""
      ],
      "metadata": {
        "id": "DilqzOrPbe5A"
      },
      "execution_count": null,
      "outputs": []
    },
    {
      "cell_type": "code",
      "source": [],
      "metadata": {
        "id": "ld_vMtKBbfKf"
      },
      "execution_count": null,
      "outputs": []
    },
    {
      "cell_type": "code",
      "source": [
        "# Topics for Day08 - Further on Loops \n",
        "# break(end the loop), continue(skip an iteration), pass(does nothing), else(doesnt work with break)\n"
      ],
      "metadata": {
        "id": "HUwaD_NcTELS"
      },
      "execution_count": null,
      "outputs": []
    },
    {
      "cell_type": "code",
      "source": [
        "## break - immediately exist the loop\n",
        "\n",
        "for i in range(5):\n",
        "  num = int(input(\"Enter a positive number\"))\n",
        "  \n",
        "  if num<0:\n",
        "    break\n",
        "  \n",
        "  print(\"round#\", i+1)\n",
        "\n",
        "print(\"End program\")"
      ],
      "metadata": {
        "colab": {
          "base_uri": "https://localhost:8080/",
          "height": 0
        },
        "id": "8WB62Z4xfoL-",
        "outputId": "ae426706-dc32-4e36-f089-d5b501df7a28"
      },
      "execution_count": 20,
      "outputs": [
        {
          "output_type": "stream",
          "name": "stdout",
          "text": [
            "Enter a positive number90\n",
            "round# 1\n",
            "Enter a positive number98\n",
            "round# 2\n",
            "Enter a positive number-80\n",
            "End program\n"
          ]
        }
      ]
    },
    {
      "cell_type": "code",
      "source": [
        "## continue - skips the rest of  loop\n",
        "\n",
        "for i in range(5):\n",
        "  num = int(input(\"Enter a positive number\"))\n",
        "  \n",
        "  if num<0:\n",
        "    print(\"you entered a wrong number\")\n",
        "    continue\n",
        "  \n",
        "  print(\"round#\", i+1)\n",
        "\n",
        "print(\"End program\")"
      ],
      "metadata": {
        "colab": {
          "base_uri": "https://localhost:8080/",
          "height": 0
        },
        "id": "sxnKYSyYfoQo",
        "outputId": "f3c03a4a-8002-4fdd-d8fd-a898bd8c902f"
      },
      "execution_count": 21,
      "outputs": [
        {
          "output_type": "stream",
          "name": "stdout",
          "text": [
            "Enter a positive number90\n",
            "round# 1\n",
            "Enter a positive number95\n",
            "round# 2\n",
            "Enter a positive number-80\n",
            "Enter a positive number-5\n",
            "Enter a positive number10\n",
            "round# 5\n",
            "End program\n"
          ]
        }
      ]
    },
    {
      "cell_type": "code",
      "source": [
        "\n",
        "\n",
        "for i in range(-3, 4):\n",
        "  if i==0:\n",
        "    break\n",
        "  print(i)"
      ],
      "metadata": {
        "colab": {
          "base_uri": "https://localhost:8080/",
          "height": 0
        },
        "id": "mt1h6SmMoRoo",
        "outputId": "c7d4a170-3711-426e-e45e-b41c8dd9a43e"
      },
      "execution_count": 24,
      "outputs": [
        {
          "output_type": "stream",
          "name": "stdout",
          "text": [
            "-3\n",
            "-2\n",
            "-1\n"
          ]
        }
      ]
    },
    {
      "cell_type": "code",
      "source": [
        "for i in range(-3, 4):\n",
        "  if i==0:\n",
        "    continue\n",
        "  print(i)"
      ],
      "metadata": {
        "colab": {
          "base_uri": "https://localhost:8080/",
          "height": 0
        },
        "id": "l5wO48EUooYS",
        "outputId": "9cfdd21d-c96f-4d07-c092-b7210108c3cc"
      },
      "execution_count": 25,
      "outputs": [
        {
          "output_type": "stream",
          "name": "stdout",
          "text": [
            "-3\n",
            "-2\n",
            "-1\n",
            "1\n",
            "2\n",
            "3\n"
          ]
        }
      ]
    },
    {
      "cell_type": "code",
      "source": [
        "#pass -acts as a placeholder for future code. \n",
        "print(\"hello\")\n",
        "for i in range(3):\n",
        "  pass\n",
        "print(\"kitty\")"
      ],
      "metadata": {
        "colab": {
          "base_uri": "https://localhost:8080/",
          "height": 0
        },
        "id": "ym8pu8IwpJIi",
        "outputId": "badbd010-ba6c-4d19-b8b9-19777da3829e"
      },
      "execution_count": 29,
      "outputs": [
        {
          "output_type": "stream",
          "name": "stdout",
          "text": [
            "hello\n",
            "kitty\n"
          ]
        }
      ]
    },
    {
      "cell_type": "code",
      "source": [
        "print(\"hello\")\n",
        "\n",
        "x = \"ok\"\n",
        "if x == \"ok\":\n",
        "  pass\n",
        "print(\"kitty\")"
      ],
      "metadata": {
        "colab": {
          "base_uri": "https://localhost:8080/"
        },
        "id": "WkkGwefCp1uo",
        "outputId": "460395de-db17-45b8-ad05-4dc1ecf81d4a"
      },
      "execution_count": 30,
      "outputs": [
        {
          "output_type": "stream",
          "name": "stdout",
          "text": [
            "hello\n",
            "kitty\n"
          ]
        }
      ]
    },
    {
      "cell_type": "code",
      "source": [
        "## ELSE with For loop - only executed when the for loop is fully run. \n",
        "##                      doesnt run with break\n",
        "\n",
        "x = int(input(\"enter loop end number\"))\n",
        "\n",
        "for i in range(-3, 4):\n",
        "  if i==0:\n",
        "    continue\n",
        "  print(i)\n",
        "else:\n",
        "  print(\"you did it\")"
      ],
      "metadata": {
        "colab": {
          "base_uri": "https://localhost:8080/"
        },
        "id": "db3vsc5BpJK9",
        "outputId": "2f0c3e09-8edf-416b-b694-ea00b4f6addb"
      },
      "execution_count": 38,
      "outputs": [
        {
          "output_type": "stream",
          "name": "stdout",
          "text": [
            "enter loop end number4\n",
            "-3\n",
            "-2\n",
            "-1\n",
            "1\n",
            "2\n",
            "3\n",
            "you did it\n"
          ]
        }
      ]
    },
    {
      "cell_type": "code",
      "source": [
        "\n"
      ],
      "metadata": {
        "id": "D0SVV50SfoTy"
      },
      "execution_count": null,
      "outputs": []
    },
    {
      "cell_type": "code",
      "source": [
        "# task 2 \n",
        "\"\"\"\n",
        "The mysterious game!!\n",
        "\n",
        "- you win the game if you consecutively enter 5 right inputs (5/5 stars)\n",
        "\n",
        "- user starts with 0 points\n",
        "- you get +1 for each right input (i.e. a positive even number larger than 100)\n",
        "- you get 0 points if you enter an odd number \n",
        "- you get -1 points if the number is less than a 100. \n",
        "\n",
        "- the immediately loose if the user enters a non-numeric value (e.g. hello). \n",
        "  In this case, end the game (hint: use BREAK)\n",
        "\n",
        "- if the user enters a floating point - remain silent, display nothing and move to the next input\n",
        "  (hint: use CONTINUE)\n",
        "\n",
        "\"\"\"\n",
        "\n",
        "print(\"Lets play!\")"
      ],
      "metadata": {
        "colab": {
          "base_uri": "https://localhost:8080/",
          "height": 53
        },
        "id": "gjnXzTr1foWS",
        "outputId": "8c50ea2e-1d98-4e6f-c768-e41ed7414e5a"
      },
      "execution_count": 17,
      "outputs": [
        {
          "output_type": "execute_result",
          "data": {
            "text/plain": [
              "'\\nThe mysterious game!!\\n\\n- you win the game if you consecutively enter 5 right inputs (5/5 stars)\\n\\n- user starts with 0 points\\n- the immediately loose if the user enters a non-numeric value (e.g. hello)\\n\\n'"
            ],
            "application/vnd.google.colaboratory.intrinsic+json": {
              "type": "string"
            }
          },
          "metadata": {},
          "execution_count": 17
        }
      ]
    },
    {
      "cell_type": "code",
      "source": [],
      "metadata": {
        "id": "4l2EEvCdjpc8"
      },
      "execution_count": null,
      "outputs": []
    }
  ]
}