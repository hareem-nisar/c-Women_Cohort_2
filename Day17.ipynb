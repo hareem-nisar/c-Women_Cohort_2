{
  "nbformat": 4,
  "nbformat_minor": 0,
  "metadata": {
    "colab": {
      "provenance": [],
      "collapsed_sections": []
    },
    "kernelspec": {
      "name": "python3",
      "display_name": "Python 3"
    },
    "language_info": {
      "name": "python"
    }
  },
  "cells": [
    {
      "cell_type": "code",
      "execution_count": null,
      "metadata": {
        "colab": {
          "base_uri": "https://localhost:8080/"
        },
        "id": "SEKcS-26-HF3",
        "outputId": "46705700-af54-4286-ddb7-49a9c593e3e9"
      },
      "outputs": [
        {
          "output_type": "stream",
          "name": "stdout",
          "text": [
            "One M shirt coming up in colors: ('red',)\n",
            "One S shirt coming up in colors: ('red', 'blue')\n"
          ]
        }
      ],
      "source": [
        "# revision Functions\n",
        "\n",
        "#Passing arbitrary number of arguments \n",
        "\n",
        "def customShirt(size, *colors):\n",
        "  print(\"One\", size, \"shirt coming up in colors:\", colors)\n",
        "\n",
        "\n",
        "customShirt(\"M\", \"red\")\n",
        "customShirt(\"S\", \"red\", \"blue\")\n",
        "\n",
        "\n",
        "\n"
      ]
    },
    {
      "cell_type": "code",
      "source": [
        "# passing lists (the easy way and the right way)\n",
        "\n",
        "def customShirt(size, listColors):\n",
        "  print(\"One\", size, \"shirt coming up in colors:\", listColors)\n",
        "\n",
        "\n",
        "\n",
        "customShirt(\"S\", [\"red\", \"blue\"])\n",
        "\n",
        "shirtA = [\"pink\", \"yellow\"]\n",
        "customShirt(\"XS\", shirtA) #easy way(not recommended)\n",
        "customShirt(\"XS\", shirtA[:]) # the right way\n"
      ],
      "metadata": {
        "colab": {
          "base_uri": "https://localhost:8080/"
        },
        "id": "hEupwL0N_SOr",
        "outputId": "42c36fea-4308-4ca8-9fce-5746f9d415c4"
      },
      "execution_count": null,
      "outputs": [
        {
          "output_type": "stream",
          "name": "stdout",
          "text": [
            "One S shirt coming up in colors: ['red', 'blue']\n",
            "One XS shirt coming up in colors: ['pink', 'yellow']\n"
          ]
        }
      ]
    },
    {
      "cell_type": "code",
      "source": [
        "## Task 1 \n",
        "\"\"\"\n",
        "Function1  - cost of transport (km, mode)\n",
        "  mode is airplane >> 200$/km\n",
        "  mode is bus >> 20$/km\n",
        "  return the cost\n",
        "\n",
        "Function2 - cost of hotel (nights)\n",
        "   return (nights*50$/night)\n",
        "\n",
        "Function3 - cost of meals(days/nights, type)\n",
        "  type is cafe >> cost=(3xdays)x15$\n",
        "  type is french >> cost = 3xdaysx25$\n",
        "  return cost\n",
        "\n",
        "\n",
        "main\n",
        "1 user will input 4 values\n",
        "call your 3 functions. \n",
        "calculate the total cost of your trip\n",
        "\"\"\""
      ],
      "metadata": {
        "id": "fokPHjRY_wOk"
      },
      "execution_count": null,
      "outputs": []
    },
    {
      "cell_type": "code",
      "source": [
        "## ----- MODULES ---- ##\n",
        "\"\"\"\n",
        "A Module is a collection of functions in a .py file\n",
        "You can write your code in a notebook, thens save/download it as a .py file.\n",
        "And then import the file/functions as a module. \n",
        "\"\"\""
      ],
      "metadata": {
        "id": "RGEK-acKJo01"
      },
      "execution_count": null,
      "outputs": []
    },
    {
      "cell_type": "code",
      "source": [
        "from google.colab import drive\n",
        "drive.mount('/content/gdrive')\n",
        "\n",
        "import sys\n",
        "sys.path.append('/content/gdrive/MyDrive/Colab Notebooks/c-Women Notebooks')"
      ],
      "metadata": {
        "colab": {
          "base_uri": "https://localhost:8080/"
        },
        "id": "FV0oUuEDZr58",
        "outputId": "57149828-0636-418e-f407-865424d1e444"
      },
      "execution_count": 9,
      "outputs": [
        {
          "output_type": "stream",
          "name": "stdout",
          "text": [
            "Mounted at /content/gdrive\n"
          ]
        }
      ]
    },
    {
      "cell_type": "code",
      "source": [],
      "metadata": {
        "id": "RKd_5MeZZ8tc"
      },
      "execution_count": 19,
      "outputs": []
    },
    {
      "cell_type": "code",
      "source": [
        "\n",
        "import travel\n",
        "\n",
        "km_input = 2000\n",
        "mode_input = \"bus\"\n",
        "nightDay_input = 3\n",
        "food_type_input = \"cafe\"\n",
        "\n",
        "\n",
        "x = travel.transport(km_input, mode_input)\n",
        "y = travel.hotel(nightDay_input)\n",
        "z = travel.meals(nightDay_input, food_type_input)\n",
        "\n",
        "print(\"Total cost of your travel would be $\"+ str(x + y + z))\n",
        "# ^ Jignasa's code"
      ],
      "metadata": {
        "colab": {
          "base_uri": "https://localhost:8080/"
        },
        "id": "mght5Nq0Jo6d",
        "outputId": "62ea5191-4356-46fa-e8bc-effe7248878a"
      },
      "execution_count": 20,
      "outputs": [
        {
          "output_type": "stream",
          "name": "stdout",
          "text": [
            "Total cost of your travel would be $40285\n"
          ]
        }
      ]
    },
    {
      "cell_type": "code",
      "source": [
        "from travel import transport, hotel\n",
        "from travel import *\n",
        " \n",
        "km_input = 2000\n",
        "mode_input = \"bus\"\n",
        "nightDay_input = 3\n",
        "food_type_input = \"cafe\"\n",
        "\n",
        "\n",
        "x = transport(km_input, mode_input)\n",
        "y = hotel(nightDay_input)\n",
        "z = meals(nightDay_input, food_type_input)\n",
        "\n",
        "print(\"Total cost of your travel would be $\"+ str(x + y + z))\n",
        "# ^ Jignasa's code"
      ],
      "metadata": {
        "colab": {
          "base_uri": "https://localhost:8080/"
        },
        "id": "eT5-bv2Eb5xv",
        "outputId": "7196aebc-c41c-4993-8039-5d67498abaa3"
      },
      "execution_count": 22,
      "outputs": [
        {
          "output_type": "stream",
          "name": "stdout",
          "text": [
            "Total cost of your travel would be $40285\n"
          ]
        }
      ]
    },
    {
      "cell_type": "code",
      "source": [
        "from travel import transport as tp\n",
        "from travel import *\n",
        " \n",
        "km_input = 2000\n",
        "mode_input = \"bus\"\n",
        "nightDay_input = 3\n",
        "food_type_input = \"cafe\"\n",
        "\n",
        "\n",
        "x = tp(km_input, mode_input)\n",
        "y = hotel(nightDay_input)\n",
        "z = meals(nightDay_input, food_type_input)\n",
        "\n",
        "print(\"Total cost of your travel would be $\"+ str(x + y + z))\n",
        "# ^ Jignasa's code"
      ],
      "metadata": {
        "id": "R3a1rDwzYXgr",
        "colab": {
          "base_uri": "https://localhost:8080/"
        },
        "outputId": "8228e038-e080-466e-8b64-ba4859a5efe4"
      },
      "execution_count": 23,
      "outputs": [
        {
          "output_type": "stream",
          "name": "stdout",
          "text": [
            "Total cost of your travel would be $40285\n"
          ]
        }
      ]
    },
    {
      "cell_type": "code",
      "source": [
        "import travel as t\n",
        "\n",
        "print(t.transport(1000, \"bus\"))\n",
        "print(t.hotel(3))"
      ],
      "metadata": {
        "colab": {
          "base_uri": "https://localhost:8080/"
        },
        "id": "tIKRU_Dqczjf",
        "outputId": "a39326b3-a786-434f-c347-f55214248df8"
      },
      "execution_count": 25,
      "outputs": [
        {
          "output_type": "stream",
          "name": "stdout",
          "text": [
            "20000\n",
            "150\n"
          ]
        }
      ]
    },
    {
      "cell_type": "code",
      "source": [
        "c = travel.meals(5, \"french\")"
      ],
      "metadata": {
        "id": "Kw-OyqkWdFva"
      },
      "execution_count": 26,
      "outputs": []
    },
    {
      "cell_type": "code",
      "source": [],
      "metadata": {
        "id": "yiLRsvvcd0Va"
      },
      "execution_count": 29,
      "outputs": []
    },
    {
      "cell_type": "code",
      "source": [],
      "metadata": {
        "colab": {
          "base_uri": "https://localhost:8080/"
        },
        "id": "fyT5XZwnlWtD",
        "outputId": "a377a282-535a-4ce7-afac-e922b20f6a60"
      },
      "execution_count": 30,
      "outputs": [
        {
          "output_type": "stream",
          "name": "stdout",
          "text": [
            "5070\n"
          ]
        }
      ]
    },
    {
      "cell_type": "code",
      "source": [],
      "metadata": {
        "id": "Y8sa5Oiqmdzc"
      },
      "execution_count": null,
      "outputs": []
    }
  ]
}