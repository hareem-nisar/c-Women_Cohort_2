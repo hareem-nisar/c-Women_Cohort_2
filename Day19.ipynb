{
  "nbformat": 4,
  "nbformat_minor": 0,
  "metadata": {
    "colab": {
      "provenance": []
    },
    "kernelspec": {
      "name": "python3",
      "display_name": "Python 3"
    },
    "language_info": {
      "name": "python"
    }
  },
  "cells": [
    {
      "cell_type": "code",
      "execution_count": 7,
      "metadata": {
        "id": "-zqkmN3Elfzs",
        "colab": {
          "base_uri": "https://localhost:8080/"
        },
        "outputId": "ec36b2ef-bba2-41d0-8a27-1faeb51acb7b"
      },
      "outputs": [
        {
          "output_type": "stream",
          "name": "stdout",
          "text": [
            "\n",
            " A new object is created\n",
            "\n",
            " A new object is created\n",
            "A is an employee named Albert\n",
            "B is a student with ID 1200\n"
          ]
        }
      ],
      "source": [
        "# Revision -- Classes and Objects\n",
        "\n",
        "# Example - University directory (Employees, staff, students)\n",
        "\n",
        "class University():\n",
        "   \n",
        "  def __init__(self, n, i):\n",
        "     print(\"\\n A new object is created\")\n",
        "     self.name = n\n",
        "     self.id = i\n",
        "    \n",
        "  def getID(self):\n",
        "    return self.id\n",
        "  \n",
        "  def firstName(self):\n",
        "    fname, lname = self.name.split()\n",
        "    return fname\n",
        "\n",
        "\n",
        "###  MAIN Code\n",
        "\n",
        "A = University(\"Albert Einstein\", 1788)\n",
        "B = University(\"Hareem Nisar\", 1200)\n",
        "\n",
        "print(\"A is an employee named\", A.firstName() )\n",
        "print(\"B is a student with ID\", B.getID() )\n"
      ]
    },
    {
      "cell_type": "code",
      "source": [
        "\"\"\"\n",
        "Task 1 - \n",
        "Make a class called Planet(). \n",
        "Each planet will have its size(diameter) and color attribute. \n",
        "Also create two methods called getArea() and getDiameter()\n",
        "that return the area and diameter of your planet respectively.\n",
        "\n",
        "sphere planet area = 3.14*diameter\n",
        "cube area = side*side*side\n",
        "\n",
        "In your main code, create two objects(or planets).\n",
        "Print the color of the larger planet (Hint: use methods to compare the size)\n",
        "\n",
        "Sample output:\n",
        "A new planet is born: green and 150cm in size\n",
        "A new planet is born: black and 100cm in size \n",
        "The green planet is larger.\n",
        "\n",
        "\"\"\"\n"
      ],
      "metadata": {
        "id": "vnC54O9VoDR6"
      },
      "execution_count": null,
      "outputs": []
    },
    {
      "cell_type": "code",
      "source": [
        "# Inheritance\n",
        "# Overriding methods\n",
        "\n",
        "class University(): #PARENT CLASS / SUPERCLASS\n",
        "  def __init__(self, n, i):\n",
        "     print(\"\\n A new object is created\")\n",
        "     self.name = n\n",
        "     self.id = i   \n",
        "  def getID(self):\n",
        "    return self.id\n",
        "  def firstName(self):\n",
        "    fname, lname = self.name.split()\n",
        "    return fname\n",
        "  def fullName(self):\n",
        "    return self.name\n",
        "\n",
        "class Employee(University): #CHILD CLASS\n",
        "  def __init__(self, n, i, s, t):\n",
        "    super().__init__(n, i)\n",
        "    #self.name = n\n",
        "    #self.id = i\n",
        "    self.salary = s\n",
        "    self.title = t\n",
        "  def printAnnualSalary(self):\n",
        "    print(self.name, \"earns\", self.salary*12, \"per year\")\n",
        "  def fullName(self):\n",
        "    return (self.title + \". \" + self.name)\n",
        "\n",
        "class Student(University): #Another CHILD CLASS\n",
        "  def __init__(self, n, i, cl):\n",
        "    super().__init__(n, i)\n",
        "    self.courseList = cl\n",
        "  def numCourses(self):\n",
        "    x = len(self.courseList)\n",
        "    return x\n",
        "\n",
        "\n",
        "\n",
        "###  MAIN Code\n",
        "A = University(\"Albert Einstein\", 1788)\n",
        "print(\"A is an employee named\", A.firstName() )\n",
        "\n",
        "B = University(\"Hareem Nisar\", 1200)\n",
        "print(\"B is a student with ID\", B.getID() )\n",
        "\n",
        "C = Employee(\"Aysha Mansoor\", 8597, 5000, \"Prof\")\n",
        "print(C.firstName() )\n",
        "print(C.fullName() )\n",
        "C.printAnnualSalary()\n",
        "\n",
        "\n",
        "D = Student(\"Mandeep\", 11, [\"Python\", \"Java\", \"C++\"])\n",
        "print(D.getID())\n",
        "#D.printAnnualSalary #error\n",
        "print(\"You are taking \", D.numCourses(), \"courses\")\n",
        "\n",
        "E = University(\"John Doe\", 1155)\n",
        "print(E.fullName())\n",
        "\n",
        "F = Employee(\"Majid Maqbool\", 567, 5000, \"Dr\")\n",
        "print(F.fullName())"
      ],
      "metadata": {
        "id": "zONHWkSZoDeJ",
        "colab": {
          "base_uri": "https://localhost:8080/"
        },
        "outputId": "a0cc1f1a-2b98-48fe-c1fb-ec81d2c46a1c"
      },
      "execution_count": 23,
      "outputs": [
        {
          "output_type": "stream",
          "name": "stdout",
          "text": [
            "\n",
            " A new object is created\n",
            "A is an employee named Albert\n",
            "\n",
            " A new object is created\n",
            "B is a student with ID 1200\n",
            "\n",
            " A new object is created\n",
            "Aysha\n",
            "Prof. Aysha Mansoor\n",
            "Aysha Mansoor earns 60000 per year\n",
            "\n",
            " A new object is created\n",
            "11\n",
            "You are taking  3 courses\n",
            "\n",
            " A new object is created\n",
            "John Doe\n",
            "\n",
            " A new object is created\n",
            "Dr. Majid Maqbool\n"
          ]
        }
      ]
    },
    {
      "cell_type": "code",
      "source": [],
      "metadata": {
        "id": "EQEWP0X6oFsU"
      },
      "execution_count": null,
      "outputs": []
    },
    {
      "cell_type": "code",
      "source": [],
      "metadata": {
        "id": "hbOrM0gMom_A"
      },
      "execution_count": null,
      "outputs": []
    },
    {
      "cell_type": "code",
      "source": [
        "\"\"\"\n",
        "Task 2:\n",
        "\n",
        "Modify task 1\n",
        "PLANET is now a parent/super class. Create a child class called LifePlanet.\n",
        "LifePlanets are awesome since they have water and creatures on them.\n",
        "\n",
        "The constructor for LifePlanet will take in three parameters(color, size, listCreatures)\n",
        "listCreatures is an attribute/variable - it a list of creatures that exist on your planet. \n",
        "\n",
        "LifePlanet also has a new additional method/function called favoriteCreature. \n",
        "Inside this method, print out the last creature in your list.\n",
        "\n",
        "Inside your main, create 1 object/planet belonging to Planet and 2 objects/planets belonging to LifePlanet\n",
        "Print out the favorite creatures for the two LifePLanet objects. \n",
        "\n",
        "SAMPLE OUTPUT:\n",
        "\n",
        "Planet X is blue and 25cm wide\n",
        "Planet Y is green and 20 cm wide with many creatures\n",
        "Planet Z is purple and 50 cm wide with many creatures\n",
        "Y's favorite creature is a Mermaid\n",
        "Z's favorite creature is a Talking Teapot\n",
        "\n",
        "\"\"\""
      ],
      "metadata": {
        "id": "86_9dahRo4WO"
      },
      "execution_count": null,
      "outputs": []
    },
    {
      "cell_type": "code",
      "source": [],
      "metadata": {
        "id": "GtOuAOSgo6rE"
      },
      "execution_count": null,
      "outputs": []
    }
  ]
}