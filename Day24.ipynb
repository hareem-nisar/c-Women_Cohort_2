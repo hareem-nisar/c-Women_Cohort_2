{
  "nbformat": 4,
  "nbformat_minor": 0,
  "metadata": {
    "colab": {
      "provenance": []
    },
    "kernelspec": {
      "name": "python3",
      "display_name": "Python 3"
    },
    "language_info": {
      "name": "python"
    }
  },
  "cells": [
    {
      "cell_type": "code",
      "execution_count": null,
      "metadata": {
        "id": "PXSm8fNiU7AV"
      },
      "outputs": [],
      "source": []
    },
    {
      "cell_type": "code",
      "source": [
        "from google.colab import drive\n",
        "drive.mount('/content/gdrive')\n",
        "\n",
        "import sys\n",
        "sys.path.append('/content/gdrive/MyDrive/Colab Notebooks/c-Women Notebooks')\n",
        "\n",
        "import os\n",
        "os.chdir('/content/gdrive/MyDrive/Colab Notebooks/c-Women Notebooks')\n"
      ],
      "metadata": {
        "colab": {
          "base_uri": "https://localhost:8080/"
        },
        "id": "HWtof8ySZOx6",
        "outputId": "06a8a6ee-183c-4696-c8ee-e9929580bfff"
      },
      "execution_count": 1,
      "outputs": [
        {
          "output_type": "stream",
          "name": "stdout",
          "text": [
            "Mounted at /content/gdrive\n"
          ]
        }
      ]
    },
    {
      "cell_type": "code",
      "source": [
        "# FILES \n",
        "\n",
        "# reading all the file \n",
        "with open('benedict.txt') as file_object:   ### with + open are keywords. file_object is a variable\n",
        "  #print(type(file_object))\n",
        "  contents = file_object.read() \n",
        "  print(contents)"
      ],
      "metadata": {
        "colab": {
          "base_uri": "https://localhost:8080/"
        },
        "id": "DgxmgZ8HWbLw",
        "outputId": "6c6238e7-3d30-4ef4-d676-953af8e1d6fb"
      },
      "execution_count": 7,
      "outputs": [
        {
          "output_type": "stream",
          "name": "stdout",
          "text": [
            "<class '_io.TextIOWrapper'>\n",
            "Sherlock Holmes\n",
            "Dr. Stephen Strange\n",
            "Thomas Edison\n",
            "Alan Turing\n"
          ]
        }
      ]
    },
    {
      "cell_type": "code",
      "source": [
        "#reading line by line\n",
        "fname = 'benedict.txt'\n",
        "with open(fname) as file_object: \n",
        "  for line in file_object:\n",
        "    print(\"***\", line)"
      ],
      "metadata": {
        "colab": {
          "base_uri": "https://localhost:8080/"
        },
        "id": "wC_Iw2wiZyAy",
        "outputId": "33b1dd88-e470-4750-be08-cfe7eeb3ff13"
      },
      "execution_count": 8,
      "outputs": [
        {
          "output_type": "stream",
          "name": "stdout",
          "text": [
            "*** Sherlock Holmes\n",
            "\n",
            "*** Dr. Stephen Strange\n",
            "\n",
            "*** Thomas Edison\n",
            "\n",
            "*** Alan Turing\n",
            "\n",
            "*** Smaug\n"
          ]
        }
      ]
    },
    {
      "cell_type": "code",
      "source": [
        "# TASK 1\n",
        "\n",
        "\"\"\"\n",
        "Save random numbers in a text file\n",
        "read that file in your program and display the sum all your numbers.\n",
        "\"\"\""
      ],
      "metadata": {
        "id": "g0JHhVZAdLO0"
      },
      "execution_count": null,
      "outputs": []
    },
    {
      "cell_type": "code",
      "source": [
        "# writing to an empty/new file \n",
        "fname = 'food.txt'\n",
        "with open(fname, 'w') as fObject:\n",
        "  fObject.write(\"I love cheese.\\n\")\n",
        "  fObject.write(\"I am a mouse.\")\n",
        "\n",
        "# HOW to write on separate lines?\n"
      ],
      "metadata": {
        "id": "BHpkM7AxWbOg"
      },
      "execution_count": 10,
      "outputs": []
    },
    {
      "cell_type": "code",
      "source": [
        "#append to an existing file\n",
        "fname = 'food.txt'\n",
        "with open(fname, 'a') as file_object: #a means append\n",
        "  file_object.write(\"I love bananas.\\n\") \n",
        "  file_object.write(\"I am a monkey.\")"
      ],
      "metadata": {
        "id": "kdLIhPGSiO78"
      },
      "execution_count": 11,
      "outputs": []
    },
    {
      "cell_type": "code",
      "source": [
        "# TASK 2\n",
        "## Open an excel file and read data from it.\n",
        "fname = 'Numbers.txt'\n",
        "with open(fname, 'w') as file_object: #a means append\n",
        "  file_object.write(\"10\\n\") \n",
        "  file_object.write(\"20\\n\")\n",
        "  file_object.write(\"30\\n\") \n",
        "  file_object.write(\"40\\n\")\n",
        "sum = 0\n",
        "with open(fname) as file_object:\n",
        "  print(\"The following number is\")\n",
        "  for line in file_object:\n",
        "    print(line)\n",
        "    sum = int(line)+sum\n",
        "print(\"The sum of the numbers is\", sum)\n"
      ],
      "metadata": {
        "colab": {
          "base_uri": "https://localhost:8080/"
        },
        "id": "d2Fn2O0AWbS-",
        "outputId": "52d342f2-11e7-472b-8059-121968b11971"
      },
      "execution_count": 16,
      "outputs": [
        {
          "output_type": "stream",
          "name": "stdout",
          "text": [
            "The following number is\n",
            "10\n",
            "\n",
            "20\n",
            "\n",
            "30\n",
            "\n",
            "40\n",
            "\n",
            "The sum of the numbers is 100\n"
          ]
        }
      ]
    },
    {
      "cell_type": "code",
      "source": [],
      "metadata": {
        "id": "i5oBG1ziCGmY"
      },
      "execution_count": null,
      "outputs": []
    }
  ]
}