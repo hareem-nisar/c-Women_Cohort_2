{
  "nbformat": 4,
  "nbformat_minor": 0,
  "metadata": {
    "colab": {
      "provenance": [],
      "collapsed_sections": []
    },
    "kernelspec": {
      "name": "python3",
      "display_name": "Python 3"
    },
    "language_info": {
      "name": "python"
    }
  },
  "cells": [
    {
      "cell_type": "code",
      "source": [
        "\"\"\"\n",
        "Day 02 Revision\n",
        "\"\"\"\n",
        "#print value through variables\n",
        "x = 7\n",
        "y = \"Hello\"\n",
        "z = \"World\"\n",
        "\n",
        "print(y, z, x)\n",
        "\n",
        "#print a concatenated string\n",
        "a = y+ \" \" +z\n",
        "print(a)\n",
        "\n",
        "#using type()\n",
        "print(type(a))\n",
        "\n",
        "#user input\n",
        "print(\"Please enter your favorite number\")\n",
        "v = input()\n",
        "\n",
        "#casting\n",
        "num1 = int(v) #gives error if input was a decimal \n",
        "num2 = float(v)\n",
        "\n",
        "print(v, num1, num2)"
      ],
      "metadata": {
        "colab": {
          "base_uri": "https://localhost:8080/"
        },
        "id": "9hint022alYf",
        "outputId": "565a7850-0659-4c8b-c745-34bb6cd3b0c0"
      },
      "execution_count": 8,
      "outputs": [
        {
          "output_type": "stream",
          "name": "stdout",
          "text": [
            "Hello World 7\n",
            "Hello World\n",
            "<class 'str'>\n",
            "Please enter your favorite number\n",
            "50\n",
            "50 50 50.0\n"
          ]
        }
      ]
    },
    {
      "cell_type": "code",
      "source": [
        "str3 = \"30\"\n",
        "print(int(str3))\n",
        "print(float(str3))\n",
        "\n",
        "str4 = \"30.0\"\n",
        "#print(int(str4)) #error\n",
        "print(float(str4))\n",
        "\n",
        "num3 = 9.5\n",
        "print(int(num3))"
      ],
      "metadata": {
        "colab": {
          "base_uri": "https://localhost:8080/"
        },
        "id": "qjBLtutGo_vn",
        "outputId": "927c3aec-d99a-4ec7-d06a-0f2f8a2d7437"
      },
      "execution_count": 10,
      "outputs": [
        {
          "output_type": "stream",
          "name": "stdout",
          "text": [
            "30\n",
            "30.0\n",
            "30.0\n",
            "9\n"
          ]
        }
      ]
    },
    {
      "cell_type": "code",
      "execution_count": null,
      "metadata": {
        "id": "aBd2WI7OuN94"
      },
      "outputs": [],
      "source": [
        "\"\"\"\n",
        "TOPICS for Day 03\n",
        "•\tBoolean\n",
        "•\tLogic Design\n",
        "•\tString ‘This’ vs “that”\n",
        "•\tString.title(), .upper(), .lower(), variable*2\n",
        "•\tfull_name = first_name + \" \" + last_name\n",
        "•\tLoop through a string (later)\n",
        "•\tLength of a string\n",
        "• split() and strip()\n",
        "#https://www.w3schools.com/python/python_strings_methods.asp\n",
        "\"\"\""
      ]
    },
    {
      "cell_type": "code",
      "source": [
        "#booleans - True/False    0/1 0/AnyNumber\n",
        "\n",
        "x = True\n",
        "y = False\n",
        "\n",
        "num4 = 0\n",
        "print(bool(num4)) #False\n",
        "\n",
        "num5 = -75\n",
        "print(bool(num5)) #True\n"
      ],
      "metadata": {
        "colab": {
          "base_uri": "https://localhost:8080/"
        },
        "id": "Xqus8ArwqA28",
        "outputId": "6ea26395-999d-4d23-d7c3-b314c62327ed"
      },
      "execution_count": 14,
      "outputs": [
        {
          "output_type": "stream",
          "name": "stdout",
          "text": [
            "False\n",
            "True\n"
          ]
        }
      ]
    },
    {
      "cell_type": "code",
      "source": [
        "d1 = True\n",
        "d2 = False\n",
        "d3 = 7>8   #False\n",
        "d4 = 8>5   #True\n",
        "d5 = 8==9  #False\n",
        "d6 = \"hello\" == \"hello\" #True\n",
        "d7 = 8!=9  #True\n",
        "d8 = 8>=5  #True\n",
        "d9 = 8>=15 #False\n"
      ],
      "metadata": {
        "colab": {
          "base_uri": "https://localhost:8080/"
        },
        "id": "o50DFc5crTWw",
        "outputId": "96f0cfa2-249a-43e0-b9cf-bfc42804f781"
      },
      "execution_count": 15,
      "outputs": [
        {
          "output_type": "stream",
          "name": "stdout",
          "text": [
            "True\n"
          ]
        }
      ]
    },
    {
      "cell_type": "code",
      "source": [
        "# AND      a & b ... if A and B is true, the answer is True \n",
        "\n",
        "f1 = True and False     #False\n",
        "f2 = False & False    #False\n",
        "f3 = True & True      #True\n",
        "f4 = False & True     #False\n",
        "f5 = bool(8) & bool(0)   #False\n",
        "f6 = bool(8) & bool(-7)   #True \n",
        "\n",
        "#rint(f1)\n",
        "\n",
        "\n",
        "# OR        a or b .... if either A OR B is true, then answer is True\n",
        "e1 = True | False   #True\n",
        "e2 = False or False   #False\n",
        "e3 = bool(7) or bool(-8)  #True\n",
        "e4 = bool(0) or bool(10)   #True\n",
        "\n",
        "#print(e1)\n",
        "\n",
        "\n",
        "\n",
        "# NOT \n",
        "\n",
        "g1 = not True #False\n",
        "g2 = not 8>9  #True\n",
        "g3 = not 9!=9 #True"
      ],
      "metadata": {
        "colab": {
          "base_uri": "https://localhost:8080/"
        },
        "id": "NpvhsReouBU2",
        "outputId": "7bfbeac8-f59b-4663-9855-0fe0f1ae195a"
      },
      "execution_count": 22,
      "outputs": [
        {
          "output_type": "stream",
          "name": "stdout",
          "text": [
            "False\n",
            "True\n"
          ]
        }
      ]
    },
    {
      "cell_type": "code",
      "source": [
        "# lineA..\n",
        "# if (True):\n",
        "#   lineB do this\n",
        "# lineC...\n",
        "\n",
        "print(\"hello\")\n",
        "if (9>10): \n",
        "  print(\"orange\")\n",
        "print(\"man\")\n"
      ],
      "metadata": {
        "colab": {
          "base_uri": "https://localhost:8080/"
        },
        "id": "pu2Dq0G34F3f",
        "outputId": "91700ae1-e73e-42b9-c6fa-35b29509f576"
      },
      "execution_count": 26,
      "outputs": [
        {
          "output_type": "stream",
          "name": "stdout",
          "text": [
            "hello\n",
            "man\n"
          ]
        }
      ]
    },
    {
      "cell_type": "code",
      "source": [
        "# Boolean Task \n",
        "#Ask two users to enter their name and age. \n",
        "# Print out somehting like: A is 6 years older than B. "
      ],
      "metadata": {
        "id": "_buQ4-Zge0Pu"
      },
      "execution_count": null,
      "outputs": []
    },
    {
      "cell_type": "code",
      "source": [
        "# Brainstorming TASK \n",
        "# CN tower has a front door for vistors and a back door for employees\n",
        "# \n",
        "# What is the people count inside the building?\n",
        "\n",
        "in_employees = 50\n",
        "out_employees = 2\n",
        "in_visitors = 500\n",
        "out_visitors = 200\n",
        "\n",
        "in_people = in_employees + in_visitors\n",
        "out_people = out_employees + out_visitors\n",
        "\n",
        "total_people_inside = in_people - out_people\n",
        "print(\"There are\", total_people_inside, \"people inside the building\")\n",
        "\n",
        "\n",
        "\n"
      ],
      "metadata": {
        "colab": {
          "base_uri": "https://localhost:8080/"
        },
        "id": "cXkMlZPvdAuz",
        "outputId": "251ef7ed-e49a-4fad-c3ff-40708e7d6860"
      },
      "execution_count": 28,
      "outputs": [
        {
          "output_type": "stream",
          "name": "stdout",
          "text": [
            "There are 348 people inside the building\n"
          ]
        }
      ]
    },
    {
      "cell_type": "code",
      "source": [
        "# String task\n",
        "# menu options - waffles, 3"
      ],
      "metadata": {
        "id": "GU3GO-X4fGUu"
      },
      "execution_count": null,
      "outputs": []
    },
    {
      "cell_type": "code",
      "source": [
        "x = \"Hello;World\"\n",
        "print(x.split())"
      ],
      "metadata": {
        "colab": {
          "base_uri": "https://localhost:8080/"
        },
        "id": "BWRBHjCyeuy7",
        "outputId": "9c4d6be6-63d1-4fe9-f852-84639c5dcdc0"
      },
      "execution_count": 1,
      "outputs": [
        {
          "output_type": "stream",
          "name": "stdout",
          "text": [
            "['Hello', 'World']\n"
          ]
        }
      ]
    },
    {
      "cell_type": "code",
      "source": [],
      "metadata": {
        "id": "n1sTVEklfY_6"
      },
      "execution_count": null,
      "outputs": []
    }
  ]
}