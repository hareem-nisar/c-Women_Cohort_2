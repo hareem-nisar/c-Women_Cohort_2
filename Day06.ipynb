{
  "nbformat": 4,
  "nbformat_minor": 0,
  "metadata": {
    "colab": {
      "provenance": [],
      "collapsed_sections": []
    },
    "kernelspec": {
      "name": "python3",
      "display_name": "Python 3"
    },
    "language_info": {
      "name": "python"
    }
  },
  "cells": [
    {
      "cell_type": "code",
      "execution_count": 2,
      "metadata": {
        "colab": {
          "base_uri": "https://localhost:8080/"
        },
        "id": "YnMMyPLvkVHy",
        "outputId": "f3de6363-cbbb-411c-eb82-e1f23a51e2e0"
      },
      "outputs": [
        {
          "output_type": "stream",
          "name": "stdout",
          "text": [
            "You have to pay extra\n",
            "Hello\n"
          ]
        }
      ],
      "source": [
        "## Revision - If condition\n",
        "\n",
        "weight = 25\n",
        "\n",
        "if weight > 35:\n",
        "  print(\"This isnt allowed\")\n",
        "elif weight > 23:\n",
        "  print('You have to pay extra')\n",
        "else:\n",
        "  print(\"You're good to go\")\n",
        "\n",
        "# NESTING\n",
        "\n",
        "if True: \n",
        "  if True:\n",
        "    print(\"Hello\")\n",
        "  elif True:\n",
        "    print(\"world\")\n",
        "else:\n",
        "  print(\"Earth\")\n",
        "\n",
        "# Q2 practice revision\n",
        "# Calculator \n"
      ]
    },
    {
      "cell_type": "code",
      "source": [
        "# Patience's code\n",
        "\n",
        "number_1 = float(input(\"Enter first number:\"))\n",
        "math_operation = input(\"Enter math operation:\")\n",
        "number_2 = float(input(\"Enter second number:\"))\n",
        "if math_operation == \"-\":\n",
        "  print(\"Result:\", number_1 - number_2)\n",
        "elif math_operation == \"+\":\n",
        "  print(\"Result:\", number_1 + number_2)\n",
        "elif math_operation == \"*\":\n",
        "  print(\"Result:\", number_1 * number_2)\n",
        "elif math_operation == \"/\":\n",
        "  print(\"Result:\", number_1 / number_2)\n",
        "else:\n",
        "  print(\"error\")\n"
      ],
      "metadata": {
        "colab": {
          "base_uri": "https://localhost:8080/"
        },
        "id": "zkNEc9lEkgfF",
        "outputId": "8389b811-1c89-46f8-c322-5f5dd84b7248"
      },
      "execution_count": 5,
      "outputs": [
        {
          "output_type": "stream",
          "name": "stdout",
          "text": [
            "Enter first number:90\n",
            "Enter math operation:-\n",
            "Enter second number:90\n",
            "Result: 0.0\n"
          ]
        }
      ]
    },
    {
      "cell_type": "code",
      "source": [
        "###------------- S  T R I N G S -------------------###"
      ],
      "metadata": {
        "id": "9au7tb6hkgN4"
      },
      "execution_count": null,
      "outputs": []
    },
    {
      "cell_type": "code",
      "source": [
        "#String is a class\n",
        "#Classes have functions \n",
        "#Functions end with ()\n",
        "\n"
      ],
      "metadata": {
        "id": "mttqa1HAkgXD"
      },
      "execution_count": 3,
      "outputs": []
    },
    {
      "cell_type": "code",
      "source": [
        "a = \"KABOOM\"\n",
        "\n",
        "\n",
        "\"\"\"\n",
        "K   A   B   O   O   M\n",
        "0   1   2   3   4   5\n",
        "-6  -5  -4  -3  -2  -1\n",
        "\"\"\"\n",
        "\n",
        "length_a = len(a)\n",
        "print(length_a)\n",
        "\n",
        "# indexing == location\n",
        "print(a[0])\n",
        "print(a[5])\n",
        "print(a[-1])\n",
        "print(a[-3])\n",
        "print(a[2])"
      ],
      "metadata": {
        "colab": {
          "base_uri": "https://localhost:8080/"
        },
        "id": "hpcwunoXkgaD",
        "outputId": "c8f3c810-5fec-4122-f428-289ad309b879"
      },
      "execution_count": 10,
      "outputs": [
        {
          "output_type": "stream",
          "name": "stdout",
          "text": [
            "6\n",
            "K\n",
            "M\n",
            "M\n",
            "O\n",
            "B\n"
          ]
        }
      ]
    },
    {
      "cell_type": "code",
      "source": [
        "a = \"KABOOM\"\n",
        "\n",
        "\n",
        "\"\"\"\n",
        "K   A   B   O   O   M\n",
        "0   1   2   3   4   5\n",
        "-6  -5  -4  -3  -2  -1\n",
        "\"\"\"\n",
        "\n",
        "#Slicing\n",
        "# [start_Range : end_range+1]\n",
        "\n",
        "print(   a[0:3]   ) \n",
        "print(   a[3:5]   )\n",
        "print(   a[3:]    ) # index#3 and everything after it\n",
        "print(   a[:4]    )\n",
        "\n",
        "print(a[-6:])\n",
        "print(a[0:])\n",
        "\n",
        "print(len(a))\n",
        "\n",
        "la = len(a)\n",
        "\n",
        "print(a[-la:]) ## over exaggerated\n"
      ],
      "metadata": {
        "colab": {
          "base_uri": "https://localhost:8080/"
        },
        "id": "-_VLRIW1kgcr",
        "outputId": "e7c39650-8571-4247-f19b-4a11139c2c91"
      },
      "execution_count": 21,
      "outputs": [
        {
          "output_type": "stream",
          "name": "stdout",
          "text": [
            "KAB\n",
            "OO\n",
            "OOM\n",
            "KABO\n",
            "KABOOM\n",
            "KABOOM\n",
            "6\n",
            "KABOOM\n"
          ]
        }
      ]
    },
    {
      "cell_type": "code",
      "source": [
        "## loop through a string \n",
        "\n",
        "orchid = \"PSJND\"\n",
        "\n",
        "for apple in orchid:\n",
        "  print(apple)\n",
        "  print(\"haha\")"
      ],
      "metadata": {
        "colab": {
          "base_uri": "https://localhost:8080/"
        },
        "id": "4xhUBcUDkghZ",
        "outputId": "0ae07ff0-7e59-45b1-f044-1f7df814f424"
      },
      "execution_count": 23,
      "outputs": [
        {
          "output_type": "stream",
          "name": "stdout",
          "text": [
            "P\n",
            "haha\n",
            "S\n",
            "haha\n",
            "J\n",
            "haha\n",
            "N\n",
            "haha\n",
            "D\n",
            "haha\n"
          ]
        }
      ]
    },
    {
      "cell_type": "code",
      "source": [
        "emotion = \"HAPPY\"   ## emotion is a String variable\n",
        "\n",
        "for z in emotion:   ## z is a random variable name\n",
        "  print(z,\"alphabet\" )"
      ],
      "metadata": {
        "colab": {
          "base_uri": "https://localhost:8080/"
        },
        "id": "c8Yop3AVkgji",
        "outputId": "b5b510a6-cc0d-4d49-96be-b9908fb4c94c"
      },
      "execution_count": 25,
      "outputs": [
        {
          "output_type": "stream",
          "name": "stdout",
          "text": [
            "H alphabet\n",
            "A alphabet\n",
            "P alphabet\n",
            "P alphabet\n",
            "Y alphabet\n"
          ]
        }
      ]
    },
    {
      "cell_type": "code",
      "source": [
        "password = \"Bali&z00\"\n",
        "\n",
        "for p in password:\n",
        "  print(p)\n",
        "\n"
      ],
      "metadata": {
        "colab": {
          "base_uri": "https://localhost:8080/"
        },
        "id": "A3Xy52r0kgpj",
        "outputId": "b8de4a6f-103c-4f1b-aba7-7ed9bae1d86d"
      },
      "execution_count": 26,
      "outputs": [
        {
          "output_type": "stream",
          "name": "stdout",
          "text": [
            "B\n",
            "a\n",
            "l\n",
            "i\n",
            "&\n",
            "z\n",
            "0\n",
            "0\n"
          ]
        }
      ]
    },
    {
      "cell_type": "code",
      "source": [
        "## checking if a word exists \n",
        "\n",
        "\n",
        "emotions  = input(\"Enter your emotions\")\n",
        "\n",
        "if \"happy\" in emotions:\n",
        "  print(\"Good day!!\")\n",
        "\n",
        "else:\n",
        "  print(\"false\")"
      ],
      "metadata": {
        "colab": {
          "base_uri": "https://localhost:8080/"
        },
        "id": "idx7WrYf4936",
        "outputId": "aec86ae7-2a5a-4674-9ae9-90a64abd7a4b"
      },
      "execution_count": 35,
      "outputs": [
        {
          "output_type": "stream",
          "name": "stdout",
          "text": [
            "Enter your emotionssad and happy\n",
            "Good day!!\n"
          ]
        }
      ]
    },
    {
      "cell_type": "code",
      "source": [],
      "metadata": {
        "id": "LrUYQ_jd497V"
      },
      "execution_count": 39,
      "outputs": []
    },
    {
      "cell_type": "code",
      "source": [
        "## Pou's Question \n",
        "\n",
        "txt=\"Kitty cats are the best\"\n",
        "\n",
        "x = print() #returns None\n",
        "y = input() # returns a String\n",
        "\n",
        "print (x)\n"
      ],
      "metadata": {
        "colab": {
          "base_uri": "https://localhost:8080/"
        },
        "id": "QM3cM0CI49_D",
        "outputId": "b1e474c1-6c8f-4011-c8cf-d42a414a1e8d"
      },
      "execution_count": 43,
      "outputs": [
        {
          "output_type": "stream",
          "name": "stdout",
          "text": [
            "\n",
            "hello\n",
            "None\n"
          ]
        }
      ]
    },
    {
      "cell_type": "code",
      "source": [
        "\"\"\"\n",
        "Methods or Functions ... ()\n",
        "\n",
        "upper()\n",
        ".lower()\n",
        ".split()\n",
        ".reverse()\n",
        ".replace()\n",
        ".strip()\n",
        "\n",
        "\"\"\"\n",
        "\n",
        "naan = \"Flat bread\"\n",
        "\n",
        "print(naan.upper())\n",
        "\n",
        "print(naan.lower())\n",
        "\n",
        "print(naan.title())\n",
        "\n",
        "print(naan.split()) ## splits by space (default), returns a list\n",
        "x, y = naan.split()\n",
        "print(y)\n",
        "\n",
        "z = \"hello-world-planet-earth\"\n",
        "print(z.split(\"-\"))\n",
        "\n",
        "z = \"hello,world,planet-earth\"\n",
        "print(z.split(\",\"))\n",
        "\n",
        "\n",
        "##print(naan.reverse()) ## works with numbers only\n",
        "\n",
        "\n",
        "print(naan)\n",
        "print(naan.replace(\"a\", \"$\"))\n",
        "\n",
        "\n",
        "n = \"       hello world       \"\n",
        "print(n)\n",
        "print(n.strip())"
      ],
      "metadata": {
        "colab": {
          "base_uri": "https://localhost:8080/"
        },
        "id": "_dTB31vf4-Bb",
        "outputId": "398bf339-b341-420c-c803-dd8a9f4b0a27"
      },
      "execution_count": 58,
      "outputs": [
        {
          "output_type": "stream",
          "name": "stdout",
          "text": [
            "FLAT BREAD\n",
            "flat bread\n",
            "Flat Bread\n",
            "['Flat', 'bread']\n",
            "bread\n",
            "['hello', 'world', 'planet', 'earth']\n",
            "['hello', 'world', 'planet-earth']\n",
            "Flat bread\n",
            "Fl$t bre$d\n",
            "       hello world       \n",
            "hello world\n"
          ]
        }
      ]
    },
    {
      "cell_type": "code",
      "source": [
        "\n",
        "\n",
        "math = input(\"Enter your equation\")\n",
        "num1, op, num2 = math.split()\n",
        "\n",
        "num1 = float(num1)\n",
        "num2 = float(num2)\n",
        "op = op "
      ],
      "metadata": {
        "colab": {
          "base_uri": "https://localhost:8080/"
        },
        "id": "gmFt5Xwj4-D-",
        "outputId": "fdf7f7ad-c7b1-4214-e677-f16e6fcac7fd"
      },
      "execution_count": 50,
      "outputs": [
        {
          "name": "stdout",
          "output_type": "stream",
          "text": [
            "Enter your equation6 / 7\n"
          ]
        }
      ]
    },
    {
      "cell_type": "code",
      "source": [],
      "metadata": {
        "id": "65CZEzyH4-ID"
      },
      "execution_count": null,
      "outputs": []
    },
    {
      "cell_type": "code",
      "source": [
        "## Tasks to try\n",
        "\n",
        "#Q1 End task\n",
        "# Menu - what & how much? e.g.  2 sandwiches\n",
        "#      - display total bill\n",
        "\n",
        "\n",
        "## text to image --- AI application "
      ],
      "metadata": {
        "id": "fPlJjRXnkgsG"
      },
      "execution_count": 1,
      "outputs": []
    },
    {
      "cell_type": "code",
      "source": [
        "\n",
        "# Q3 Assignment \n",
        "# HANGMAN  + fill in the blanks\n",
        "\"\"\"\n",
        "A _  _   L  _ _\n",
        "\n",
        "correct answers: P, E \n",
        "\n",
        "1 guess is 1 alphabet\n",
        "\n",
        "\"\"\""
      ],
      "metadata": {
        "colab": {
          "base_uri": "https://localhost:8080/",
          "height": 35
        },
        "id": "-0OFP4gop5UK",
        "outputId": "172ad5a4-4708-4f68-f260-9f4b11d35b5d"
      },
      "execution_count": 61,
      "outputs": [
        {
          "output_type": "execute_result",
          "data": {
            "text/plain": [
              "'\\nA _  _   L  _ _\\n\\ncorrect answers: P, E \\n\\n1 guess is 1 alphabet\\n\\n'"
            ],
            "application/vnd.google.colaboratory.intrinsic+json": {
              "type": "string"
            }
          },
          "metadata": {},
          "execution_count": 61
        }
      ]
    },
    {
      "cell_type": "code",
      "source": [],
      "metadata": {
        "id": "xuIOmTdKFzI8"
      },
      "execution_count": null,
      "outputs": []
    }
  ]
}