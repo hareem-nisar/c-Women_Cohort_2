{
  "nbformat": 4,
  "nbformat_minor": 0,
  "metadata": {
    "colab": {
      "provenance": [],
      "collapsed_sections": []
    },
    "kernelspec": {
      "name": "python3",
      "display_name": "Python 3"
    },
    "language_info": {
      "name": "python"
    }
  },
  "cells": [
    {
      "cell_type": "code",
      "execution_count": null,
      "metadata": {
        "colab": {
          "base_uri": "https://localhost:8080/"
        },
        "id": "LvXWeHAGEPJC",
        "outputId": "b772bf9f-fb32-4f32-c578-802756dcebc5"
      },
      "outputs": [
        {
          "output_type": "stream",
          "name": "stdout",
          "text": [
            "Hello World\n"
          ]
        }
      ],
      "source": [
        "\"\"\"\n",
        "Day 01 Revision\n",
        "This kernel implements the concepts from Day 01 including\n",
        " - Print: \\n to create a newline and \\t to add a tab (1 tab = 4 spaces)\n",
        " - Comment: # for Single line comment and '''Multiline comment'''\n",
        "\"\"\"\n",
        "\n",
        "# this is a comment\n",
        "print(\"Hello World\")\n",
        "\n"
      ]
    },
    {
      "cell_type": "code",
      "source": [
        "\"\"\"\n",
        "TOPICS for Day 02 \n",
        "•\tUsing variables (int, float string) to print.\n",
        "•\tUsing “TYPE” command to see the type of variable it is.\n",
        "•\tOverwriting existing variables.\n",
        "•\tValid variable names and conventions\n",
        "•\tConcatenating variables in a print statement. \n",
        "•\tString ‘This’ vs “that”\n",
        "•\tString.title(), .upper(), .lower(), variable*2\n",
        "•\tfull_name = first_name + \" \" + last_name\n",
        "•\tUser input\n",
        "\"\"\"\n",
        "\n",
        "print(\"Let's get started\")"
      ],
      "metadata": {
        "colab": {
          "base_uri": "https://localhost:8080/"
        },
        "id": "rpXNJBeYE76u",
        "outputId": "94f97d89-f5ac-4480-f0d3-0afc856dba81"
      },
      "execution_count": null,
      "outputs": [
        {
          "output_type": "stream",
          "name": "stdout",
          "text": [
            "Let's get started\n"
          ]
        }
      ]
    },
    {
      "cell_type": "code",
      "source": [
        "# random variable names\n",
        "\n",
        "x = 9\n",
        "apples = 5\n",
        "anne = \"Green\"\n",
        "flour = 1.5 \n",
        "\n",
        "print(x)\n",
        "print(type(x))\n",
        "print(type(anne))\n",
        "print(type(flour))\n",
        "\n",
        "anne = 85\n",
        "print(type(anne))"
      ],
      "metadata": {
        "id": "vBLm7WR8JZy0",
        "colab": {
          "base_uri": "https://localhost:8080/"
        },
        "outputId": "9ca9c4b2-f51e-4973-ee24-defbc61a363b"
      },
      "execution_count": 14,
      "outputs": [
        {
          "output_type": "stream",
          "name": "stdout",
          "text": [
            "9\n",
            "<class 'int'>\n",
            "<class 'str'>\n",
            "<class 'float'>\n",
            "<class 'int'>\n"
          ]
        }
      ]
    },
    {
      "cell_type": "code",
      "source": [
        "alpha = 89\n",
        "beta = \"Code\"\n",
        "gamma = \"red\"\n",
        "\n",
        "print(beta,gamma,alpha) #commas ignore the data type\n",
        "\n",
        "\n",
        "newString = beta+gamma+str(alpha)\n",
        "print(newString) #prints as 1 string\n",
        "\n",
        "str2 = beta + \" \" + gamma + \" \" + \":\" + str(alpha) #Concatenation\n",
        "print(str2)\n",
        "\n",
        "\n"
      ],
      "metadata": {
        "colab": {
          "base_uri": "https://localhost:8080/"
        },
        "id": "-9uq127JYTQv",
        "outputId": "a00fee53-c3d1-4799-bf23-e4bee4c4be1e"
      },
      "execution_count": 21,
      "outputs": [
        {
          "output_type": "stream",
          "name": "stdout",
          "text": [
            "Code red 89\n",
            "Codered89\n",
            "Code red :89\n"
          ]
        }
      ]
    },
    {
      "cell_type": "code",
      "source": [
        "print(str(50))"
      ],
      "metadata": {
        "colab": {
          "base_uri": "https://localhost:8080/"
        },
        "id": "VhGvI4yQajla",
        "outputId": "cba126a4-12fe-4fa0-b3e6-4e342df39fcf"
      },
      "execution_count": 1,
      "outputs": [
        {
          "output_type": "stream",
          "name": "stdout",
          "text": [
            "50\n"
          ]
        }
      ]
    },
    {
      "cell_type": "code",
      "source": [
        "_print = 8\n",
        "_print_8 = 50\n",
        "\n",
        "str45 = 89 #this is ok\n",
        "\n",
        "num_trees = 107"
      ],
      "metadata": {
        "id": "gBc9i8sLeVZx"
      },
      "execution_count": 2,
      "outputs": []
    },
    {
      "cell_type": "code",
      "source": [
        "\n",
        "apples = 5\n",
        "raisins = 8\n",
        "\n",
        "cocktail = apples + raisins \n",
        "\n",
        "print(cocktail)"
      ],
      "metadata": {
        "colab": {
          "base_uri": "https://localhost:8080/"
        },
        "id": "d70FUMMyhdEz",
        "outputId": "c8735188-1c4f-4287-c6a4-53b5c7284c9c"
      },
      "execution_count": 3,
      "outputs": [
        {
          "output_type": "stream",
          "name": "stdout",
          "text": [
            "13\n"
          ]
        }
      ]
    },
    {
      "cell_type": "code",
      "source": [
        "print(6-7*1) "
      ],
      "metadata": {
        "colab": {
          "base_uri": "https://localhost:8080/"
        },
        "id": "BnvJUhflkmdk",
        "outputId": "5c0a820b-0535-44f4-946c-0184d72c2b98"
      },
      "execution_count": 4,
      "outputs": [
        {
          "output_type": "stream",
          "name": "stdout",
          "text": [
            "-1\n"
          ]
        }
      ]
    },
    {
      "cell_type": "code",
      "source": [
        "x= 8/6*7\n",
        "print(type(x))\n",
        "print(x)"
      ],
      "metadata": {
        "colab": {
          "base_uri": "https://localhost:8080/"
        },
        "id": "9lwkvI4Fkv-N",
        "outputId": "ddb08580-3c6c-4597-8320-22ae2a36a26f"
      },
      "execution_count": 6,
      "outputs": [
        {
          "output_type": "stream",
          "name": "stdout",
          "text": [
            "<class 'float'>\n",
            "9.333333333333332\n"
          ]
        }
      ]
    },
    {
      "cell_type": "code",
      "source": [
        "x = 7\n",
        "print(\"The original value of x is \", x)\n",
        "\n",
        "x = x+1 # increment\n",
        "print(\"The new value for x is\", x)\n",
        "\n",
        "x = x-1 # decrement\n",
        "print(\"The new value for x is\", x)\n",
        "\n"
      ],
      "metadata": {
        "colab": {
          "base_uri": "https://localhost:8080/"
        },
        "id": "rHpf7HLik7_e",
        "outputId": "f084918e-dfd1-461b-9a4a-56f09c19ffb2"
      },
      "execution_count": 8,
      "outputs": [
        {
          "output_type": "stream",
          "name": "stdout",
          "text": [
            "The original value of x is  7\n",
            "The new value for x is 8\n"
          ]
        }
      ]
    },
    {
      "cell_type": "code",
      "source": [
        "# CASTING - changing data types\n",
        "\n",
        "x = \"True\"\n",
        "y = \"85\"\n",
        "z = 90\n",
        "\n",
        "a = bool(x)\n",
        "b = int(y)\n",
        "\n",
        "print(a, b)"
      ],
      "metadata": {
        "colab": {
          "base_uri": "https://localhost:8080/"
        },
        "id": "kMzFoXsIlh1B",
        "outputId": "8439b50b-a97d-4633-f0d5-fe04ea87918f"
      },
      "execution_count": 9,
      "outputs": [
        {
          "output_type": "stream",
          "name": "stdout",
          "text": [
            "True 85\n"
          ]
        }
      ]
    },
    {
      "cell_type": "code",
      "source": [
        "x = 0.5\n",
        "a = bool(x)\n",
        "\n",
        "print(a)"
      ],
      "metadata": {
        "colab": {
          "base_uri": "https://localhost:8080/"
        },
        "id": "9qsz7sTUobHB",
        "outputId": "0ad3cd86-21b5-44c1-f710-aae6afa06e79"
      },
      "execution_count": 12,
      "outputs": [
        {
          "output_type": "stream",
          "name": "stdout",
          "text": [
            "True\n"
          ]
        }
      ]
    },
    {
      "cell_type": "code",
      "source": [
        "num_apples = 10 #hard coding a value\n",
        "\n",
        "#user input\n",
        "num_apples = num_apples + int(input()) #always going to be a string\n",
        "\n",
        "print(\"I have\", num_apples, \"apples\")"
      ],
      "metadata": {
        "colab": {
          "base_uri": "https://localhost:8080/"
        },
        "id": "ZW-xY84OpUCK",
        "outputId": "9177726c-cec7-4850-d545-b891dbcd87c1"
      },
      "execution_count": 20,
      "outputs": [
        {
          "output_type": "stream",
          "name": "stdout",
          "text": [
            "50\n",
            "I have 60 apples\n"
          ]
        }
      ]
    },
    {
      "cell_type": "code",
      "source": [
        "# ask the user to enter their name #String\n",
        "# ask the user to enter their date of birth #Integer\n",
        "\n",
        "# John was born on the 5th of December\n",
        "\n",
        "\n"
      ],
      "metadata": {
        "id": "3SKTZZO1scw1"
      },
      "execution_count": null,
      "outputs": []
    },
    {
      "cell_type": "code",
      "source": [],
      "metadata": {
        "id": "GEkEEXjuye0o"
      },
      "execution_count": 27,
      "outputs": []
    },
    {
      "cell_type": "code",
      "source": [],
      "metadata": {
        "id": "tL7OFdmGyfqC"
      },
      "execution_count": null,
      "outputs": []
    }
  ]
}