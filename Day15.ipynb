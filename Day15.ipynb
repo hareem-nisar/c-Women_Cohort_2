{
  "nbformat": 4,
  "nbformat_minor": 0,
  "metadata": {
    "colab": {
      "provenance": [],
      "collapsed_sections": []
    },
    "kernelspec": {
      "name": "python3",
      "display_name": "Python 3"
    },
    "language_info": {
      "name": "python"
    }
  },
  "cells": [
    {
      "cell_type": "code",
      "source": [],
      "metadata": {
        "id": "dqdlq7mDzAXG"
      },
      "execution_count": null,
      "outputs": []
    },
    {
      "cell_type": "code",
      "execution_count": null,
      "metadata": {
        "id": "92GPTvxgxoWY"
      },
      "outputs": [],
      "source": [
        "# Revision - Functions\n",
        "\"\"\"\n",
        "Define \n",
        "Call\n",
        "Multiple calls\n",
        "Positional arguments\n",
        "Keyword arguments\n",
        "Default argument\n",
        "\"\"\""
      ]
    },
    {
      "cell_type": "code",
      "source": [
        "### function body\n",
        "\n",
        "def Classroom(fname, lname=\"\"):\n",
        "  print(fname , \" \" , lname, \"is in this class\")\n",
        "\n",
        "### main body\n",
        "\n",
        "print(\"Welcome to my Classroom\")\n",
        "Classroom(\"Zoe\", \"Otgon\")\n",
        "Classroom(\"Ekatrina\", \"Shilina\")\n",
        "Classroom(lname = \"Akabogu\", fname = \"Patience\" )\n",
        "Classroom(input(\"Enter student name: \"))\n",
        "\n",
        "\n"
      ],
      "metadata": {
        "colab": {
          "base_uri": "https://localhost:8080/"
        },
        "id": "qDkeWDCYvJLz",
        "outputId": "bc0d7a18-6315-478d-b2f4-295981f937e5"
      },
      "execution_count": 12,
      "outputs": [
        {
          "output_type": "stream",
          "name": "stdout",
          "text": [
            "Welcome to my Classroom\n",
            "Zoe   Otgon is in this class\n",
            "Ekatrina   Shilina is in this class\n",
            "Patience   Akabogu is in this class\n",
            "Enter student name: Hareem\n",
            "Hareem    is in this class\n"
          ]
        }
      ]
    },
    {
      "cell_type": "code",
      "source": [
        "# Returning values\n",
        "\n",
        "def SUM(num1 , num2):\n",
        "  ans = num1+num2\n",
        "  return ans\n",
        "\n",
        "def SUBTRACT(num1, num2):\n",
        "  return num1-num2\n",
        "\n",
        "print(\"Welcome to basic addition\")\n",
        "x =  SUM(6,4) # will be replaced by 10 (value)\n",
        "percentage = x/50 * 100\n",
        "print(\"The final sum is = \", x)\n",
        "print(\"The final percentage is  = \", percentage)\n",
        "\n",
        "y = SUBTRACT(10, 6)\n",
        "percentage = y/50 * 100\n",
        "print(\"The final subtraction is = \", y)\n",
        "print(\"The final percentage is  = \", percentage)\n"
      ],
      "metadata": {
        "id": "kb2NzuxnyEIZ",
        "colab": {
          "base_uri": "https://localhost:8080/"
        },
        "outputId": "084434a1-b77f-4124-efd0-5d4bee4f8af8"
      },
      "execution_count": 17,
      "outputs": [
        {
          "output_type": "stream",
          "name": "stdout",
          "text": [
            "Welcome to basic addition\n",
            "The final sum is =  10\n",
            "The final percentage is  =  20.0\n",
            "The final subtraction is =  4\n",
            "The final percentage is  =  8.0\n"
          ]
        }
      ]
    },
    {
      "cell_type": "code",
      "source": [
        "def books(num_pages):\n",
        "  \n",
        "  if num_pages == 2:\n",
        "    page = \"preface\"\n",
        "  elif num_pages == 5:\n",
        "    page = \"ack\"\n",
        "  else:\n",
        "    page = \"chapter\"\n",
        "\n",
        "  return page\n",
        "\n",
        "\n",
        "print(\"These pages are actually a \", books(107))\n",
        "\n"
      ],
      "metadata": {
        "colab": {
          "base_uri": "https://localhost:8080/"
        },
        "id": "jbDz_vfx1G37",
        "outputId": "aa2534f1-11e9-46f3-a2d1-8b1200c25f64"
      },
      "execution_count": 19,
      "outputs": [
        {
          "output_type": "stream",
          "name": "stdout",
          "text": [
            "These pages are actually a  chapter\n"
          ]
        }
      ]
    },
    {
      "cell_type": "code",
      "source": [
        "def canada(population, game, food):\n",
        "  can = []\n",
        "  can.append(population)\n",
        "  can.append(game)\n",
        "  can.append(food)\n",
        "\n",
        "  return can\n",
        "\n",
        "print(\"Welcome to Canada\")\n",
        "myList = canada(35000000, \"hockey\", \"bagels\")\n",
        "\n",
        "print(type(myList))\n",
        "print(myList)\n"
      ],
      "metadata": {
        "colab": {
          "base_uri": "https://localhost:8080/"
        },
        "id": "kEYDOZ9d2sON",
        "outputId": "d9a40198-502c-4e59-de3b-d04450a21e52"
      },
      "execution_count": 21,
      "outputs": [
        {
          "output_type": "stream",
          "name": "stdout",
          "text": [
            "Welcome to Canada\n",
            "<class 'list'>\n",
            "[35000000, 'hockey', 'bagels']\n"
          ]
        }
      ]
    },
    {
      "cell_type": "code",
      "source": [
        "# Task 1 aka Assignment \n",
        "\"\"\"\n",
        "create a function that coverts the time from a 12 hour clock to a 24 hour format and returns a value.\n",
        "In the main code, ask the user for an input. Display the time in the main code after conversion. \n",
        "Do this repeatedly unless the user says no. \n",
        "\n",
        "Sample output:\n",
        "Enter time in 12 hour format:    1:15 pm\n",
        "The time in 24 hour format is:   1315 hours\n",
        "Do you want to convert another time (yes/no)? yes\n",
        "Enter time in 12 hour format:    1:15 am\n",
        "The time in 24 hour format is:   0115 hours\n",
        "\"\"\""
      ],
      "metadata": {
        "id": "Jrh6AdhbyET-"
      },
      "execution_count": null,
      "outputs": []
    },
    {
      "cell_type": "code",
      "source": [
        "s1 = input(\"Enter\")\n",
        "t, ampm = s1.split()\n",
        "t1, t2 = t.split(\":\")"
      ],
      "metadata": {
        "colab": {
          "base_uri": "https://localhost:8080/"
        },
        "id": "VlGLXAIu-dVe",
        "outputId": "aaad0e2f-a1a2-42bb-afb8-5e0bfca11824"
      },
      "execution_count": 24,
      "outputs": [
        {
          "name": "stdout",
          "output_type": "stream",
          "text": [
            "Enter10:15 am\n"
          ]
        }
      ]
    },
    {
      "cell_type": "code",
      "source": [
        "#Passing a list, \n",
        "#returning a dictionary\n",
        "\n",
        "\n",
        "def database(personList):\n",
        "  #print(personList)\n",
        "  d1 = {\"NAME\":personList[0],  \"AGE\":personList[1],  \"YOB\":personList[2]}\n",
        "  d2 = {}\n",
        "  return d1\n",
        "\n",
        "\n",
        "print(\"Welcome!!\")\n",
        "##person = [name, age, yob]\n",
        "\n",
        "personA = [\"Zelda\", 33, 1996]\n",
        "x  = database(personA) ## replaced by d1\n",
        "\n",
        "personB = [\"Amna\", 67, 1800]\n",
        "y = database(personB)\n",
        "\n",
        "print(x)\n",
        "print(y)\n",
        "\n",
        "\n",
        "\n"
      ],
      "metadata": {
        "id": "bzOz5gtSyH6j",
        "colab": {
          "base_uri": "https://localhost:8080/"
        },
        "outputId": "b8c4bb0e-c1d6-4245-e402-99a337d546d3"
      },
      "execution_count": 31,
      "outputs": [
        {
          "output_type": "stream",
          "name": "stdout",
          "text": [
            "Welcome!!\n",
            "{'NAME': 'Zelda', 'AGE': 33, 'YOB': 1996}\n",
            "{'NAME': 'Amna', 'AGE': 67, 'YOB': 1800}\n"
          ]
        }
      ]
    },
    {
      "cell_type": "code",
      "source": [
        "\n",
        "def nameGetter(fullName):\n",
        "  fname , lname = fullName.split()\n",
        "  return fname, lname\n",
        "\n",
        "\n",
        "myName = \"Hareem Nisar\"\n",
        "x, y = nameGetter(myName)\n",
        "\n",
        "print(x)\n",
        "print(y)\n",
        "\n",
        "\n",
        "\n"
      ],
      "metadata": {
        "colab": {
          "base_uri": "https://localhost:8080/"
        },
        "id": "vMf1yXcDJLgR",
        "outputId": "d055e631-b078-4cc0-88dc-15099a1b4861"
      },
      "execution_count": 33,
      "outputs": [
        {
          "output_type": "stream",
          "name": "stdout",
          "text": [
            "Hareem Nisar\n"
          ]
        }
      ]
    },
    {
      "cell_type": "code",
      "source": [
        "# Changing a List inside a function is permanent.\n",
        "\n",
        "# Preventing a Function from Modifying a List - send a copy of the list.\n",
        "\n",
        "def myFunctionA(listA, B):\n",
        "  listA[0] = \"ohno\"\n",
        "  B = 99\n",
        "\n",
        "\n",
        "l = [\"a\", \"b\", \"c\"]\n",
        "box = 30\n",
        "print(l, box)\n",
        "\n",
        "myFunctionA(l[:], box)\n",
        "print(l, box)\n",
        "\n",
        "myFunctionA(l, box)\n",
        "print(l, box)\n",
        "\n"
      ],
      "metadata": {
        "colab": {
          "base_uri": "https://localhost:8080/"
        },
        "id": "Lwd5ux-KcpZE",
        "outputId": "098da7d6-0469-45b6-caf5-4c2d138be6b3"
      },
      "execution_count": 37,
      "outputs": [
        {
          "output_type": "stream",
          "name": "stdout",
          "text": [
            "['a', 'b', 'c'] 30\n",
            "['a', 'b', 'c'] 30\n",
            "['ohno', 'b', 'c'] 30\n"
          ]
        }
      ]
    },
    {
      "cell_type": "code",
      "source": [
        " \n",
        "\n"
      ],
      "metadata": {
        "id": "i6uyWTNOlqG-"
      },
      "execution_count": null,
      "outputs": []
    },
    {
      "cell_type": "code",
      "source": [
        "# Passing an Arbitrary Number of Arguments using * (assume a tuple/list of variable length) \n",
        "\n",
        "# pizza toppings example\n",
        "\n",
        "\n",
        "def pizzaOrder(size, *toppings):\n",
        "  print(type(toppings))\n",
        "\n",
        "pizzaOrder(10, 'pepperoni', 'cheese')\n"
      ],
      "metadata": {
        "colab": {
          "base_uri": "https://localhost:8080/"
        },
        "id": "0nP1ZfitlaXp",
        "outputId": "12edf038-5837-49b8-a4e2-ba0e76f90035"
      },
      "execution_count": 6,
      "outputs": [
        {
          "output_type": "stream",
          "name": "stdout",
          "text": [
            "<class 'tuple'>\n"
          ]
        }
      ]
    },
    {
      "cell_type": "code",
      "source": [
        "# Using Arbitrary Keyword Arguments using ** (assume a dictionary) \n",
        "\n",
        "def linkedIn(fname, lname, **info):\n",
        "  print(type(info))\n",
        "\n",
        "linkedIn(\"Hareem\", \"Nisar\", job = \"instructor\", company = \"MNLCT\" )"
      ],
      "metadata": {
        "colab": {
          "base_uri": "https://localhost:8080/"
        },
        "id": "T_FxT8aQl-DD",
        "outputId": "65671cb6-4e18-425d-a442-c2a088bf8e5c"
      },
      "execution_count": 7,
      "outputs": [
        {
          "output_type": "stream",
          "name": "stdout",
          "text": [
            "<class 'dict'>\n"
          ]
        }
      ]
    },
    {
      "cell_type": "code",
      "source": [],
      "metadata": {
        "id": "RTHB2UQOowZj"
      },
      "execution_count": null,
      "outputs": []
    }
  ]
}