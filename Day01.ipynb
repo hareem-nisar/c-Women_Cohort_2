{
  "cells": [
    {
      "cell_type": "code",
      "execution_count": 1,
      "metadata": {
        "colab": {
          "base_uri": "https://localhost:8080/"
        },
        "id": "qCUJTKXP6bY-",
        "outputId": "457b3a4e-f450-4842-f256-14abbc593cfd"
      },
      "outputs": [
        {
          "output_type": "stream",
          "name": "stdout",
          "text": [
            "abc76*&\n"
          ]
        }
      ],
      "source": [
        "print(\"abc76*&\") #each box is called a kernel"
      ]
    },
    {
      "cell_type": "code",
      "execution_count": 31,
      "metadata": {
        "colab": {
          "base_uri": "https://localhost:8080/"
        },
        "id": "JZxMU3FZ6tV7",
        "outputId": "02311994-e6f6-4c11-fb35-e63a3081ebc7"
      },
      "outputs": [
        {
          "output_type": "stream",
          "name": "stdout",
          "text": [
            "Hello World\n",
            "My name is Hareem\n"
          ]
        }
      ],
      "source": [
        "print(\"Hello World\")\n",
        "print(\"My name is Hareem\")"
      ]
    },
    {
      "cell_type": "code",
      "execution_count": 4,
      "metadata": {
        "id": "FLtJacA36zJP",
        "colab": {
          "base_uri": "https://localhost:8080/"
        },
        "outputId": "456f637c-36bc-4005-88c9-7197cfc364cc"
      },
      "outputs": [
        {
          "output_type": "stream",
          "name": "stdout",
          "text": [
            "Hello\n",
            "World\n"
          ]
        }
      ],
      "source": [
        "print(\"Hello\\nWorld\") # \\n moves cursor to the next line"
      ]
    },
    {
      "cell_type": "code",
      "source": [
        "print(\"Hello\\tWorld\") #\\t moves cursor by 4 spaces"
      ],
      "metadata": {
        "colab": {
          "base_uri": "https://localhost:8080/"
        },
        "id": "UrCb3xPUO2Sh",
        "outputId": "e1094f30-3605-41ea-db18-ec4b4fa623d3"
      },
      "execution_count": 5,
      "outputs": [
        {
          "output_type": "stream",
          "name": "stdout",
          "text": [
            "Hello\tWorld\n"
          ]
        }
      ]
    },
    {
      "cell_type": "code",
      "source": [
        "print(\"Name:       Hareem\")\n",
        "print(\"Age:        28\")\n",
        "print(\"Occupation: Teaching\")"
      ],
      "metadata": {
        "colab": {
          "base_uri": "https://localhost:8080/"
        },
        "id": "R9qx9awNPLNc",
        "outputId": "87f75a7b-9957-41cf-e3ec-dbc0edc0a9d0"
      },
      "execution_count": 6,
      "outputs": [
        {
          "output_type": "stream",
          "name": "stdout",
          "text": [
            "Name:       Hareem\n",
            "Age:        28\n",
            "Occupation: Teaching\n"
          ]
        }
      ]
    },
    {
      "cell_type": "code",
      "source": [
        "print(\"Name:\\t\\tHareem\\nAge:\\t\\t28\")"
      ],
      "metadata": {
        "colab": {
          "base_uri": "https://localhost:8080/"
        },
        "id": "Fxu10fAMP8RW",
        "outputId": "e063f324-2f2b-4cdd-dba0-8cd750e4f38e"
      },
      "execution_count": 7,
      "outputs": [
        {
          "output_type": "stream",
          "name": "stdout",
          "text": [
            "Name:\t\tHareem\n",
            "Age:\t\t28\n"
          ]
        }
      ]
    },
    {
      "cell_type": "code",
      "source": [],
      "metadata": {
        "id": "AC-7qK_3QOZr"
      },
      "execution_count": null,
      "outputs": []
    },
    {
      "cell_type": "code",
      "source": [
        "print(\"G\\t\\tA\\t\\tM\\t\\tE\\t\\t\\nO\\t\\tV\\t\\tE\\t\\tR\")\n"
      ],
      "metadata": {
        "colab": {
          "base_uri": "https://localhost:8080/"
        },
        "id": "ptiQQjhRQdCa",
        "outputId": "ed17c7c5-f142-49d9-f87a-b969b931b2a3"
      },
      "execution_count": 8,
      "outputs": [
        {
          "output_type": "stream",
          "name": "stdout",
          "text": [
            "G\t\tA\t\tM\t\tE\t\t\n",
            "O\t\tV\t\tE\t\tR\n"
          ]
        }
      ]
    },
    {
      "cell_type": "code",
      "source": [
        "# DESIGN A MENU\n",
        "print(\"Dreamy Dreams Cafe\")\n",
        "print(\"Milkshakes:\\t$$\") # heading\n",
        "print(\"1.Unicorn shake\\t8\") # menu item no. 1\n",
        "print(\"2.Llama Creme\\t9\")\n",
        "print(\"3.Butterflies\\t10\")"
      ],
      "metadata": {
        "colab": {
          "base_uri": "https://localhost:8080/"
        },
        "id": "C27sdpa5TOgs",
        "outputId": "64f855e2-1e0a-463f-dec8-f4b4dda2887f"
      },
      "execution_count": 12,
      "outputs": [
        {
          "output_type": "stream",
          "name": "stdout",
          "text": [
            "Dreamy Dreams Cafe\n",
            "Milkshakes:\t$$\n",
            "1.Unicorn shake\t8\n",
            "2.Llama Creme\t9\n",
            "3.Butterflies\t10\n"
          ]
        }
      ]
    },
    {
      "cell_type": "code",
      "source": [
        "# this is a single line comment\n",
        "# this is also a single line comment\n",
        "\n",
        "\"\"\"\n",
        "Hello nms,vksmf,;v\n",
        "dsasc\n",
        "World\n",
        "program \n",
        "\"\"\"\n",
        "\n",
        "print(\"My Class Day 01\")\n",
        "\n",
        "\n"
      ],
      "metadata": {
        "colab": {
          "base_uri": "https://localhost:8080/"
        },
        "id": "-iA8SsTGU6Rz",
        "outputId": "d6b65df6-f332-4b22-a644-86cbb1d06a99"
      },
      "execution_count": 17,
      "outputs": [
        {
          "output_type": "stream",
          "name": "stdout",
          "text": [
            "My Class Day 01\n"
          ]
        }
      ]
    },
    {
      "cell_type": "code",
      "source": [
        "print(\"Alpha\") #string\n",
        "print(2) #integer\n",
        "print(7.05) #float"
      ],
      "metadata": {
        "colab": {
          "base_uri": "https://localhost:8080/"
        },
        "id": "etcE0s1YeymZ",
        "outputId": "53f776f6-4b54-43f0-a1b1-468165425f21"
      },
      "execution_count": 18,
      "outputs": [
        {
          "output_type": "stream",
          "name": "stdout",
          "text": [
            "Alpha\n",
            "2\n",
            "7.05\n"
          ]
        }
      ]
    },
    {
      "cell_type": "code",
      "source": [
        "print(\"90.7\") #String"
      ],
      "metadata": {
        "colab": {
          "base_uri": "https://localhost:8080/"
        },
        "id": "5nQC-yzygFQg",
        "outputId": "fb8f4236-6e42-463d-b8f4-aca2e78b3c96"
      },
      "execution_count": 19,
      "outputs": [
        {
          "output_type": "stream",
          "name": "stdout",
          "text": [
            "90.7\n"
          ]
        }
      ]
    },
    {
      "cell_type": "code",
      "source": [
        "bowl = \"Candy\" # variable called bowl, which stores a String\n",
        "print(bowl) #printing the value inside the variable called bowl"
      ],
      "metadata": {
        "colab": {
          "base_uri": "https://localhost:8080/"
        },
        "id": "2LOOYchHgNAb",
        "outputId": "6fff8dab-aabe-40cd-ecd3-b515ec9dd96f"
      },
      "execution_count": 22,
      "outputs": [
        {
          "output_type": "stream",
          "name": "stdout",
          "text": [
            "Candy\n"
          ]
        }
      ]
    },
    {
      "cell_type": "code",
      "source": [
        "stars = 5 #integer data type\n",
        "print(stars)\n"
      ],
      "metadata": {
        "colab": {
          "base_uri": "https://localhost:8080/"
        },
        "id": "2gexr2v_geqR",
        "outputId": "1aa1d4d5-ec83-41bd-9941-ba1d938911ef"
      },
      "execution_count": 23,
      "outputs": [
        {
          "output_type": "stream",
          "name": "stdout",
          "text": [
            "5\n"
          ]
        }
      ]
    },
    {
      "cell_type": "code",
      "source": [
        "flour = 1.5 \n",
        "print(flour, \"kg\")\n",
        "\n",
        "flour = 3\n",
        "print(flour, \"kg\")\n",
        "\n",
        "flour = 2\n",
        "print(flour, \"kg\")\n"
      ],
      "metadata": {
        "colab": {
          "base_uri": "https://localhost:8080/"
        },
        "id": "1QhCnJ4mgm1j",
        "outputId": "b3f231a8-f330-4a82-c534-f5b11f00e1de"
      },
      "execution_count": 35,
      "outputs": [
        {
          "output_type": "stream",
          "name": "stdout",
          "text": [
            "1.5 kg\n",
            "3 kg\n",
            "2 kg\n"
          ]
        }
      ]
    },
    {
      "cell_type": "code",
      "source": [
        "x = 7\n",
        "y = 8.9\n",
        "z = \"Hello&%67\"\n",
        "\n",
        "#print(x, y, z)\n",
        "\n",
        "x = 10\n",
        "y = \"World\"\n",
        "z = 10.8\n",
        "\n",
        "#print(x,y,z)\n",
        "\n",
        "print(y)\n",
        "\n",
        "\n"
      ],
      "metadata": {
        "colab": {
          "base_uri": "https://localhost:8080/"
        },
        "id": "6jo3DGgChER_",
        "outputId": "043e1414-45c7-4a76-ea3e-84e6d1d90855"
      },
      "execution_count": 30,
      "outputs": [
        {
          "output_type": "stream",
          "name": "stdout",
          "text": [
            "World\n"
          ]
        }
      ]
    },
    {
      "cell_type": "code",
      "source": [
        "\n",
        "\n",
        "\n"
      ],
      "metadata": {
        "colab": {
          "base_uri": "https://localhost:8080/"
        },
        "id": "0eOhWUfEh3Up",
        "outputId": "e6a9b2e0-eb1e-41c4-f634-bcd14e98cade"
      },
      "execution_count": 27,
      "outputs": [
        {
          "output_type": "stream",
          "name": "stdout",
          "text": [
            "10 World 10.8\n"
          ]
        }
      ]
    },
    {
      "cell_type": "code",
      "source": [
        "print(zoo)\n",
        "\n",
        "zoo= 70"
      ],
      "metadata": {
        "colab": {
          "base_uri": "https://localhost:8080/",
          "height": 204
        },
        "id": "7AI0aXesiiIT",
        "outputId": "edbdf21d-9aea-4418-b2a0-b93491f64cf4"
      },
      "execution_count": 28,
      "outputs": [
        {
          "output_type": "error",
          "ename": "NameError",
          "evalue": "ignored",
          "traceback": [
            "\u001b[0;31m---------------------------------------------------------------------------\u001b[0m",
            "\u001b[0;31mNameError\u001b[0m                                 Traceback (most recent call last)",
            "\u001b[0;32m<ipython-input-28-83a65981a5de>\u001b[0m in \u001b[0;36m<module>\u001b[0;34m\u001b[0m\n\u001b[0;32m----> 1\u001b[0;31m \u001b[0mprint\u001b[0m\u001b[0;34m(\u001b[0m\u001b[0mzoo\u001b[0m\u001b[0;34m)\u001b[0m\u001b[0;34m\u001b[0m\u001b[0;34m\u001b[0m\u001b[0m\n\u001b[0m\u001b[1;32m      2\u001b[0m \u001b[0;34m\u001b[0m\u001b[0m\n\u001b[1;32m      3\u001b[0m \u001b[0mzoo\u001b[0m\u001b[0;34m=\u001b[0m \u001b[0;36m70\u001b[0m\u001b[0;34m\u001b[0m\u001b[0;34m\u001b[0m\u001b[0m\n",
            "\u001b[0;31mNameError\u001b[0m: name 'zoo' is not defined"
          ]
        }
      ]
    },
    {
      "cell_type": "code",
      "source": [],
      "metadata": {
        "id": "tKZ8umS_i3pp"
      },
      "execution_count": null,
      "outputs": []
    }
  ],
  "metadata": {
    "colab": {
      "provenance": [],
      "collapsed_sections": []
    },
    "kernelspec": {
      "display_name": "Python 3",
      "name": "python3"
    },
    "language_info": {
      "name": "python"
    }
  },
  "nbformat": 4,
  "nbformat_minor": 0
}