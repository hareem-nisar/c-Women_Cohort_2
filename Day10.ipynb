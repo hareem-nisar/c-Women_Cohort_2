{
  "nbformat": 4,
  "nbformat_minor": 0,
  "metadata": {
    "colab": {
      "provenance": [],
      "collapsed_sections": []
    },
    "kernelspec": {
      "name": "python3",
      "display_name": "Python 3"
    },
    "language_info": {
      "name": "python"
    }
  },
  "cells": [
    {
      "cell_type": "code",
      "execution_count": null,
      "metadata": {
        "id": "ixCxiHM9kRkc"
      },
      "outputs": [],
      "source": [
        "#*****  LISTS *****\n",
        "\n",
        "#book credits: Python Crash Course\n",
        "\n",
        "\n",
        "\n",
        "# data type - array type - [__, __, __, __] # combination of many data types\n",
        "# can be modified\n",
        "\n",
        "myList1 = [\"hello\", 78, 91.5, True, \"joker\", 12]\n"
      ]
    },
    {
      "cell_type": "code",
      "source": [
        "#Accessing Elements in a List, indexing, slicing,  \n",
        "\n",
        "cars = [\"honda\", \"tesla\", \"bmw\"] \n",
        "\n",
        "#indexing or location starts from 0 (not 1)\n",
        "print(cars[0])\n",
        "print(cars[1])\n",
        "print(cars[2])\n",
        "print(cars[-1]) # last element\n",
        "\n",
        "#slicing\n",
        "print(cars[0:2]) # start_value : stop_value+1\n",
        "\n"
      ],
      "metadata": {
        "colab": {
          "base_uri": "https://localhost:8080/"
        },
        "id": "Cu1YwLeamjOJ",
        "outputId": "e3095f17-72ba-43fc-8f6b-2d87939fd6f1"
      },
      "execution_count": null,
      "outputs": [
        {
          "output_type": "stream",
          "name": "stdout",
          "text": [
            "honda\n",
            "tesla\n",
            "bmw\n",
            "bmw\n",
            "['honda', 'tesla']\n"
          ]
        }
      ]
    },
    {
      "cell_type": "code",
      "source": [
        "# modify list, Using Individual Values from a List, length\n",
        "fruits = [\"dragonfruit\", \"mangoes\", \"apples\", \"bananas\"]\n",
        "print(fruits)\n",
        "\n",
        "fruits[0] = \"dragon-fruit\"\n",
        "print(fruits)\n",
        "\n",
        "f1 = fruits[2] ## f1 is a string data type\n",
        "print(f1)\n",
        "print(type(f1))\n",
        "print(f1.title()) #title = to capitalize the first alphabet of each word in a string\n",
        "\n",
        "print(len(fruits))"
      ],
      "metadata": {
        "colab": {
          "base_uri": "https://localhost:8080/"
        },
        "id": "FHRudyPtKN0j",
        "outputId": "808b6268-7ff9-46d2-a043-8c49256de2b6"
      },
      "execution_count": null,
      "outputs": [
        {
          "output_type": "stream",
          "name": "stdout",
          "text": [
            "['dragonfruit', 'mangoes', 'apples', 'bananas']\n",
            "['dragon-fruit', 'mangoes', 'apples', 'bananas']\n",
            "apples\n",
            "<class 'str'>\n",
            "Apples\n",
            "4\n"
          ]
        }
      ]
    },
    {
      "cell_type": "code",
      "source": [
        "# Modifying Elements in a List - change, append, insert\n",
        "\n",
        "veges = [\"potatoes\", \"onion\", \"tomato\", \"carrot\", \"broccoli\"] \n",
        "\n",
        "veges[2] = \"cauliflower\"\n",
        "print(veges)\n",
        "\n",
        "veges.append(\"peas\") #add an element at the END\n",
        "print(veges)\n",
        "\n",
        "veges.insert(1, \"leek\")\n",
        "print(veges)\n",
        "\n",
        "veges.insert(-2, \"cucumber\") ## can also use 3 or 4 \n",
        "print(veges)\n",
        "\n"
      ],
      "metadata": {
        "colab": {
          "base_uri": "https://localhost:8080/"
        },
        "id": "I3_LEuIbmnxG",
        "outputId": "01ba2275-c231-40e5-e260-efcb90064b17"
      },
      "execution_count": null,
      "outputs": [
        {
          "output_type": "stream",
          "name": "stdout",
          "text": [
            "['potatoes', 'onion', 'cauliflower', 'carrot', 'broccoli']\n",
            "['potatoes', 'onion', 'cauliflower', 'carrot', 'broccoli', 'peas']\n",
            "['potatoes', 'leek', 'onion', 'cauliflower', 'carrot', 'broccoli', 'peas']\n",
            "['potatoes', 'leek', 'onion', 'cauliflower', 'carrot', 'cucumber', 'broccoli', 'peas']\n"
          ]
        }
      ]
    },
    {
      "cell_type": "code",
      "source": [
        "# TASK 1 - Family Tree\n",
        "#create an empty  family list.  fam= []\n",
        "#fill up a list using user input.  \n",
        "# print out the list \n",
        "# optional : two new babies are born - add those babies in the right place. \n",
        "\n",
        "# GP1, GP2,\n",
        "# C1, C2, C3\n",
        "# GC1, GC2\n",
        " \n",
        " #OR \n",
        "\n",
        "# GP1, GP2,\n",
        "# C1, - GC1, GC2\n",
        "# C2 - GC1, GC2"
      ],
      "metadata": {
        "id": "0EIi-Fg1E94d"
      },
      "execution_count": null,
      "outputs": []
    },
    {
      "cell_type": "code",
      "source": [],
      "metadata": {
        "id": "r-ZEtY8FTHtT"
      },
      "execution_count": null,
      "outputs": []
    },
    {
      "cell_type": "code",
      "source": [
        "# Remove elements - del, pop(), del vs pop, remove(value), \n",
        "\n",
        "bikes = [10, 12, 100, 433, 90, 60, 88, 1096]\n",
        "print(bikes)\n",
        "\n",
        "del bikes[1]\n",
        "print(bikes)\n",
        "\n",
        "bikes.pop() #removes last element\n",
        "print(bikes)\n",
        "\n",
        "f2 = bikes.pop(2) # pop can ALSO remove by index number\n",
        "print(bikes)\n",
        "print(\"I removed : \",f2)\n",
        "\n",
        "# delete - just removes the value - no access\n",
        "# pop() - also returns the value removed\n",
        "\n",
        "bikes.remove(60)\n",
        "print(bikes)\n",
        "\n",
        "bikes = []\n",
        "print(bikes)"
      ],
      "metadata": {
        "colab": {
          "base_uri": "https://localhost:8080/"
        },
        "id": "D9VEoCj_niRm",
        "outputId": "cc4c59a2-fe10-4cee-aada-d22fad634109"
      },
      "execution_count": null,
      "outputs": [
        {
          "output_type": "stream",
          "name": "stdout",
          "text": [
            "[10, 12, 100, 433, 90, 60, 88, 1096]\n",
            "[10, 100, 433, 90, 60, 88, 1096]\n",
            "[10, 100, 433, 90, 60, 88]\n",
            "[10, 100, 90, 60, 88]\n",
            "I removed :  433\n",
            "[10, 100, 90, 88]\n",
            "[]\n"
          ]
        }
      ]
    },
    {
      "cell_type": "code",
      "source": [
        "## (nested) list  ==  list of lists\n",
        "\n",
        "l1 = [\"gp1\", \"gp2\"]\n",
        "l2 = [\"c1\", \"c2\", \"c3\"]\n",
        "l3 = [\"b1\", \"b2\"]\n",
        "\n",
        "fam = [l1, l2, l3]\n",
        "\n",
        "print(fam)\n",
        "\n",
        "fam[2].append(\"b3\")\n",
        "\n",
        "print(fam)"
      ],
      "metadata": {
        "colab": {
          "base_uri": "https://localhost:8080/"
        },
        "id": "pDOnvWvBdo8v",
        "outputId": "52caa0ea-ca08-4ceb-e915-b4b41333a536"
      },
      "execution_count": null,
      "outputs": [
        {
          "output_type": "stream",
          "name": "stdout",
          "text": [
            "[['gp1', 'gp2'], ['c1', 'c2', 'c3'], ['b1', 'b2']]\n",
            "[['gp1', 'gp2'], ['c1', 'c2', 'c3'], ['b1', 'b2', 'b3']]\n"
          ]
        }
      ]
    },
    {
      "cell_type": "code",
      "source": [],
      "metadata": {
        "id": "s9XQ36Glcq15"
      },
      "execution_count": null,
      "outputs": []
    },
    {
      "cell_type": "code",
      "source": [
        "#organize - sort alphabetically, sort(reverse=True), reverse\n",
        "\n",
        "beatles = [\"here\", \"comes\", \"the\", \"sun\"]\n",
        "print(beatles)\n",
        "\n",
        "beatles.sort() # goes from A to Z\n",
        "print(beatles)\n",
        "\n",
        "## way 1\n",
        "beatles.reverse() # goes from Z to A\n",
        "print(beatles)\n",
        "\n",
        "## way 2\n",
        "beatles.sort(reverse = True) # goes from Z to A\n",
        "print(beatles)\n",
        "\n",
        "\n",
        "## works with string only\n",
        "nums = [2, 10, 100, 50]\n",
        "print(nums.sort())"
      ],
      "metadata": {
        "colab": {
          "base_uri": "https://localhost:8080/"
        },
        "id": "D_34dvbhoCa3",
        "outputId": "8aff4284-9374-4508-e240-188b9fddadf9"
      },
      "execution_count": null,
      "outputs": [
        {
          "output_type": "stream",
          "name": "stdout",
          "text": [
            "['here', 'comes', 'the', 'sun']\n",
            "['comes', 'here', 'sun', 'the']\n",
            "None\n",
            "['the', 'sun', 'here', 'comes']\n",
            "['the', 'sun', 'here', 'comes']\n"
          ]
        }
      ]
    },
    {
      "cell_type": "code",
      "source": [
        "# loop through a list, loop through a slice,  range(), and indentation\n",
        "\n",
        "colors = [\"green\", \"blue\", \"red\", \"purple\"]\n",
        "\n",
        "for c in colors:\n",
        "  print(c, \"apple\")\n",
        "\n",
        "for k in colors[0:3]:\n",
        "  print(k, \"painting\")\n",
        "\n",
        "ok = len(colors) \n",
        "\n",
        "for i in range(ok):\n",
        "  print(\"*\", colors[i] )\n",
        "  \n",
        "\n",
        "#numberList = range(5) #list of numbers from 0 till 4\n",
        "#print(numberList)\n",
        "#print(type(numberList))"
      ],
      "metadata": {
        "colab": {
          "base_uri": "https://localhost:8080/"
        },
        "id": "VEoNfhxgozww",
        "outputId": "c6dda660-6703-4f74-b6b6-c87c79df02c5"
      },
      "execution_count": null,
      "outputs": [
        {
          "output_type": "stream",
          "name": "stdout",
          "text": [
            "green apple\n",
            "blue apple\n",
            "red apple\n",
            "purple apple\n",
            "green painting\n",
            "blue painting\n",
            "red painting\n",
            "* green\n",
            "* blue\n",
            "* red\n",
            "* purple\n"
          ]
        }
      ]
    },
    {
      "cell_type": "code",
      "source": [
        "# copy a list\n",
        "\n",
        "\n",
        "listA = [\"apples\", \"airplane\", \"air\"]\n",
        "listB = [\"bananas\", \"bottle\", \"baby\"]\n",
        "\n",
        "# dont do this\n",
        "listC = listA   ## REnaming - linked together. making A will change C\n",
        "print(listC)\n",
        "\n",
        "listA.append(\"alpha\")\n",
        "print(listC)\n",
        "\n",
        "\n",
        "# do this instead\n",
        "# *****************************************************************\n",
        "listD = listA[:] # actually COPY all values to a new list-variable\n",
        "# *****************************************************************\n",
        "listA.append(\"aerodynamics\")\n",
        "\n",
        "print(\"this is list D: \", listD)\n",
        "print(\"this is list A: \", listA)"
      ],
      "metadata": {
        "colab": {
          "base_uri": "https://localhost:8080/"
        },
        "id": "6hw2_sZZo1k2",
        "outputId": "b0ca9ab0-d015-4024-cc36-21744f79fec9"
      },
      "execution_count": null,
      "outputs": [
        {
          "output_type": "stream",
          "name": "stdout",
          "text": [
            "['apples', 'airplane', 'air']\n",
            "['apples', 'airplane', 'air', 'alpha']\n",
            "this is list D:  ['apples', 'airplane', 'air', 'alpha']\n",
            "this is list A:  ['apples', 'airplane', 'air', 'alpha', 'aerodynamics']\n"
          ]
        }
      ]
    },
    {
      "cell_type": "code",
      "source": [
        "\n",
        "\n",
        "# ***** TUPLES ******\n",
        "\n",
        "# tuples are lists you cannot modify\n",
        "\n",
        "myTuple = (7, 8, 9)\n",
        "\n",
        "print(myTuple)\n",
        "\n",
        "#myTuple[1] = 5\n",
        "\n",
        "myList = list(myTuple)\n",
        "\n",
        "print(myList)\n",
        "\n",
        "print(tuple(myList))"
      ],
      "metadata": {
        "id": "jkF9pSjVDXbh",
        "colab": {
          "base_uri": "https://localhost:8080/"
        },
        "outputId": "5c6df277-993b-4cb4-bc61-9ec953383029"
      },
      "execution_count": 52,
      "outputs": [
        {
          "output_type": "stream",
          "name": "stdout",
          "text": [
            "(7, 8, 9)\n",
            "[7, 8, 9]\n",
            "(7, 8, 9)\n"
          ]
        }
      ]
    },
    {
      "cell_type": "code",
      "source": [],
      "metadata": {
        "id": "6Wb1bVW5DZbP"
      },
      "execution_count": null,
      "outputs": []
    }
  ]
}