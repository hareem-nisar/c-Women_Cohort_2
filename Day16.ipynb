{
  "nbformat": 4,
  "nbformat_minor": 0,
  "metadata": {
    "colab": {
      "provenance": [],
      "collapsed_sections": []
    },
    "kernelspec": {
      "name": "python3",
      "display_name": "Python 3"
    },
    "language_info": {
      "name": "python"
    }
  },
  "cells": [
    {
      "cell_type": "code",
      "source": [
        "## -------- Trying a new format: 1-1 example format. ---------------- ##"
      ],
      "metadata": {
        "id": "9YmDiCWQRFRh"
      },
      "execution_count": null,
      "outputs": []
    },
    {
      "cell_type": "code",
      "execution_count": 6,
      "metadata": {
        "id": "JDzhqG60OGZm",
        "colab": {
          "base_uri": "https://localhost:8080/"
        },
        "outputId": "94ff1114-9dc5-48de-d341-d133b26c2dc4"
      },
      "outputs": [
        {
          "output_type": "stream",
          "name": "stdout",
          "text": [
            "Lets add some numbers!!\n",
            "80\n",
            "3\n",
            "9\n",
            "The end\n"
          ]
        }
      ],
      "source": [
        "# Revision - Functions \n",
        "# Definition , call , default arguments\n",
        "\n",
        "def sum(a, b=0, c=0):\n",
        "  ans = a+b+c\n",
        "  print(ans)\n",
        "\n",
        "print(\"Lets add some numbers!!\")\n",
        "sum(10,20,50)\n",
        "sum(a=1,c=2)\n",
        "sum(3, 6)\n",
        "print(\"The end\")\n",
        "\n",
        "\n",
        "\n"
      ]
    },
    {
      "cell_type": "code",
      "source": [
        "def greater(a, b=0):\n",
        "  if a>b:\n",
        "    print(a, \"is greater than \", b)\n",
        "    #result = a\n",
        "    return a\n",
        "  else:\n",
        "    print(b, \"is greater than \", a)\n",
        "    #result = b\n",
        "    return b\n",
        "\n",
        "  #return result\n",
        "\n",
        "\n",
        "print(\"We have a winner - \", greater(7, 2))\n",
        "print(\"We have a winner - \", greater(-9, 25))\n",
        "print(\"We have a winner - \", greater(10))\n",
        "print(\"We have a winner - \", greater(-5))"
      ],
      "metadata": {
        "colab": {
          "base_uri": "https://localhost:8080/"
        },
        "id": "FCkvE6gVwe92",
        "outputId": "6f7855b2-b7b6-4aa7-d2ca-7ec5c833ec16"
      },
      "execution_count": 15,
      "outputs": [
        {
          "output_type": "stream",
          "name": "stdout",
          "text": [
            "7 is greater than  2\n",
            "We have a winner -  7\n",
            "25 is greater than  -9\n",
            "We have a winner -  25\n",
            "10 is greater than  0\n",
            "We have a winner -  10\n",
            "0 is greater than  -5\n",
            "We have a winner -  0\n"
          ]
        }
      ]
    },
    {
      "cell_type": "code",
      "source": [
        "# Returning values\n",
        "\n",
        "def sum(a, b=0, c=0):\n",
        "  ans = a+b+c\n",
        "  return ans\n",
        "\n",
        "print(\"Lets add some numbers!!\")\n",
        "x = sum(10,20,50)\n",
        "y = sum(a=1,c=2)\n",
        "z = sum(3, 6)\n",
        "print(x, y, z)\n",
        "print(\"The end\")\n",
        "\n",
        "\n"
      ],
      "metadata": {
        "id": "oNSQblGgOpko",
        "colab": {
          "base_uri": "https://localhost:8080/"
        },
        "outputId": "4d579f21-e40c-4617-8f17-1371a9876108"
      },
      "execution_count": 9,
      "outputs": [
        {
          "output_type": "stream",
          "name": "stdout",
          "text": [
            "Lets add some numbers!!\n",
            "80 3 9\n",
            "The end\n"
          ]
        }
      ]
    },
    {
      "cell_type": "code",
      "source": [
        "#whenever you hit return first, exit the function. \n",
        "\n",
        "def randomMath(a,b):\n",
        "  d = b+20\n",
        "  return d\n",
        "  d = d-a      #never executed\n",
        "  print(\"test\")#never executed\n",
        "  return d     #never executed\n",
        "\n",
        "print(randomMath(10, 20))\n",
        "\n"
      ],
      "metadata": {
        "colab": {
          "base_uri": "https://localhost:8080/"
        },
        "id": "8Vl_GDll0TT7",
        "outputId": "77c6c0b2-7011-4efc-fb1a-bb5b668bc08d"
      },
      "execution_count": 18,
      "outputs": [
        {
          "output_type": "stream",
          "name": "stdout",
          "text": [
            "40\n"
          ]
        }
      ]
    },
    {
      "cell_type": "code",
      "source": [
        "#### ---------------- > Annotate to figure out the workflow of code above. "
      ],
      "metadata": {
        "id": "kfoHDlXNTaT6"
      },
      "execution_count": null,
      "outputs": []
    },
    {
      "cell_type": "code",
      "source": [
        "# Passing an Arbitrary Number of Arguments using * (assume a tuple/list of variable length) \n",
        "# soup time. \n",
        "\n",
        "\n",
        "def soup(broth, *ingredients):\n",
        "  print(\"The base is \", broth)\n",
        "  print(\"The ingredients are: \", ingredients)\n",
        "\n",
        "\n",
        "soup(\"chicken\", \"green onions\")\n",
        "soup(\"vege\", \"carrots\", \"broccoli\", \"onions\")\n"
      ],
      "metadata": {
        "id": "b5VObIodPm-6",
        "colab": {
          "base_uri": "https://localhost:8080/"
        },
        "outputId": "eda80c13-5ecb-4efa-f2c4-df3a48df64d8"
      },
      "execution_count": 22,
      "outputs": [
        {
          "output_type": "stream",
          "name": "stdout",
          "text": [
            "The base is  chicken\n",
            "The ingredients are:  ('green onions',)\n",
            "The base is  vege\n",
            "The ingredients are:  ('carrots', 'broccoli', 'onions')\n"
          ]
        }
      ]
    },
    {
      "cell_type": "code",
      "source": [
        "# Changing a List inside a function is permanent.\n",
        "\n",
        "# Preventing a Function from Modifying a List - send a copy of the list.\n",
        "\n",
        "def icecream(base, flavors):\n",
        "  print(\"Here is your icecream with \", len(flavors), \" flavors\")\n",
        "  flavors.append(\"cotton candy\")\n",
        "\n",
        "f  = [\"vanilla\", \"choco\", \"nutella\"]\n",
        "icecream(\"wafer\", f[:])\n",
        "print(f)\n"
      ],
      "metadata": {
        "id": "K46yvK7OOrQ_",
        "colab": {
          "base_uri": "https://localhost:8080/"
        },
        "outputId": "4931d859-65b7-4da6-dbae-f2a460417588"
      },
      "execution_count": 26,
      "outputs": [
        {
          "output_type": "stream",
          "name": "stdout",
          "text": [
            "Here is your icecream with  3  flavors\n",
            "['vanilla', 'choco', 'nutella']\n"
          ]
        }
      ]
    },
    {
      "cell_type": "code",
      "source": [
        "#task 1 \n",
        "\"\"\"\n",
        "create a function (e.g. myFunc) that calculates the length of your first name (fname) and last name (lname) \n",
        "and return those 2 numbers. \n",
        "In the main, print those numbers using the function call as:\n",
        "myFunc(\"Brittany\", \"Spears\")\n",
        "myFunc(\"Barbie\")\n",
        "\n",
        "Sample output: \n",
        "First name: 8 and Last name: 6\n",
        "First name: 6 and Last name: 0\n",
        "\"\"\""
      ],
      "metadata": {
        "id": "0Mg5Sg6IRYVO"
      },
      "execution_count": null,
      "outputs": []
    },
    {
      "cell_type": "code",
      "source": [
        "# task 2\n",
        "\"\"\"\n",
        "Each person can eat 2 cupcakes. \n",
        "You are hosting a party. Guests are pouring in. start with an empty list\n",
        "Create a while loop (in the main) that asks the user to enter their name. \n",
        "Append all guest names to a list.\n",
        "Now pass this list to a function (MAKE SURE TO SEND IT PROPERLY). \n",
        "\n",
        "Your function should calvulate how many cupcakes are needed and return that number \n",
        "\n",
        "Print the number of cupcakes you should order (in the main) \n",
        "\"\"\""
      ],
      "metadata": {
        "id": "NLXyFFxSRriX"
      },
      "execution_count": null,
      "outputs": []
    },
    {
      "cell_type": "code",
      "source": [],
      "metadata": {
        "colab": {
          "base_uri": "https://localhost:8080/"
        },
        "id": "KZVnD1Jq5ks-",
        "outputId": "a45efe44-ade8-4a3c-8612-7bbc68e9641a"
      },
      "execution_count": 20,
      "outputs": [
        {
          "output_type": "execute_result",
          "data": {
            "text/plain": [
              "5"
            ]
          },
          "metadata": {},
          "execution_count": 20
        }
      ]
    },
    {
      "cell_type": "code",
      "source": [],
      "metadata": {
        "id": "OchNFPmk5pAv"
      },
      "execution_count": null,
      "outputs": []
    }
  ]
}