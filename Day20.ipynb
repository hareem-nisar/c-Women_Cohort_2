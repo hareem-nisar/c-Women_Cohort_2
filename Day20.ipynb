{
  "nbformat": 4,
  "nbformat_minor": 0,
  "metadata": {
    "colab": {
      "provenance": []
    },
    "kernelspec": {
      "name": "python3",
      "display_name": "Python 3"
    },
    "language_info": {
      "name": "python"
    }
  },
  "cells": [
    {
      "cell_type": "code",
      "execution_count": 18,
      "metadata": {
        "colab": {
          "base_uri": "https://localhost:8080/"
        },
        "id": "L1PGSdbrFe13",
        "outputId": "d3c77073-561b-4359-b04d-53ef3c1b5030"
      },
      "outputs": [
        {
          "output_type": "stream",
          "name": "stdout",
          "text": [
            "Welcome to the Zoo\n",
            "******************\n",
            "\n",
            "\n",
            "This is a  Crocodile\n",
            "Depends on the animal\n",
            "\n",
            "\n",
            "This is a  Lion\n",
            "Lion is a mammal\n",
            "Lion has 4 legs\n",
            "\n",
            "\n",
            "This is a  Pigeon\n",
            "Pigeon is a bird\n",
            "Pigeon has 2 legs\n",
            "\n",
            "\n",
            "This is a  Pepticide\n",
            "Pepticide is a bird\n",
            "Pepticide is a mammal\n",
            "hey yo Alien animal!\n",
            "Pepticide has 4 legs\n"
          ]
        }
      ],
      "source": [
        "# Revision - Inheritance \n",
        "\n",
        "# this is a software designed for a Zoo Keeper\n",
        "\n",
        "class Animal():\n",
        "  def __init__(self, t):\n",
        "    self.species = t\n",
        "    print(\"This is a \", self.species)\n",
        "  \n",
        "  def numOfLegs(self):\n",
        "    print(\"Depends on the animal\")\n",
        "\n",
        "class Mammal(Animal):\n",
        "  def __init__(self, s):\n",
        "    super().__init__(s)\n",
        "    print(self.species, \"is a mammal\")\n",
        "  \n",
        "  def numOfLegs(self):\n",
        "    print(self.species ,\"has 4 legs\")\n",
        "    \n",
        "  def food(self):\n",
        "    print(self.species, \"eat food like meat and veges\")\n",
        "\n",
        "class Birds(Animal):\n",
        "  def __init__(self, s):\n",
        "    super().__init__(s)\n",
        "    print(self.species, \"is a bird\")\n",
        "\n",
        "  def numOfLegs(self):\n",
        "    print(self.species ,\"has 2 legs\")\n",
        "\n",
        "\n",
        "class AlienAnimal(Mammal, Birds):\n",
        "  def __init__(self, s):\n",
        "    super().__init__(s)\n",
        "    print(\"hey yo Alien animal!\")\n",
        "    self.numOfLegs()\n",
        "\n",
        "# main code\n",
        "print(\"Welcome to the Zoo\")\n",
        "print(\"******************\")\n",
        "print(\"\\n\")\n",
        "a1 = Animal(\"Crocodile\")\n",
        "a1.numOfLegs()\n",
        "print(\"\\n\")\n",
        "a2 = Mammal(\"Lion\")\n",
        "a2.numOfLegs()\n",
        "print(\"\\n\")\n",
        "a3 = Birds(\"Pigeon\")\n",
        "a3.numOfLegs()\n",
        "print(\"\\n\")\n",
        "a3 = AlienAnimal(\"Pepticide\")\n",
        "# SELF - 1) if you want to use/call a method in the main code\n",
        "#      - 2) if you want use an attribute or another method in your class's method\n",
        "\n"
      ]
    },
    {
      "cell_type": "code",
      "source": [
        "listBirds = [\"Woodpecker\", \"Sparrow\", \"Pigeon\"]\n",
        "listMammals = [\"Lion\", \"Elephant\", \"Monkey\"]\n",
        "\n",
        "a = input(\"Enter an animal: \")\n",
        "if a in listBirds:\n",
        "  b = Birds(a)\n",
        "  b.numOfLegs()\n",
        "elif a in listMammals:\n",
        "  m = Mammal(a)\n",
        "  m.numOfLegs()\n",
        "else:\n",
        "  n = Animal(a)\n",
        "  n.numOfLegs()"
      ],
      "metadata": {
        "colab": {
          "base_uri": "https://localhost:8080/"
        },
        "id": "umiYw0VwSV-f",
        "outputId": "78e5c35b-7b2c-4e89-dc7d-f821829fd595"
      },
      "execution_count": 21,
      "outputs": [
        {
          "output_type": "stream",
          "name": "stdout",
          "text": [
            "Enter an animalCrocodile\n",
            "This is a  Crocodile\n",
            "Depends on the animal\n"
          ]
        }
      ]
    },
    {
      "cell_type": "code",
      "source": [],
      "metadata": {
        "id": "IGQ-MBxub28A"
      },
      "execution_count": null,
      "outputs": []
    }
  ]
}