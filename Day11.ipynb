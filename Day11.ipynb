{
  "nbformat": 4,
  "nbformat_minor": 0,
  "metadata": {
    "colab": {
      "provenance": [],
      "collapsed_sections": []
    },
    "kernelspec": {
      "name": "python3",
      "display_name": "Python 3"
    },
    "language_info": {
      "name": "python"
    }
  },
  "cells": [
    {
      "cell_type": "code",
      "source": [
        "# revision - Lists\n",
        "\n",
        "randomList = [\"Hareem\", \"Nisar\", 8, 5.4, True, [\"pink\", \"grey\"]]\n",
        "\n",
        "print(len(randomList))\n",
        "\n",
        "randomList.append(\"yellowBees\")\n",
        "print(randomList)\n",
        "\n",
        "randomList.insert(3, \"ball\")\n",
        "print(randomList)\n",
        "\n",
        "print(randomList[5]) ## indexing starts from 0 \n",
        "\n",
        "randomList[4] = 9.9\n",
        "print(randomList)\n",
        "\n",
        "print(randomList[1:4]) # slicing\n",
        "\n",
        "del randomList[1]\n",
        "##del randomList[-1]\n",
        "randomList.pop()\n",
        "randomList.pop(2)\n",
        "randomList.remove(9.9)\n",
        "print(randomList)\n",
        "\n",
        "#randomList.sort() #alphabetically\n",
        "#randomList.reverse() # from Z to A\n",
        "\n",
        "print(randomList)\n",
        "randomList[3].append(\"yellow\")\n",
        "\n",
        "print(randomList)\n",
        "\n",
        "#randomList[0] = list(randomList[0])\n",
        "#randomList[0].append(\"Nisar\")\n",
        "\n",
        "randomList[0] = randomList[0] + \" Nisar\"\n",
        "\n",
        "print(randomList)\n",
        "\n",
        "list1 = randomList[0:3]\n",
        "randomList.append(list1)\n",
        "\n",
        "print(randomList)\n",
        "\n",
        "##randomList[5] = \"hello\" ## replacing\n"
      ],
      "metadata": {
        "colab": {
          "base_uri": "https://localhost:8080/"
        },
        "id": "Voa_PlskXgXX",
        "outputId": "58a2d17e-cd3d-4233-cd5b-d3069a78367c"
      },
      "execution_count": 24,
      "outputs": [
        {
          "output_type": "stream",
          "name": "stdout",
          "text": [
            "6\n",
            "['Hareem', 'Nisar', 8, 5.4, True, ['pink', 'grey'], 'yellowBees']\n",
            "['Hareem', 'Nisar', 8, 'ball', 5.4, True, ['pink', 'grey'], 'yellowBees']\n",
            "True\n",
            "['Hareem', 'Nisar', 8, 'ball', 9.9, True, ['pink', 'grey'], 'yellowBees']\n",
            "['Nisar', 8, 'ball']\n",
            "['Hareem', 8, True, ['pink', 'grey']]\n",
            "['Hareem', 8, True, ['pink', 'grey']]\n",
            "['Hareem', 8, True, ['pink', 'grey', 'yellow']]\n",
            "['Hareem Nisar', 8, True, ['pink', 'grey', 'yellow']]\n",
            "['Hareem Nisar', 8, True, ['pink', 'grey', 'yellow'], ['Hareem Nisar', 8, True]]\n"
          ]
        }
      ]
    },
    {
      "cell_type": "code",
      "execution_count": null,
      "metadata": {
        "id": "zTIYwxKTSC0G"
      },
      "outputs": [],
      "source": [
        "\n",
        "\n",
        "# Revision - list related task \n",
        "\n",
        "\n",
        "\"\"\"\n",
        "* A day in the life of a florist *\n",
        " \n",
        "1. create an inventory - list of flowers/plants you have. \n",
        "   Open your shop - Display your inventory in a pretty way. \n",
        "2. customer Peppa comes in, and wants a birthday boquet.\n",
        "   allow peppa to choose upto 3 types of flowers  \n",
        "   create a new list that contains those flowers from your inventory\n",
        "   print out the flowers used in the boquet and thank Peppa. \n",
        "   (Dont worry about the cost just yet).  \n",
        "3. Update your inventory.\n",
        "4. Now its the end of the day and the last two flowers in your inventory have dried up. \n",
        "   Hang them up to dry (hint: create a new list called dried_flowers and update inventory)\n",
        "5. Close your Shop. Take the rest of the flowers home.  \n",
        "\n",
        "\"\"\""
      ]
    },
    {
      "cell_type": "code",
      "source": [
        "\n"
      ],
      "metadata": {
        "id": "T8oEnEyBoK1I"
      },
      "execution_count": 30,
      "outputs": []
    },
    {
      "cell_type": "code",
      "source": [
        "# Dictionaries - key and value \n",
        "\n",
        "personA = {  \"name\":\"harry\"  , \"age\":10   ,  \"gender\":\"boy\"  }\n",
        "\n",
        "print(type(personA))\n",
        "print(personA)\n",
        "\n",
        "\n",
        "#Accessing Values in a Dictionary\n",
        "\n",
        "print(personA[\"name\"])\n",
        "print(personA[\"name\"], \" is \", personA[\"age\"], \" years old\")\n",
        "\n",
        "# Adding New Key-Value Pairs\n",
        "personA[\"height\"] = \"170 cm\"\n",
        "\n",
        "print(personA)\n",
        "\n",
        "w1 = input(\"Enter a new key\") \n",
        "w2 = input(\"Enter the value for the above key\")\n",
        "\n",
        "personA[w1] = int(w2)\n",
        "\n",
        "print(personA)"
      ],
      "metadata": {
        "colab": {
          "base_uri": "https://localhost:8080/"
        },
        "id": "m7YToT4yipFP",
        "outputId": "3779aa4d-8fd3-45f9-edf8-e7ab65ea2cf9"
      },
      "execution_count": 36,
      "outputs": [
        {
          "output_type": "stream",
          "name": "stdout",
          "text": [
            "<class 'dict'>\n",
            "{'name': 'harry', 'age': 10, 'gender': 'boy'}\n",
            "harry\n",
            "harry  is  10  years old\n",
            "{'name': 'harry', 'age': 10, 'gender': 'boy', 'height': '170 cm'}\n",
            "Enter a new keyweight\n",
            "Enter the value for the above key58\n",
            "{'name': 'harry', 'age': 10, 'gender': 'boy', 'height': '170 cm', 'weight': 58}\n"
          ]
        }
      ]
    },
    {
      "cell_type": "code",
      "source": [
        "# Starting with an Empty Dictionary\n",
        "menu = {}\n",
        "\n",
        "menu[\"tea\"] = 2\n",
        "menu[\"coffee\"] = 3\n",
        "\n",
        "print(menu)\n",
        "\n",
        "# Modify a value\n",
        "menu[\"tea\"] = 2.3\n",
        "print(menu)\n",
        "\n",
        "\n",
        "# Removing a key-value pair\n",
        "del menu[\"tea\"]\n",
        "print(menu)"
      ],
      "metadata": {
        "colab": {
          "base_uri": "https://localhost:8080/"
        },
        "id": "CrpExNWOipHd",
        "outputId": "54be524d-21ff-445b-e444-f7ed22ca8ffa"
      },
      "execution_count": 41,
      "outputs": [
        {
          "output_type": "stream",
          "name": "stdout",
          "text": [
            "{'tea': 2, 'coffee': 3}\n",
            "{'tea': 2.3, 'coffee': 3}\n",
            "{'coffee': 3}\n"
          ]
        }
      ]
    },
    {
      "cell_type": "code",
      "source": [
        "# A Dictionary of Similar Objects\n",
        "# keys are unique, values can be repeated\n",
        "mood_log = {\"Mon\":\"sad\", \"Tue\":\"happy\", \"Wed\":\"happy\", \"Thurs\":\"anxious\", \"Fri\":\"bliss\"}\n",
        "\n",
        "print(mood_log)\n",
        "\n",
        "\n",
        "\n"
      ],
      "metadata": {
        "colab": {
          "base_uri": "https://localhost:8080/"
        },
        "id": "-eJXtZ3gjyhJ",
        "outputId": "597e92c6-cf0b-4e42-cca5-5a7042044e09"
      },
      "execution_count": 42,
      "outputs": [
        {
          "output_type": "stream",
          "name": "stdout",
          "text": [
            "{'Mon': 'sad', 'Tue': 'happy', 'Wed': 'happy', 'Thurs': 'anxious', 'Fri': 'bliss'}\n"
          ]
        }
      ]
    },
    {
      "cell_type": "code",
      "source": [
        "# Task 2 - edit the list-revision-task but add cost to it !!! or design another menu"
      ],
      "metadata": {
        "id": "vmmK9Tvnj_Ar"
      },
      "execution_count": null,
      "outputs": []
    },
    {
      "cell_type": "code",
      "source": [
        "# practice (optional) - credits: Python Crash Course \n",
        "\"\"\"\n",
        "6-1. Person: Use a dictionary to store information about a person you know. \n",
        "Store their first name, last name, age, and the city in which they live. \n",
        "You should have keys such as first_name, last_name, age, and city.\n",
        " Print each piece of information stored in your dictionary. \n",
        " \n",
        "\n",
        " 6-2. Favorite Numbers: Use a dictionary to store people’s favorite numbers. \n",
        " Think of five names, and use them as keys in your dictionary. \n",
        " Think of a favorite number for each person, and store each as a value in your dictionary. \n",
        " Print each person’s name and their favorite number. \n",
        " For even more fun, poll a few friends and get some actual data for your program. \n",
        " \n",
        " 6-3. Glossary: A Python dictionary can be used to model an actual dictionary. \n",
        " However, to avoid confusion, let’s call it a glossary. \n",
        " • Think of five programming words you’ve learned about in the previous chapters. \n",
        " Use these words as the keys in your glossary, and store their meanings as values.\n",
        "• Print each word and its meaning as neatly formatted output. \n",
        "You might print the word followed by a colon and then its meaning, or print the word on one line\n",
        " and then print its meaning indented on a second line. \n",
        " Use the newline character (\\n) to insert a blank line between each word-meaning pair in your output.\n",
        "\n",
        " \"\"\""
      ],
      "metadata": {
        "id": "srqV2jB7kIwM"
      },
      "execution_count": null,
      "outputs": []
    }
  ]
}