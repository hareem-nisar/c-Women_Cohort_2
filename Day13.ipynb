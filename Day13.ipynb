{
  "nbformat": 4,
  "nbformat_minor": 0,
  "metadata": {
    "colab": {
      "provenance": [],
      "collapsed_sections": []
    },
    "kernelspec": {
      "name": "python3",
      "display_name": "Python 3"
    },
    "language_info": {
      "name": "python"
    }
  },
  "cells": [
    {
      "cell_type": "code",
      "execution_count": 1,
      "metadata": {
        "colab": {
          "base_uri": "https://localhost:8080/"
        },
        "id": "wACpeJD1GdwD",
        "outputId": "7d430db3-b02d-435e-96ab-1c42b9f774c3"
      },
      "outputs": [
        {
          "output_type": "stream",
          "name": "stdout",
          "text": [
            "cars\n",
            "trains\n",
            "jets\n",
            "78\n",
            "True\n"
          ]
        }
      ],
      "source": [
        "# Revision - List, dictionaries, ifs and looping through them. \n",
        "\n",
        "transport = [\"cars\", \"trains\", \"jets\", 78, True]\n",
        "\n",
        "for t in transport:\n",
        "  print(t)\n",
        "\n",
        "#append, insert, remove, pop, del, sort, reverse\n"
      ]
    },
    {
      "cell_type": "code",
      "source": [
        "studentA = {\"name\":\"Jignasa\",  \"marks\":95}\n",
        "studentA[\"lastName\"] = \"Joshi\"\n",
        "\n",
        "for key in sorted(studentA.keys()):\n",
        "  print(key, \" is \", studentA[key] )\n",
        "\n",
        "for val in studentA.values():\n",
        "  print(val)\n",
        "\n",
        "for k, v in studentA.items():\n",
        "  print(k, v)\n"
      ],
      "metadata": {
        "colab": {
          "base_uri": "https://localhost:8080/"
        },
        "id": "7R5CalMmKYuc",
        "outputId": "4b502344-4cb4-40e3-caac-4997673f8bdb"
      },
      "execution_count": 7,
      "outputs": [
        {
          "output_type": "stream",
          "name": "stdout",
          "text": [
            "lastName  is  Joshi\n",
            "marks  is  95\n",
            "name  is  Jignasa\n",
            "Jignasa\n",
            "95\n",
            "Joshi\n",
            "name Jignasa\n",
            "marks 95\n",
            "lastName Joshi\n"
          ]
        }
      ]
    },
    {
      "cell_type": "code",
      "source": [
        "# task:  party attendance dictionary \n",
        "\n",
        "\"\"\"\n",
        "user input\n",
        "personA = { ___name, ___coming, __guests)\n",
        "personB\n",
        "personC\n",
        "\n",
        "sum of guests?\n",
        "\"\"\""
      ],
      "metadata": {
        "id": "PyQJN55AHvVY"
      },
      "execution_count": null,
      "outputs": []
    },
    {
      "cell_type": "code",
      "source": [
        "# NESTING Data Types"
      ],
      "metadata": {
        "id": "awTu4IlKOvJh"
      },
      "execution_count": null,
      "outputs": []
    },
    {
      "cell_type": "code",
      "source": [
        "# List of Dictionaries \n",
        "\n",
        "personA = {\"Name\":\"Ali\", \"age\": 55} #dictionary\n",
        "personB = {\"Name\":\"Ben\", \"age\": 45} #dictionary\n",
        "personC = {\"Name\":\"Cal\", \"age\": 50} #dictionary\n",
        "\n",
        "listPeople = [personA, personB, personC, {\"Name\":\"Don\", \"age\":75}] #list of dictionaries\n",
        "\n",
        "#print(listPeople)\n",
        "\n",
        "for p in listPeople:\n",
        "  #print(p) # p is a dictionary\n",
        "  \n",
        "  for i in p.values():\n",
        "    print(i)\n",
        "\n",
        "print(\"****\")\n",
        "for i in listPeople[2].values(): #loop over the 3rd elemnt in the list\n",
        "  print(i)"
      ],
      "metadata": {
        "colab": {
          "base_uri": "https://localhost:8080/"
        },
        "id": "vBvPa95uOvRU",
        "outputId": "39628b9a-d608-418b-e3b3-c28e6686f87f"
      },
      "execution_count": 15,
      "outputs": [
        {
          "output_type": "stream",
          "name": "stdout",
          "text": [
            "Ali\n",
            "55\n",
            "Ben\n",
            "45\n",
            "Cal\n",
            "50\n",
            "Don\n",
            "75\n",
            "****\n",
            "Cal\n",
            "50\n"
          ]
        }
      ]
    },
    {
      "cell_type": "code",
      "source": [
        "# A list in a dictionary (as a value)\n",
        "\n",
        "# example: marble slab\n",
        "\n",
        "icecream = {\"base\":\"cone\", \"flavors\":[\"vanilla\", \"chocolate\"]} ## this is a dictionary , containing a list as a value\n",
        "\n",
        "flavorList = icecream[\"flavors\"] # list with 2 elements\n",
        "\n",
        "print(flavorList)\n",
        "\n",
        "for f in flavorList:\n",
        "  print(\"I love \", f)\n",
        "\n",
        "\n",
        "## how to access the list directly??\n",
        "\n",
        "for g in icecream[\"flavors\"]:\n",
        "  print(g, \" is alright\")\n"
      ],
      "metadata": {
        "colab": {
          "base_uri": "https://localhost:8080/"
        },
        "id": "I-KAxsDcOzuA",
        "outputId": "ca9bf3a7-4f60-4f69-834d-cfdb9be1618b"
      },
      "execution_count": 18,
      "outputs": [
        {
          "output_type": "stream",
          "name": "stdout",
          "text": [
            "['vanilla', 'chocolate']\n",
            "I love  vanilla\n",
            "I love  chocolate\n",
            "vanilla  is alright\n",
            "chocolate  is alright\n"
          ]
        }
      ]
    },
    {
      "cell_type": "code",
      "source": [
        "# A Dictionary in a Dictionary\n",
        "\n",
        "\n",
        "guest = { \"Maria\":{\"Guest\":10, \"rsvp\":True} ,\n",
        "          \"Tod\" : {\"Guest\":3, \"rsvp\":True},\n",
        "         \"Anna\" : {\"Guest\":0, \"rsvp\":False} } \n",
        "\n",
        "#print(guest[\"Maria\"]) #Maria a a key/String. guest[\"Maria\"] is a value/Dictionary\n",
        "\n",
        "sum = 0 \n",
        "for g in guest.values(): #g is a dictionary\n",
        "  #print(g)\n",
        "  #print(g[\"guest\"])\n",
        "  sum = sum + g[\"Guest\"]\n",
        "\n",
        "print(\"Total guests coming = \", sum)"
      ],
      "metadata": {
        "colab": {
          "base_uri": "https://localhost:8080/"
        },
        "id": "drUGsRlNO-oS",
        "outputId": "9ad84094-87f6-4c13-ce72-a26d935e490b"
      },
      "execution_count": 25,
      "outputs": [
        {
          "output_type": "stream",
          "name": "stdout",
          "text": [
            "Total guests coming =  13\n"
          ]
        }
      ]
    },
    {
      "cell_type": "code",
      "source": [
        "# task 2 \n",
        "\"\"\"\n",
        "Pizza ordering system\n",
        "1- ask users their name , pizza base, pizza toppings (create one dictionary)\n",
        "2- Ask how many and what pizza toppings they want. Add that to the list of toppings. \n",
        "3- Calculate the cost of pizza.\n",
        "(Note that base will have a fix price, but the number of toppings can change the overall cost of teh pizza)\n",
        "\"\"\"\n",
        "\"\"\"\n",
        "##Sample output: \n",
        "\n",
        "Whats the name for the order: KELLY\n",
        "What base do you want?      : THIN CRUST\n",
        "How many toppings do you want: 3\n",
        "Add topping 1:     PEPPERONI\n",
        "Add topping 2:     CHEESE\n",
        "Add topping 3:     ONIONS\n",
        "The total cost is  = 19$$            ##10+(3x3)\n",
        "\n",
        "\"\"\""
      ],
      "metadata": {
        "id": "VUUunIwxg-zp"
      },
      "execution_count": null,
      "outputs": []
    },
    {
      "cell_type": "code",
      "source": [
        "\"\"\"\n",
        "Practice questions \n",
        "credit: Python Crash Course\n",
        "\n",
        "Q1\n",
        "Make two new dictionaries representing different people, and store all two dictionaries in a list called people.\n",
        "Loop through your list of people. \n",
        "As you loop through the list, print everything you know about each person.\n",
        "\n",
        "\n",
        "Q2 \n",
        "Make several dictionaries, where the name of each dictionary is the name of a pet.\n",
        " In each dictionary, include the kind of animal and the owner’s name. \n",
        " Store these dictionaries in a list called pets. \n",
        " Next, loop through your list and as you do print everything you know about each pet.\n",
        "\n",
        "Q3\n",
        "Make a dictionary called favorite_places. Think of three names to use as keys in the dictionary,\n",
        " and store one to three favorite places for each person. \n",
        " To make this exercise a bit more interesting, ask some friends to name a few of their favorite places.\n",
        " Loop through the dictionary, and print each person’s name and their favorite places.\n",
        "\n",
        "Q4\n",
        "Make a dictionary called cities. Use the names of three cities as keys in your dictionary. \n",
        "Create a dictionary of information about each city and include the country that the city is in,\n",
        " its approximate population, and one fact about that city. \n",
        " The keys for each city’s dictionary should be something like country, population, and fact. \n",
        " Print the name of each city and all of the information you have stored about it.\n",
        "\"\"\""
      ],
      "metadata": {
        "id": "j3zBDbSLmmZh"
      },
      "execution_count": null,
      "outputs": []
    }
  ]
}