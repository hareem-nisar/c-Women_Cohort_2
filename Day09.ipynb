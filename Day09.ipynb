{
  "nbformat": 4,
  "nbformat_minor": 0,
  "metadata": {
    "colab": {
      "provenance": [],
      "collapsed_sections": []
    },
    "kernelspec": {
      "name": "python3",
      "display_name": "Python 3"
    },
    "language_info": {
      "name": "python"
    }
  },
  "cells": [
    {
      "cell_type": "code",
      "execution_count": 9,
      "metadata": {
        "id": "7roy0XomSJDz",
        "colab": {
          "base_uri": "https://localhost:8080/"
        },
        "outputId": "7981dccd-4bc1-444a-9832-18320884ca0d"
      },
      "outputs": [
        {
          "output_type": "stream",
          "name": "stdout",
          "text": [
            "Hello person# 1\n",
            "bye\n",
            "Hello person# 2\n",
            "bye\n",
            "Hello person# 3\n",
            "bye\n",
            "Hello person# 4\n",
            "bye\n",
            "Hello person# 5\n",
            "bye\n",
            "done\n"
          ]
        }
      ],
      "source": [
        "# Revision - break, continue, pass, else \n",
        "\n",
        "for i in range(5):\n",
        "  print(\"Hello person#\", i+1)\n",
        "  if i+1==100:\n",
        "    break\n",
        "    #continue\n",
        "  print(\"bye\")\n",
        "else:\n",
        "  print(\"done\")\n",
        "\n",
        "\n",
        "for i in range(100):\n",
        "  pass"
      ]
    },
    {
      "cell_type": "code",
      "source": [],
      "metadata": {
        "id": "ARIi_wtsTHBE"
      },
      "execution_count": null,
      "outputs": []
    },
    {
      "cell_type": "code",
      "source": [
        "# Topic for Day09 - while loop\n",
        "\n",
        "\"\"\"\n",
        "while (some_condition):\n",
        "  line#1\n",
        "  line#2\n",
        "  line#3\n",
        "\n",
        "\"\"\"\n",
        "\n",
        "while False:\n",
        "  print(\"royalty\")\n",
        "\n"
      ],
      "metadata": {
        "id": "J5FFhKG2THEC"
      },
      "execution_count": 11,
      "outputs": []
    },
    {
      "cell_type": "code",
      "source": [
        "#control while using a number\n",
        "\n",
        "# runs infinity\n",
        "#x = 1\n",
        "#while x==1:\n",
        "#  print(\"ok\")\n",
        "\n",
        "y = 10\n",
        "while y>0:\n",
        "  y = y-1\n",
        "  print(y)\n",
        "  #y = y-1"
      ],
      "metadata": {
        "colab": {
          "base_uri": "https://localhost:8080/"
        },
        "id": "iyLFPuj7j5EH",
        "outputId": "7e7bc7da-9588-488c-9849-2d52200c6eb3"
      },
      "execution_count": 13,
      "outputs": [
        {
          "output_type": "stream",
          "name": "stdout",
          "text": [
            "9\n",
            "8\n",
            "7\n",
            "6\n",
            "5\n",
            "4\n",
            "3\n",
            "2\n",
            "1\n",
            "0\n"
          ]
        }
      ]
    },
    {
      "cell_type": "code",
      "source": [
        "t = 2\n",
        "\n",
        "while t<10:\n",
        "  print(t)\n",
        "  t = t+1   ## t++ in other languages\n",
        "  #t += 1\n",
        "\n",
        "\n",
        "\n"
      ],
      "metadata": {
        "colab": {
          "base_uri": "https://localhost:8080/"
        },
        "id": "B4InxrG8tb3_",
        "outputId": "39677f9e-e43d-42d3-8124-6a0b6860638e"
      },
      "execution_count": 14,
      "outputs": [
        {
          "output_type": "stream",
          "name": "stdout",
          "text": [
            "2\n",
            "3\n",
            "4\n",
            "5\n",
            "6\n",
            "7\n",
            "8\n",
            "9\n"
          ]
        }
      ]
    },
    {
      "cell_type": "code",
      "source": [
        "#control while using user-input\n",
        "\n",
        "money_left = 1000\n",
        "money_withdrawn = 1\n",
        "print(\"Welcome to your Bank\")\n",
        "\n",
        "while money_withdrawn>0 :\n",
        "  print(\"How much money you would like to withdraw?\")\n",
        "  money_withdrawn = float(input())\n",
        "\n",
        "  money_left = money_left - money_withdrawn\n",
        "  print(\"you have\", money_left, \"$ left\")\n",
        "\n",
        "\n",
        "print(\"Thank you for banking with us\")\n",
        "\n"
      ],
      "metadata": {
        "colab": {
          "base_uri": "https://localhost:8080/"
        },
        "id": "YMb-YdjXj5J4",
        "outputId": "8d39dca9-1f83-4a38-d97a-188a04870e56"
      },
      "execution_count": 17,
      "outputs": [
        {
          "output_type": "stream",
          "name": "stdout",
          "text": [
            "Welcome to your Bank\n",
            "How much money you would like to withdraw?\n",
            "200\n",
            "you have 800.0 $ left\n",
            "How much money you would like to withdraw?\n",
            "0\n",
            "you have 800.0 $ left\n"
          ]
        }
      ]
    },
    {
      "cell_type": "code",
      "source": [
        "money_left = 1000\n",
        "money_withdrawn = 1\n",
        "print(\"Welcome to your Bank\")\n",
        "\n",
        "while money_left>=0 :\n",
        "  print(\"How much money you would like to withdraw?\")\n",
        "  money_withdrawn = float(input())\n",
        "\n",
        "  if money_withdrawn > 500: ## withdraw limit \n",
        "    print(\"Limit reached\")\n",
        "    continue\n",
        "\n",
        "  if money_withdrawn>=money_left:\n",
        "    print(\"Insufficient balance\")\n",
        "    break\n",
        "\n",
        "  money_left = money_left - money_withdrawn\n",
        "  print(\"you have\", money_left, \"$ left\")\n",
        "\n",
        "\n",
        "print(\"Thank you for banking with us\")"
      ],
      "metadata": {
        "colab": {
          "base_uri": "https://localhost:8080/"
        },
        "id": "tg-3-UQh40-5",
        "outputId": "7d76afd8-6a33-4475-960f-022f06607db4"
      },
      "execution_count": 19,
      "outputs": [
        {
          "output_type": "stream",
          "name": "stdout",
          "text": [
            "Welcome to your Bank\n",
            "How much money you would like to withdraw?\n",
            "500\n",
            "you have 500.0 $ left\n",
            "How much money you would like to withdraw?\n",
            "700\n",
            "Insufficient balance\n",
            "Thank you for banking with us\n"
          ]
        }
      ]
    },
    {
      "cell_type": "code",
      "source": [
        "\n",
        "\n",
        "mood = \"happy\"\n",
        "\n",
        "while not(mood==\"sad\" or mood==\"tired\"):\n",
        "  print(\"Hows your mood\")\n",
        "  mood = input()\n",
        "\n",
        "\n",
        "\n"
      ],
      "metadata": {
        "colab": {
          "base_uri": "https://localhost:8080/"
        },
        "id": "zi8U-tCW6B8J",
        "outputId": "85261ef5-5995-470c-b633-c8b9fd151389"
      },
      "execution_count": 24,
      "outputs": [
        {
          "name": "stdout",
          "output_type": "stream",
          "text": [
            "Hows your mood\n",
            "happy\n",
            "Hows your mood\n",
            "tired\n"
          ]
        }
      ]
    },
    {
      "cell_type": "code",
      "source": [
        "\n",
        "mood = \"happy\"\n",
        "x =  True\n",
        "\n",
        "bad_moods = [\"sad\", \"tired\", \"angry\", \"depressed\", \"anxious\"]\n",
        "\n",
        "while x:\n",
        "  print(\"Hows your mood\")\n",
        "  mood = input()\n",
        "\n",
        "  if mood in bad_moods:\n",
        "    print(\"Sorry you are having a bad day\")\n",
        "    x = False\n",
        "\n",
        "\n",
        "\n"
      ],
      "metadata": {
        "colab": {
          "base_uri": "https://localhost:8080/"
        },
        "id": "3dbnUYhC8JTt",
        "outputId": "43f54c66-53f4-4ed0-8f8d-11108e830310"
      },
      "execution_count": 25,
      "outputs": [
        {
          "output_type": "stream",
          "name": "stdout",
          "text": [
            "Hows your mood\n",
            "happy\n",
            "Hows your mood\n",
            "quirky\n",
            "Hows your mood\n",
            "anxious\n",
            "Sorry you are having a bad day\n"
          ]
        }
      ]
    },
    {
      "cell_type": "code",
      "source": [
        "job = 'yes'\n",
        "\n",
        "while (not job=='quit'):\n",
        "  print(\"do you wish to do this job?\")\n",
        "  job = input()"
      ],
      "metadata": {
        "colab": {
          "base_uri": "https://localhost:8080/"
        },
        "id": "8o35UQva6qDM",
        "outputId": "3dc3ef0e-0bf9-414f-a911-af1c1a2d305b"
      },
      "execution_count": 21,
      "outputs": [
        {
          "name": "stdout",
          "output_type": "stream",
          "text": [
            "do you wish to do this job?\n",
            "yes\n",
            "do you wish to do this job?\n",
            "maybe\n",
            "do you wish to do this job?\n",
            "quit\n"
          ]
        }
      ]
    },
    {
      "cell_type": "code",
      "source": [
        "job = 'yes'\n",
        "\n",
        "while (job=='yes'):\n",
        "  print(\"do you wish to do this job?\")\n",
        "  job = input()"
      ],
      "metadata": {
        "colab": {
          "base_uri": "https://localhost:8080/"
        },
        "id": "IuuWA9xG7JIJ",
        "outputId": "f9500040-c242-44be-b8e1-9ce7948a047b"
      },
      "execution_count": 22,
      "outputs": [
        {
          "name": "stdout",
          "output_type": "stream",
          "text": [
            "do you wish to do this job?\n",
            "yes\n",
            "do you wish to do this job?\n",
            "yes\n",
            "do you wish to do this job?\n",
            "maybe\n"
          ]
        }
      ]
    },
    {
      "cell_type": "code",
      "source": [
        "#control while using bool / flag\n",
        "\n",
        "answer = True #boolean variable also called a FLAG\n",
        "Qnum = 1\n",
        "\n",
        "while (answer):\n",
        "  print(\"yay\")\n",
        "  Qnum = Qnum +1\n",
        "\n",
        "  if Qnum == 5:\n",
        "    answer = False\n"
      ],
      "metadata": {
        "colab": {
          "base_uri": "https://localhost:8080/"
        },
        "id": "Y4ahaqBJnAF1",
        "outputId": "2268ff45-79b0-4c66-b672-4defea7fc2d0"
      },
      "execution_count": 15,
      "outputs": [
        {
          "output_type": "stream",
          "name": "stdout",
          "text": [
            "yay\n",
            "yay\n",
            "yay\n",
            "yay\n"
          ]
        }
      ]
    },
    {
      "cell_type": "code",
      "source": [
        "#using break and continue with while loop"
      ],
      "metadata": {
        "id": "mjvPimHznHPw"
      },
      "execution_count": null,
      "outputs": []
    },
    {
      "cell_type": "code",
      "source": [],
      "metadata": {
        "id": "1zTvWo6znHYh"
      },
      "execution_count": null,
      "outputs": []
    },
    {
      "cell_type": "code",
      "source": [
        "\"\"\"\n",
        "task 1 - . Pizza Toppings: Write a loop that prompts the user to enter a series of pizza toppings \n",
        "until they enter a 'quit' value. \n",
        "As they enter each topping, print a message saying you'll add that topping to their pizza.\n",
        "\n",
        "task 2 - . Movie Tickets: A movie theater charges different ticket prices depending on a person's age.\n",
        "If a person is under the age of 3, the ticket is free; if they are between 3 and 12, the ticket is $10;\n",
        "and if they are over age 12, the ticket is $15. Write a loop in which you ask users their age, \n",
        "and then tell them the cost of their movie ticket.\n",
        "\n",
        "Now Edit task 2 and add to the movie tickets program so it does the following\n",
        "1) the program stops running when the user enters age 0 or -1\n",
        "2) At the end of the program display how much money is collected by the movie theatre. \n",
        "\n",
        "task 3 - create a program that asks the user to input 5 numbers. \n",
        "(hint: use while loop that runs 5 times and ask for user input) \n",
        "during the while loop - check if the number is odd or even.\n",
        "at the end, display how many numbers were even and how many were odd\n",
        "\"\"\"\n",
        "\"\"\"\n",
        "Task 4: Create a while loop that prints numbers from 1 to 100. 1, 2, 3, 4, … 100 \n",
        "\n",
        "Task 5: Create a while loop that prints only the  numbers divisible by ten. 10, 20, 30, 40 …. 90, 100  \n",
        "\n",
        "Task 6: Create a while loop that prints all even numbers between 20 and 0. 20, 18, 16, …. 4, 2, 0 \n",
        "\n",
        "\"\"\"\n",
        "print(\"Practice questions\")\n"
      ],
      "metadata": {
        "id": "H886QVQ_j5Mc"
      },
      "execution_count": null,
      "outputs": []
    },
    {
      "cell_type": "code",
      "source": [
        "print(\"Resources\")\n",
        "\n",
        "\"\"\"\n",
        "https://exercism.org/tracks/python/exercises\n",
        "https://www.learneroo.com/modules/106/nodes/549\n",
        "\"\"\""
      ],
      "metadata": {
        "id": "qFj4VUD7lC_5"
      },
      "execution_count": null,
      "outputs": []
    },
    {
      "cell_type": "code",
      "source": [],
      "metadata": {
        "id": "4LGrECOSlDCx"
      },
      "execution_count": null,
      "outputs": []
    },
    {
      "cell_type": "code",
      "source": [],
      "metadata": {
        "id": "05D-TMWIlDGJ"
      },
      "execution_count": null,
      "outputs": []
    },
    {
      "cell_type": "code",
      "source": [],
      "metadata": {
        "id": "H0F6-mchlDJV"
      },
      "execution_count": null,
      "outputs": []
    }
  ]
}