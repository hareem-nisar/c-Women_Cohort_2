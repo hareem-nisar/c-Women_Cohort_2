{
  "nbformat": 4,
  "nbformat_minor": 0,
  "metadata": {
    "colab": {
      "provenance": [],
      "collapsed_sections": []
    },
    "kernelspec": {
      "name": "python3",
      "display_name": "Python 3"
    },
    "language_info": {
      "name": "python"
    }
  },
  "cells": [
    {
      "cell_type": "code",
      "execution_count": 2,
      "metadata": {
        "id": "XVdQd3K3lICV",
        "colab": {
          "base_uri": "https://localhost:8080/"
        },
        "outputId": "246e82e6-f693-40dd-a083-5de0cd8935b7"
      },
      "outputs": [
        {
          "output_type": "stream",
          "name": "stdout",
          "text": [
            "{'Title': 'Rivers of London', 'Pages': 500, 'authors': 'Ben', 'publisher': 'Penguin'}\n",
            "{'Title': 'Rivers of London', 'Pages': 500, 'publisher': 'Penguin'}\n"
          ]
        }
      ],
      "source": [
        "# Revision - Dictionaries - contains keys and values\n",
        "\n",
        "bookA = {\"Title\":\"Rivers of London\", \"Pages\":215, \"authors\":\"Ben\"}\n",
        "\n",
        "bookB = {}\n",
        "\n",
        "bookA[\"Pages\"] = 500\n",
        "\n",
        "bookA[\"publisher\"] = \"Penguin\"\n",
        "\n",
        "print(bookA)\n",
        "\n",
        "del bookA['authors']\n",
        "\n",
        "print(bookA)"
      ]
    },
    {
      "cell_type": "code",
      "source": [],
      "metadata": {
        "id": "LPQRt4gnj68I"
      },
      "execution_count": null,
      "outputs": []
    },
    {
      "cell_type": "code",
      "source": [
        "\n",
        "# revision task 1: \n",
        "\n",
        "\"\"\"\n",
        "A UFO has landed with 3 aliens in it...! \n",
        "Create a profile for each alien \n",
        "(hint: each alien will have its own dictionary e.g. Name, color, height)\n",
        "A kid witnessed these aliens... !!\n",
        "Now ask the kid (user) to describe what an alien looks like (e.g. color). \n",
        "Compare the userinput with each of the three aliens and output the name of the alien the kid was describing. \n",
        "Print a fun newspaper headline!\n",
        "\"\"\"\n"
      ],
      "metadata": {
        "id": "tKXenx5hlM7N"
      },
      "execution_count": null,
      "outputs": []
    },
    {
      "cell_type": "code",
      "source": [
        "# Loop ALL through key-value pairs\n",
        "\n",
        "# for k, v in myDictionary.items():\n",
        "\n",
        "bookA = {\"Title\":\"Rivers of London\", \"Pages\":215, \"authors\":\"Ben\"}\n",
        "\n",
        "for keyO, valley in bookA.items(): #items() is a builtin function\n",
        "  print(keyO, \"has the value:\" , valley ) #end=\" \")"
      ],
      "metadata": {
        "id": "gwIm9YpIlOkx",
        "colab": {
          "base_uri": "https://localhost:8080/"
        },
        "outputId": "59f011d5-849f-40ae-baba-74cb3aa832bb"
      },
      "execution_count": 11,
      "outputs": [
        {
          "output_type": "stream",
          "name": "stdout",
          "text": [
            "Title has the value: Rivers of London\n",
            "Pages has the value: 215\n",
            "authors has the value: Ben\n"
          ]
        }
      ]
    },
    {
      "cell_type": "code",
      "source": [
        "# Loop through all keys \n",
        "\n",
        "# for k in myDictionary.keys()\n",
        "\n",
        "bookA = {\"Title\":\"Rivers of London\", \"Pages\":215, \"Authors\":\"Ben\"}\n",
        "\n",
        "for keyyy in bookA.keys(): #keys() is a builtin function\n",
        "  print(\"They key is = \", keyyy)\n",
        "\n",
        "\n",
        "print(\"--- now sorting first----\")\n",
        "\n",
        "\n",
        "# what about sorted key order???\n",
        "for keyy in sorted(bookA.keys()): #keys() is a builtin function\n",
        "  print(\"They key is = \", keyy)"
      ],
      "metadata": {
        "id": "Q7vDZKb2j8-x",
        "colab": {
          "base_uri": "https://localhost:8080/"
        },
        "outputId": "b355508a-505c-40fe-ae2b-e78a4870b459"
      },
      "execution_count": 16,
      "outputs": [
        {
          "output_type": "stream",
          "name": "stdout",
          "text": [
            "They key is =  Title\n",
            "They key is =  Pages\n",
            "They key is =  Authors\n",
            "--- now sorting first----\n",
            "They key is =  Authors\n",
            "They key is =  Pages\n",
            "They key is =  Title\n"
          ]
        }
      ]
    },
    {
      "cell_type": "code",
      "source": [
        "# Loop through all values \n",
        "\n",
        "# for v in myDictionary.values()\n",
        "\n",
        "for valley in bookA.values(): #values() is a function\n",
        "  print(valley)\n",
        "\n"
      ],
      "metadata": {
        "colab": {
          "base_uri": "https://localhost:8080/"
        },
        "id": "9o5H6zNBv_Xe",
        "outputId": "5c2d2be4-43e1-4494-b56d-85dff6c3f251"
      },
      "execution_count": 13,
      "outputs": [
        {
          "output_type": "stream",
          "name": "stdout",
          "text": [
            "Rivers of London\n",
            "215\n",
            "Ben\n"
          ]
        }
      ]
    },
    {
      "cell_type": "code",
      "source": [
        "# using IF with dictionaries\n",
        "\n",
        "#if 'word' not in myDictionary.keys():\n",
        "\n",
        "bookA = {\"Title\":\"Rivers of London\", \"Pages\":215, \"Authors\":\"Ben\"}\n",
        "\n",
        "if \"Publisher\" in bookA.keys():\n",
        "  print(\"Yay the publisher exixts\")\n",
        "else:\n",
        "  print(\"Adding publisher to the dictionary\")\n",
        "  bookA[\"Publisher\"] = \"Penguin\"\n",
        "\n",
        "print(bookA)\n",
        "print()\n",
        "\n",
        "if 215 in bookA.values():\n",
        "  print(\"ok\")"
      ],
      "metadata": {
        "colab": {
          "base_uri": "https://localhost:8080/"
        },
        "id": "IXXqnKLKwZKl",
        "outputId": "0b597762-c4f3-4644-84c0-ecb2b02f6062"
      },
      "execution_count": 20,
      "outputs": [
        {
          "output_type": "stream",
          "name": "stdout",
          "text": [
            "Adding publisher to the dictionary\n",
            "{'Title': 'Rivers of London', 'Pages': 215, 'Authors': 'Ben', 'Publisher': 'Penguin'}\n",
            "\n",
            "ok\n"
          ]
        }
      ]
    },
    {
      "cell_type": "code",
      "source": [
        "if (\"Publisher\" in bookA.keys()) or (215 in bookA.values()):\n",
        "  print(\"yes it exists\")"
      ],
      "metadata": {
        "colab": {
          "base_uri": "https://localhost:8080/"
        },
        "id": "2bblBv9O8BQc",
        "outputId": "0c13bed5-6ac8-4330-a871-cd0377a229c1"
      },
      "execution_count": 22,
      "outputs": [
        {
          "output_type": "stream",
          "name": "stdout",
          "text": [
            "yes it exists\n"
          ]
        }
      ]
    },
    {
      "cell_type": "code",
      "source": [
        "## for checking later \n",
        "\n",
        "if {\"Publisher\": \"Penguin\"} in bookA.items():\n",
        "  print(\"yeah\")"
      ],
      "metadata": {
        "id": "jBSDxlsK8eph"
      },
      "execution_count": 25,
      "outputs": []
    },
    {
      "cell_type": "code",
      "source": [
        "\"\"\"\n",
        "\n",
        "Practice questions from Python Crash Course\n",
        "\n",
        "Rivers: \n",
        "Make a dictionary containing three major rivers and the country each river runs through.\n",
        " One key-value pair might be 'nile': 'egypt'.\n",
        "• Use a loop to print a sentence about each river, \n",
        " such as The Nile runs through Egypt.\n",
        "• Use a loop to print the name of each river included in the dictionary.\n",
        "• Use a loop to print the name of each country included in the dictionary.\n",
        " \n",
        " \"\"\""
      ],
      "metadata": {
        "id": "09Z8IHGZwklC"
      },
      "execution_count": null,
      "outputs": []
    },
    {
      "cell_type": "code",
      "source": [],
      "metadata": {
        "id": "vk6NTXhJyTTX"
      },
      "execution_count": 26,
      "outputs": []
    },
    {
      "cell_type": "code",
      "source": [],
      "metadata": {
        "id": "qZyXPmRq_K2h"
      },
      "execution_count": null,
      "outputs": []
    }
  ]
}