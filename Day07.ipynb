{
  "nbformat": 4,
  "nbformat_minor": 0,
  "metadata": {
    "colab": {
      "provenance": [],
      "collapsed_sections": []
    },
    "kernelspec": {
      "name": "python3",
      "display_name": "Python 3"
    },
    "language_info": {
      "name": "python"
    }
  },
  "cells": [
    {
      "cell_type": "code",
      "execution_count": null,
      "metadata": {
        "id": "1XmalJbdNYQ4"
      },
      "outputs": [],
      "source": [
        "# Revision - Strings #\n",
        "\n",
        "\"\"\"\n",
        "length\n",
        "indexing\n",
        "loop \n",
        "if\n",
        "methods/functions\n",
        "\"\"\"\n",
        "print(\"Let's get started\")"
      ]
    },
    {
      "cell_type": "code",
      "source": [
        "name = \"HAREEM NisAr\"\n",
        "\n",
        "print(len(name))\n",
        "\n",
        "# indexing\n",
        "print(name[0])\n",
        "\n",
        "print(name[5])\n",
        "\n",
        "print(name[-1])\n",
        "\n",
        "# Slicing\n",
        "print(name[2:8])\n",
        "\n",
        "print(name[6])\n",
        "\n",
        "for i in name:\n",
        "  print(i.upper())\n",
        "print(type(i))\n",
        "\n",
        "name = name.replace(\" \", \"$\")\n",
        "print(name)\n",
        "\n",
        "\n",
        "if \"$\" in name:\n",
        "  print(\"Yes\")\n",
        "\n",
        "\n",
        "name = input()\n",
        "name.upper()\n",
        "\n",
        "\n"
      ],
      "metadata": {
        "colab": {
          "base_uri": "https://localhost:8080/",
          "height": 417
        },
        "id": "fNLyxAzhS-4M",
        "outputId": "c2b222ab-0569-49ac-8eed-e0eb3a0bc3b2"
      },
      "execution_count": null,
      "outputs": [
        {
          "name": "stdout",
          "output_type": "stream",
          "text": [
            "12\n",
            "H\n",
            "M\n",
            "r\n",
            "REEM N\n",
            " \n",
            "H\n",
            "A\n",
            "R\n",
            "E\n",
            "E\n",
            "M\n",
            " \n",
            "N\n",
            "I\n",
            "S\n",
            "A\n",
            "R\n",
            "<class 'str'>\n",
            "HAREEM$NisAr\n",
            "Yes\n",
            "oops\n"
          ]
        },
        {
          "output_type": "execute_result",
          "data": {
            "text/plain": [
              "'OOPS'"
            ],
            "application/vnd.google.colaboratory.intrinsic+json": {
              "type": "string"
            }
          },
          "metadata": {},
          "execution_count": 17
        }
      ]
    },
    {
      "cell_type": "code",
      "source": [
        "# Topic for Day07 -  FOR Loop\n",
        "\n",
        "# A for loop is used for iterating over a sequence (list, dict, string, etc)\n"
      ],
      "metadata": {
        "id": "YwcvEOCBSj4x"
      },
      "execution_count": null,
      "outputs": []
    },
    {
      "cell_type": "code",
      "source": [
        "# loop over string\n",
        "\n",
        "fruit = input(\"enter a bad fruit\")\n",
        "\n",
        "for f in fruit:\n",
        "  print(f.upper())"
      ],
      "metadata": {
        "colab": {
          "base_uri": "https://localhost:8080/"
        },
        "id": "KBbk204G6NMH",
        "outputId": "0d7a32da-fc9b-446d-eb4f-8f45a6d06c20"
      },
      "execution_count": null,
      "outputs": [
        {
          "output_type": "stream",
          "name": "stdout",
          "text": [
            "enter a bad fruitpineapPLe\n",
            "P\n",
            "I\n",
            "N\n",
            "E\n",
            "A\n",
            "P\n",
            "P\n",
            "L\n",
            "E\n"
          ]
        }
      ]
    },
    {
      "cell_type": "code",
      "source": [
        "# loop over a list\n",
        "x = [] #empty list\n",
        "x = [\"apple\", \"banana shake\" , \"soda\", 7]\n",
        "\n",
        "for floof in x:\n",
        "  print(floof, type(floof))\n",
        "\n",
        "print(x[0]) #apple\n",
        "\n",
        "jelly = input(\"enter a flavor\")\n",
        "x.append(jelly)\n",
        "print(x)"
      ],
      "metadata": {
        "colab": {
          "base_uri": "https://localhost:8080/"
        },
        "id": "eCb4hG6k6PRf",
        "outputId": "ca5271ed-8656-44b0-ec70-fbf2df487a18"
      },
      "execution_count": null,
      "outputs": [
        {
          "output_type": "stream",
          "name": "stdout",
          "text": [
            "apple <class 'str'>\n",
            "banana shake <class 'str'>\n",
            "soda <class 'str'>\n",
            "7 <class 'int'>\n",
            "apple\n",
            "enter a flavorrasberry\n",
            "['apple', 'banana shake', 'soda', 7, 'rasberry']\n"
          ]
        }
      ]
    },
    {
      "cell_type": "code",
      "source": [
        "\n",
        "myRandomList = [\"zerberts\", 8.9, 9, True, \"Once upon a time\"]\n",
        "\n",
        "for i in myRandomList:\n",
        "  print(i)\n",
        "  print(type(i))\n",
        "  print()\n",
        "\n",
        "  #if i==9:\n",
        "  #  break\n",
        "\n"
      ],
      "metadata": {
        "colab": {
          "base_uri": "https://localhost:8080/"
        },
        "id": "gH1lBdSdLWKi",
        "outputId": "a5b6f4eb-f1d7-4a46-d382-1585412dcbc9"
      },
      "execution_count": null,
      "outputs": [
        {
          "output_type": "stream",
          "name": "stdout",
          "text": [
            "zerberts\n",
            "<class 'str'>\n",
            "\n",
            "8.9\n",
            "<class 'float'>\n",
            "\n",
            "9\n",
            "<class 'int'>\n",
            "\n"
          ]
        }
      ]
    },
    {
      "cell_type": "code",
      "source": [
        "x = [1,2,3,4,5,6,7]\n",
        "\n",
        "for num in x:\n",
        "  print(num*5)"
      ],
      "metadata": {
        "colab": {
          "base_uri": "https://localhost:8080/"
        },
        "id": "dyraPrF-P4_u",
        "outputId": "e26a2b3d-d1bf-42a8-a060-a693597e213d"
      },
      "execution_count": null,
      "outputs": [
        {
          "output_type": "stream",
          "name": "stdout",
          "text": [
            "5\n",
            "10\n",
            "15\n",
            "20\n",
            "25\n",
            "30\n",
            "35\n"
          ]
        }
      ]
    },
    {
      "cell_type": "code",
      "source": [
        "\n",
        "for num in [0,1,2,3,4,5,6,7]:\n",
        "  print(num*5)"
      ],
      "metadata": {
        "colab": {
          "base_uri": "https://localhost:8080/"
        },
        "id": "Xj9NaI1TQanm",
        "outputId": "8ec4c23f-6b69-4e6b-be47-ac08f138fd2c"
      },
      "execution_count": null,
      "outputs": [
        {
          "output_type": "stream",
          "name": "stdout",
          "text": [
            "0\n",
            "5\n",
            "10\n",
            "15\n",
            "20\n",
            "25\n",
            "30\n",
            "35\n"
          ]
        }
      ]
    },
    {
      "cell_type": "code",
      "source": [],
      "metadata": {
        "id": "EBDhxTliQkbn"
      },
      "execution_count": null,
      "outputs": []
    },
    {
      "cell_type": "code",
      "source": [
        "# loop through a range of numbers\n",
        "\n",
        "for num in range(8):\n",
        "  print(num)"
      ],
      "metadata": {
        "colab": {
          "base_uri": "https://localhost:8080/"
        },
        "id": "4vy3PciB6RFv",
        "outputId": "e0fa540c-fef1-4b39-f501-65e52e6fea6f"
      },
      "execution_count": null,
      "outputs": [
        {
          "output_type": "stream",
          "name": "stdout",
          "text": [
            "0\n",
            "1\n",
            "2\n",
            "3\n",
            "4\n",
            "5\n",
            "6\n",
            "7\n"
          ]
        }
      ]
    },
    {
      "cell_type": "code",
      "source": [
        "for num in range(5,9):\n",
        "  print(num)"
      ],
      "metadata": {
        "colab": {
          "base_uri": "https://localhost:8080/"
        },
        "id": "qKSTU3YvRLwp",
        "outputId": "fd4eccec-e224-495f-f66b-cc0ebbce16b8"
      },
      "execution_count": null,
      "outputs": [
        {
          "output_type": "stream",
          "name": "stdout",
          "text": [
            "5\n",
            "6\n",
            "7\n",
            "8\n"
          ]
        }
      ]
    },
    {
      "cell_type": "code",
      "source": [
        "for num in range(5,50,7):\n",
        "  print(num)"
      ],
      "metadata": {
        "colab": {
          "base_uri": "https://localhost:8080/"
        },
        "id": "TXwAIYC-Rbrc",
        "outputId": "5f8caf5a-a8da-458e-bd23-9a3a2e68de54"
      },
      "execution_count": null,
      "outputs": [
        {
          "output_type": "stream",
          "name": "stdout",
          "text": [
            "5\n",
            "12\n",
            "19\n",
            "26\n",
            "33\n",
            "40\n",
            "47\n"
          ]
        }
      ]
    },
    {
      "cell_type": "code",
      "source": [
        "for num in range(1, 11):\n",
        "  print(num*7)"
      ],
      "metadata": {
        "colab": {
          "base_uri": "https://localhost:8080/"
        },
        "id": "R3fU3kMQSTZh",
        "outputId": "3859b3a4-a9f5-45fb-944b-14e1f45d52a5"
      },
      "execution_count": null,
      "outputs": [
        {
          "output_type": "stream",
          "name": "stdout",
          "text": [
            "7\n",
            "14\n",
            "21\n",
            "28\n",
            "35\n",
            "42\n",
            "49\n",
            "56\n",
            "63\n",
            "70\n"
          ]
        }
      ]
    },
    {
      "cell_type": "code",
      "source": [
        "\n",
        "# task 1 \n",
        "\n",
        "# myList = [] \n",
        "# how many inputs do you want? how many elements in the list?\n",
        "# For loop that runs accordingly\n",
        "#   fill in the list (by user input) using myList.append(myUserInputValue)\n",
        "# print the final list"
      ],
      "metadata": {
        "id": "iTlIbTDMS2xt"
      },
      "execution_count": null,
      "outputs": []
    },
    {
      "cell_type": "code",
      "source": [],
      "metadata": {
        "id": "q3uXKXdMS20c"
      },
      "execution_count": null,
      "outputs": []
    },
    {
      "cell_type": "code",
      "source": [],
      "metadata": {
        "id": "duIYPhlQS24N"
      },
      "execution_count": null,
      "outputs": []
    },
    {
      "cell_type": "code",
      "source": [
        "# nested for loop\n",
        "\n",
        "for num1 in range(1,4): #runs 3 times\n",
        "  \n",
        "  for num2 in range(100,600,100): #runs 5 times\n",
        "\n",
        "    print(num1, num2) # runs 15 times\n",
        "\n",
        "\n",
        "\n"
      ],
      "metadata": {
        "colab": {
          "base_uri": "https://localhost:8080/"
        },
        "id": "xgcwAqKb6fDU",
        "outputId": "8d9bb1e6-4c3a-4ebd-fd8c-5b8eacfcadc8"
      },
      "execution_count": null,
      "outputs": [
        {
          "output_type": "stream",
          "name": "stdout",
          "text": [
            "1 100\n",
            "1 200\n",
            "1 300\n",
            "1 400\n",
            "1 500\n",
            "2 100\n",
            "2 200\n",
            "2 300\n",
            "2 400\n",
            "2 500\n",
            "3 100\n",
            "3 200\n",
            "3 300\n",
            "3 400\n",
            "3 500\n"
          ]
        }
      ]
    },
    {
      "cell_type": "code",
      "source": [
        "for num1 in [\"sweet\", \"sour\", \"bitter\"]: #runs 3 times\n",
        "  \n",
        "  for num2 in [\"soup\", \"candy\"]: #runs 2 times\n",
        "    print(\"\")\n",
        "    \n",
        "  print(num1, num2) # runs 2x3= 6 times"
      ],
      "metadata": {
        "colab": {
          "base_uri": "https://localhost:8080/"
        },
        "id": "h5rOp5vjc76f",
        "outputId": "6d739e5b-aa64-4938-d93b-ed3c714bb029"
      },
      "execution_count": null,
      "outputs": [
        {
          "output_type": "stream",
          "name": "stdout",
          "text": [
            "\n",
            "\n",
            "sweet candy\n",
            "\n",
            "\n",
            "sour candy\n",
            "\n",
            "\n",
            "bitter candy\n"
          ]
        }
      ]
    },
    {
      "cell_type": "code",
      "source": [
        "for num1 in [\"sweet\", \"sour\", \"bitter\"]: #runs 3 times\n",
        "  print(num1)\n",
        "  for num2 in [\"soup\", \"candy\"]: #runs 2 times\n",
        "    print(num2) "
      ],
      "metadata": {
        "colab": {
          "base_uri": "https://localhost:8080/"
        },
        "id": "HHOIvMgMdkch",
        "outputId": "ee6ccfd5-80cb-4e3b-c5bb-478c6b6f4876"
      },
      "execution_count": null,
      "outputs": [
        {
          "output_type": "stream",
          "name": "stdout",
          "text": [
            "sweet\n",
            "soup\n",
            "candy\n",
            "sour\n",
            "soup\n",
            "candy\n",
            "bitter\n",
            "soup\n",
            "candy\n"
          ]
        }
      ]
    },
    {
      "cell_type": "code",
      "source": [
        "num2 = \"zero\"\n",
        "\n",
        "for num1 in [\"sweet\", \"sour\", \"bitter\"]: #runs 3 times\n",
        "  print(num1, num2)\n",
        "  for num2 in [\"soup\", \"candy\"]: #runs 2 times\n",
        "    print()\n",
        "\n",
        "\n",
        "\n",
        "\n",
        "\n",
        "\n",
        "\n"
      ],
      "metadata": {
        "colab": {
          "base_uri": "https://localhost:8080/"
        },
        "id": "_YAmGkZLiq_6",
        "outputId": "eedb161a-a20c-4115-e348-b10472ca5310"
      },
      "execution_count": null,
      "outputs": [
        {
          "output_type": "stream",
          "name": "stdout",
          "text": [
            "sweet zero\n",
            "\n",
            "\n",
            "sour candy\n",
            "\n",
            "\n",
            "bitter candy\n",
            "\n",
            "\n"
          ]
        }
      ]
    },
    {
      "cell_type": "code",
      "source": [
        "for num1 in [\"hello\", \"world\"]:\n",
        "  for num2 in [\"1\", \"2\"]:\n",
        "    print(num1, num2)\n"
      ],
      "metadata": {
        "colab": {
          "base_uri": "https://localhost:8080/"
        },
        "id": "JAaNrDZVk8Pg",
        "outputId": "a7b1ed62-7bc8-4866-dcc8-8516232a497d"
      },
      "execution_count": null,
      "outputs": [
        {
          "output_type": "stream",
          "name": "stdout",
          "text": [
            "hello 1\n",
            "hello 2\n",
            "world 1\n",
            "world 2\n"
          ]
        }
      ]
    },
    {
      "cell_type": "code",
      "source": [
        "\n",
        "\n",
        "for word in [\"hello\", \"kitty\"]:\n",
        "  #print(word) ## word is a string\n",
        "  for alphabet in word:\n",
        "    print(alphabet)\n",
        "\n"
      ],
      "metadata": {
        "colab": {
          "base_uri": "https://localhost:8080/"
        },
        "id": "VoPMHnZLl3-n",
        "outputId": "3cca367c-8eb0-410c-e2a9-6e8496d16a42"
      },
      "execution_count": null,
      "outputs": [
        {
          "output_type": "stream",
          "name": "stdout",
          "text": [
            "h\n",
            "e\n",
            "l\n",
            "l\n",
            "o\n",
            " \n",
            "h\n",
            "o\n",
            "w\n",
            " \n",
            "a\n",
            "r\n",
            "e\n",
            " \n",
            "y\n",
            "o\n",
            "u\n",
            "k\n",
            "i\n",
            "t\n",
            "t\n",
            "y\n"
          ]
        }
      ]
    },
    {
      "cell_type": "code",
      "source": [
        "# Task 2\n",
        "\"\"\"\n",
        "create a list of nicknames. \n",
        "Identify if any of the nicknames is longer than 7 letters\n",
        "when the name is too long spell out the whole name sandwiched between stars or something\n",
        "\n",
        "\"\"\"\n"
      ],
      "metadata": {
        "id": "uxzaJZ5F6lkf"
      },
      "execution_count": null,
      "outputs": []
    },
    {
      "cell_type": "code",
      "source": [
        "# next lecture  -  break, continue, else, pass"
      ],
      "metadata": {
        "id": "OikBP4HY6ltC"
      },
      "execution_count": null,
      "outputs": []
    }
  ]
}