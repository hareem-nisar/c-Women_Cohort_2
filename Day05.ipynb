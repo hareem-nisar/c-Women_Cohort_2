{
  "nbformat": 4,
  "nbformat_minor": 0,
  "metadata": {
    "colab": {
      "provenance": [],
      "collapsed_sections": []
    },
    "kernelspec": {
      "name": "python3",
      "display_name": "Python 3"
    },
    "language_info": {
      "name": "python"
    }
  },
  "cells": [
    {
      "cell_type": "code",
      "execution_count": 2,
      "metadata": {
        "colab": {
          "base_uri": "https://localhost:8080/"
        },
        "id": "8XIZMy8hPl81",
        "outputId": "de814e16-9ca4-4402-9aa9-b5f11ad041c6"
      },
      "outputs": [
        {
          "output_type": "stream",
          "name": "stdout",
          "text": [
            "False\n"
          ]
        }
      ],
      "source": [
        "#REvision \n",
        "\n",
        "x = True \n",
        "y = 0\n",
        "z = False\n",
        "a = not x\n",
        "\n",
        "print(a)"
      ]
    },
    {
      "cell_type": "code",
      "source": [
        "\n",
        "\n",
        "\"\"\"\n",
        "lineA\n",
        "if (condition is True):\n",
        "  line B\n",
        "  line C\n",
        "line D\n",
        "\n",
        "\"\"\""
      ],
      "metadata": {
        "id": "99dA6nvCPt5w"
      },
      "execution_count": null,
      "outputs": []
    },
    {
      "cell_type": "code",
      "source": [
        "num1 = 15\n",
        "num2 = 20\n",
        "\n",
        "print(\"Baby\")\n",
        "\n",
        "if (num1!=num2):\n",
        "  print(\"Mommy\")\n",
        "  print(\"Shark\")\n",
        "\n",
        "print(\"Do Do Do\")"
      ],
      "metadata": {
        "colab": {
          "base_uri": "https://localhost:8080/"
        },
        "id": "7IutJmZ8Vaia",
        "outputId": "56cb8a69-2fe2-49eb-a4bf-83e0de892c29"
      },
      "execution_count": 6,
      "outputs": [
        {
          "output_type": "stream",
          "name": "stdout",
          "text": [
            "Baby\n",
            "Mommy\n",
            "Shark\n",
            "Do Do Do\n"
          ]
        }
      ]
    },
    {
      "cell_type": "code",
      "source": [
        "\"\"\"\n",
        "\n",
        "if (True):\n",
        "  line A \n",
        "  line B \n",
        "  line C\n",
        "\n",
        "else:\n",
        "  line D \n",
        "  lineE\n",
        "  \n",
        "\n",
        "\"\"\""
      ],
      "metadata": {
        "id": "F81lAlmwWDPD"
      },
      "execution_count": null,
      "outputs": []
    },
    {
      "cell_type": "code",
      "source": [
        "color = input(\"Enter the clothing color you want\")\n",
        "\n",
        "if color==\"red\":\n",
        "  print(\"This dress goes in the rack\")\n",
        "else:\n",
        "  print(\"Discard the dress\")\n"
      ],
      "metadata": {
        "colab": {
          "base_uri": "https://localhost:8080/"
        },
        "id": "FakqZ7xEWwSb",
        "outputId": "214996d2-bb35-4f5c-c84a-36be31107a38"
      },
      "execution_count": 8,
      "outputs": [
        {
          "output_type": "stream",
          "name": "stdout",
          "text": [
            "Enter the clothing color you wantred\n",
            "This dress goes in the rack\n"
          ]
        }
      ]
    },
    {
      "cell_type": "code",
      "source": [
        "#Practice Question 1\n",
        "\n",
        "# userA enter their fav color\n",
        "# userB enter their fav color\n",
        "\n",
        "# if the color matches print -- best friends yay!\n",
        "# if not, then print -- oops, stranger danger!\n",
        "\n"
      ],
      "metadata": {
        "id": "WpUumI65XQwd"
      },
      "execution_count": null,
      "outputs": []
    },
    {
      "cell_type": "code",
      "source": [
        "color = input(\"Enter the clothing color you want\")\n",
        "\n",
        "print(\"Lets begin\")\n",
        "\n",
        "if color==\"red\":\n",
        "  print(\"R\")\n",
        "\n",
        "elif color == \"green\":\n",
        "  print(\"G\")\n",
        "\n",
        "elif color == \"blue\":\n",
        "  print(\"B\")\n",
        "\n",
        "else:\n",
        "  print(\"X\")\n",
        "\n",
        "print(\"The end\")\n"
      ],
      "metadata": {
        "colab": {
          "base_uri": "https://localhost:8080/"
        },
        "id": "JNu_2G9TZZKA",
        "outputId": "e18518df-e16d-4558-9550-4cf19ff277d9"
      },
      "execution_count": 10,
      "outputs": [
        {
          "output_type": "stream",
          "name": "stdout",
          "text": [
            "Enter the clothing color you wantsilver\n",
            "Lets begin\n",
            "X\n",
            "The end\n"
          ]
        }
      ]
    },
    {
      "cell_type": "code",
      "source": [
        "x = \"77Alpha\"\n",
        "\n",
        "print(x.isnumeric())"
      ],
      "metadata": {
        "colab": {
          "base_uri": "https://localhost:8080/"
        },
        "id": "5IOAMAEgbHDz",
        "outputId": "7b5e0fe3-a886-42fb-ccb4-c9fbd5da6d8b"
      },
      "execution_count": 32,
      "outputs": [
        {
          "output_type": "stream",
          "name": "stdout",
          "text": [
            "False\n"
          ]
        }
      ]
    },
    {
      "cell_type": "code",
      "source": [
        "#Mandeep's code\n",
        "\n",
        "salutation=input('say something...')\n",
        "if salutation == 'Hello'      or     salutation== 'Hi':\n",
        "  print('How are youÉ')\n",
        "elif (salutation=='Bonjour') :\n",
        "  print ('ca va bienÉ')\n",
        "else:\n",
        "  print('Have a good day!')\n"
      ],
      "metadata": {
        "colab": {
          "base_uri": "https://localhost:8080/"
        },
        "id": "rmIUR_CRcrO8",
        "outputId": "21273e99-9b7b-49b0-e131-fcc5ef32e18d"
      },
      "execution_count": 18,
      "outputs": [
        {
          "output_type": "stream",
          "name": "stdout",
          "text": [
            "say something...Bonjour\n",
            "ca va bienÉ\n"
          ]
        }
      ]
    },
    {
      "cell_type": "code",
      "source": [
        "profit = -2\n",
        "\n",
        "if profit<10:\n",
        "  print(\"your business is dying\")\n",
        "elif profit<30 and profit>=10 :\n",
        "  print(\"thats bad\")\n",
        "elif profit>=30:\n",
        "  print(\"your business is going ok\")\n",
        "else:\n",
        "  print(\"Enter a valid number\")\n",
        "\n"
      ],
      "metadata": {
        "colab": {
          "base_uri": "https://localhost:8080/"
        },
        "id": "MzDE3NnlePk5",
        "outputId": "7843d9db-8b01-4e43-b12a-93fb294aec8f"
      },
      "execution_count": 30,
      "outputs": [
        {
          "output_type": "stream",
          "name": "stdout",
          "text": [
            "your business is dying\n"
          ]
        }
      ]
    },
    {
      "cell_type": "code",
      "source": [
        "\n",
        "\n",
        "\n",
        "# task \n",
        "\n",
        "## LEt's assign grades to the user's marks. \n",
        "## Paper = 100 marks\n",
        "## includes 0 to 100. no negatives. nothing greater than 100\n",
        "## 100 - 75   grade A\n",
        "## 75 - 50 grade B\n",
        "##  50 - 25 grade C\n",
        "## <=25 grade D\n",
        "\n"
      ],
      "metadata": {
        "id": "xj3dV4AIhbQu"
      },
      "execution_count": null,
      "outputs": []
    },
    {
      "cell_type": "code",
      "source": [
        "UM=(input(\"please enter your marks between 0 and 100:\" ))\n",
        "##UM=  \"world\"\n",
        "\n",
        "if UM.isdecimal():\n",
        "  UM = float(UM)\n",
        "else:\n",
        "  print(\"ENter a valid numeric marks\")\n",
        "  ##UM=120\n",
        "  UM=(input(\"please enter your marks:\" ))\n",
        "  UM = float(UM)\n",
        "\n",
        "if UM >=75 and  UM<=100:\n",
        "  print(\"grade A\")\n",
        "\n",
        "elif UM >=50 and UM<75 :\n",
        "  print(\"grade B\")\n",
        "\n",
        "elif UM >26 and UM<50 : \n",
        "  print(\"grade C\") \n",
        "\n",
        "elif UM<=25 and UM>0:\n",
        "  print(\"grade D\")\n",
        "\n",
        "else:\n",
        "  print(\"Please enter correct mark\")\n",
        "\n"
      ],
      "metadata": {
        "colab": {
          "base_uri": "https://localhost:8080/",
          "height": 433
        },
        "id": "-b7EesGgmSxb",
        "outputId": "f5750ecf-4f2a-4161-9f8f-40575c3c043d"
      },
      "execution_count": 42,
      "outputs": [
        {
          "output_type": "stream",
          "name": "stdout",
          "text": [
            "please enter your marks between 0 and 100:70.1\n",
            "ENter a valid numeric marks\n"
          ]
        },
        {
          "output_type": "error",
          "ename": "KeyboardInterrupt",
          "evalue": "ignored",
          "traceback": [
            "\u001b[0;31m---------------------------------------------------------------------------\u001b[0m",
            "\u001b[0;31mKeyboardInterrupt\u001b[0m                         Traceback (most recent call last)",
            "\u001b[0;32m<ipython-input-42-83988dbab4de>\u001b[0m in \u001b[0;36m<module>\u001b[0;34m\u001b[0m\n\u001b[1;32m      7\u001b[0m   \u001b[0mprint\u001b[0m\u001b[0;34m(\u001b[0m\u001b[0;34m\"ENter a valid numeric marks\"\u001b[0m\u001b[0;34m)\u001b[0m\u001b[0;34m\u001b[0m\u001b[0;34m\u001b[0m\u001b[0m\n\u001b[1;32m      8\u001b[0m   \u001b[0;31m##UM=120\u001b[0m\u001b[0;34m\u001b[0m\u001b[0;34m\u001b[0m\u001b[0;34m\u001b[0m\u001b[0m\n\u001b[0;32m----> 9\u001b[0;31m   \u001b[0mUM\u001b[0m\u001b[0;34m=\u001b[0m\u001b[0;34m(\u001b[0m\u001b[0minput\u001b[0m\u001b[0;34m(\u001b[0m\u001b[0;34m\"please enter your marks:\"\u001b[0m \u001b[0;34m)\u001b[0m\u001b[0;34m)\u001b[0m\u001b[0;34m\u001b[0m\u001b[0;34m\u001b[0m\u001b[0m\n\u001b[0m\u001b[1;32m     10\u001b[0m   \u001b[0mUM\u001b[0m \u001b[0;34m=\u001b[0m \u001b[0mfloat\u001b[0m\u001b[0;34m(\u001b[0m\u001b[0mUM\u001b[0m\u001b[0;34m)\u001b[0m\u001b[0;34m\u001b[0m\u001b[0;34m\u001b[0m\u001b[0m\n\u001b[1;32m     11\u001b[0m \u001b[0;34m\u001b[0m\u001b[0m\n",
            "\u001b[0;32m/usr/local/lib/python3.7/dist-packages/ipykernel/kernelbase.py\u001b[0m in \u001b[0;36mraw_input\u001b[0;34m(self, prompt)\u001b[0m\n\u001b[1;32m    861\u001b[0m             \u001b[0mself\u001b[0m\u001b[0;34m.\u001b[0m\u001b[0m_parent_ident\u001b[0m\u001b[0;34m,\u001b[0m\u001b[0;34m\u001b[0m\u001b[0;34m\u001b[0m\u001b[0m\n\u001b[1;32m    862\u001b[0m             \u001b[0mself\u001b[0m\u001b[0;34m.\u001b[0m\u001b[0m_parent_header\u001b[0m\u001b[0;34m,\u001b[0m\u001b[0;34m\u001b[0m\u001b[0;34m\u001b[0m\u001b[0m\n\u001b[0;32m--> 863\u001b[0;31m             \u001b[0mpassword\u001b[0m\u001b[0;34m=\u001b[0m\u001b[0;32mFalse\u001b[0m\u001b[0;34m,\u001b[0m\u001b[0;34m\u001b[0m\u001b[0;34m\u001b[0m\u001b[0m\n\u001b[0m\u001b[1;32m    864\u001b[0m         )\n\u001b[1;32m    865\u001b[0m \u001b[0;34m\u001b[0m\u001b[0m\n",
            "\u001b[0;32m/usr/local/lib/python3.7/dist-packages/ipykernel/kernelbase.py\u001b[0m in \u001b[0;36m_input_request\u001b[0;34m(self, prompt, ident, parent, password)\u001b[0m\n\u001b[1;32m    902\u001b[0m             \u001b[0;32mexcept\u001b[0m \u001b[0mKeyboardInterrupt\u001b[0m\u001b[0;34m:\u001b[0m\u001b[0;34m\u001b[0m\u001b[0;34m\u001b[0m\u001b[0m\n\u001b[1;32m    903\u001b[0m                 \u001b[0;31m# re-raise KeyboardInterrupt, to truncate traceback\u001b[0m\u001b[0;34m\u001b[0m\u001b[0;34m\u001b[0m\u001b[0;34m\u001b[0m\u001b[0m\n\u001b[0;32m--> 904\u001b[0;31m                 \u001b[0;32mraise\u001b[0m \u001b[0mKeyboardInterrupt\u001b[0m\u001b[0;34m(\u001b[0m\u001b[0;34m\"Interrupted by user\"\u001b[0m\u001b[0;34m)\u001b[0m \u001b[0;32mfrom\u001b[0m \u001b[0;32mNone\u001b[0m\u001b[0;34m\u001b[0m\u001b[0;34m\u001b[0m\u001b[0m\n\u001b[0m\u001b[1;32m    905\u001b[0m             \u001b[0;32mexcept\u001b[0m \u001b[0mException\u001b[0m \u001b[0;32mas\u001b[0m \u001b[0me\u001b[0m\u001b[0;34m:\u001b[0m\u001b[0;34m\u001b[0m\u001b[0;34m\u001b[0m\u001b[0m\n\u001b[1;32m    906\u001b[0m                 \u001b[0mself\u001b[0m\u001b[0;34m.\u001b[0m\u001b[0mlog\u001b[0m\u001b[0;34m.\u001b[0m\u001b[0mwarning\u001b[0m\u001b[0;34m(\u001b[0m\u001b[0;34m\"Invalid Message:\"\u001b[0m\u001b[0;34m,\u001b[0m \u001b[0mexc_info\u001b[0m\u001b[0;34m=\u001b[0m\u001b[0;32mTrue\u001b[0m\u001b[0;34m)\u001b[0m\u001b[0;34m\u001b[0m\u001b[0;34m\u001b[0m\u001b[0m\n",
            "\u001b[0;31mKeyboardInterrupt\u001b[0m: Interrupted by user"
          ]
        }
      ]
    },
    {
      "cell_type": "code",
      "source": [
        "\n",
        "# NESTING \n",
        "\n",
        "dry_food = \"chicken\"\n",
        "wet_food = \"water\"\n",
        "\n",
        "if dry_food==\"chicken\":\n",
        "  \n",
        "  if wet_food == \"pasta sauce\":\n",
        "    print(\"I can have a great dinner of pasta\")\n",
        "  else:\n",
        "    print(\"I can make a  chicken roast\")\n",
        "\n",
        "else:\n",
        "  print(\"you just eat your sauce and sleep. \")\n",
        "\n",
        "\n"
      ],
      "metadata": {
        "colab": {
          "base_uri": "https://localhost:8080/"
        },
        "id": "PG5KER_lsDXa",
        "outputId": "56a39156-8180-4722-c43f-1671a0bbcb34"
      },
      "execution_count": 45,
      "outputs": [
        {
          "output_type": "stream",
          "name": "stdout",
          "text": [
            "I can make a  chicken roast\n"
          ]
        }
      ]
    },
    {
      "cell_type": "code",
      "source": [
        "## practice question \n",
        "\n",
        "\"\"\"\n",
        "offer letter - yes or no??\n",
        "\n",
        "you will say YES if... \n",
        "  the salary > 60k \n",
        "  vacation days >9 \n",
        "\n",
        "you wil; negotiate \n",
        "  the salary > 60k \n",
        "  vacation days < 6\n",
        "\n",
        "you will decline offer\n",
        "    the salary is less than 60k\n",
        "\n",
        "\n",
        "\"\"\"\n",
        "\n"
      ],
      "metadata": {
        "colab": {
          "base_uri": "https://localhost:8080/",
          "height": 53
        },
        "id": "E3EAAhY5x9Te",
        "outputId": "1a0ffb2e-308a-4093-eefa-a1f15a168b57"
      },
      "execution_count": 46,
      "outputs": [
        {
          "output_type": "execute_result",
          "data": {
            "text/plain": [
              "'\\noffer letter - yes or no??\\n\\nyou will say YES if... \\n  the salary > 60k \\n  vacation days >9 \\n\\nyou wil; negotiate \\n  the salary > 60k \\n  vacation days <6\\n\\n'"
            ],
            "application/vnd.google.colaboratory.intrinsic+json": {
              "type": "string"
            }
          },
          "metadata": {},
          "execution_count": 46
        }
      ]
    },
    {
      "cell_type": "code",
      "source": [
        "salary = int(input(\"How much salary I will get?\"))\n",
        "vacation_days = int(input(\"How many vacation days I will get?\"))\n",
        "\n",
        "if salary==60000 and vacation_days==9 :\n",
        "  print(\"I accept the offer\")\n",
        "\n",
        "elif salary==60000 and vacation_days>6:\n",
        "  print(\"I want to negotiate the offer\")\n",
        "\n",
        "elif salary>60000:\n",
        "  print(\"I decline the offer\")\n"
      ],
      "metadata": {
        "id": "6R3UHd8jzD0u"
      },
      "execution_count": null,
      "outputs": []
    }
  ]
}